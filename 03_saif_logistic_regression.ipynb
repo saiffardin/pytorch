{
  "nbformat": 4,
  "nbformat_minor": 0,
  "metadata": {
    "colab": {
      "name": "03-saif-logistic-regression.ipynb",
      "provenance": [],
      "collapsed_sections": [
        "yJsms_mSQ5kH",
        "bA2c-aXLSXNq",
        "qfgDu_1lRfvC",
        "gsFGbywxTspH",
        "GeljA8FkXxir",
        "PmeE7ocKZrEL"
      ],
      "toc_visible": true,
      "authorship_tag": "ABX9TyN5NArKqIhXYHfwL7AT3L0I",
      "include_colab_link": true
    },
    "kernelspec": {
      "name": "python3",
      "display_name": "Python 3"
    },
    "language_info": {
      "name": "python"
    },
    "widgets": {
      "application/vnd.jupyter.widget-state+json": {
        "68c47f62105445489c70ca81de432028": {
          "model_module": "@jupyter-widgets/controls",
          "model_name": "HBoxModel",
          "model_module_version": "1.5.0",
          "state": {
            "_view_name": "HBoxView",
            "_dom_classes": [],
            "_model_name": "HBoxModel",
            "_view_module": "@jupyter-widgets/controls",
            "_model_module_version": "1.5.0",
            "_view_count": null,
            "_view_module_version": "1.5.0",
            "box_style": "",
            "layout": "IPY_MODEL_02a9326b0e914ad7be4858ec4a042fa1",
            "_model_module": "@jupyter-widgets/controls",
            "children": [
              "IPY_MODEL_df690177b45e4a6fac8693f01d5bb9f5",
              "IPY_MODEL_3f09e7c651dc4a77aa2aee04185d8607",
              "IPY_MODEL_7ecf4a18e9ee451ba594cdd02af2e222"
            ]
          }
        },
        "02a9326b0e914ad7be4858ec4a042fa1": {
          "model_module": "@jupyter-widgets/base",
          "model_name": "LayoutModel",
          "model_module_version": "1.2.0",
          "state": {
            "_view_name": "LayoutView",
            "grid_template_rows": null,
            "right": null,
            "justify_content": null,
            "_view_module": "@jupyter-widgets/base",
            "overflow": null,
            "_model_module_version": "1.2.0",
            "_view_count": null,
            "flex_flow": null,
            "width": null,
            "min_width": null,
            "border": null,
            "align_items": null,
            "bottom": null,
            "_model_module": "@jupyter-widgets/base",
            "top": null,
            "grid_column": null,
            "overflow_y": null,
            "overflow_x": null,
            "grid_auto_flow": null,
            "grid_area": null,
            "grid_template_columns": null,
            "flex": null,
            "_model_name": "LayoutModel",
            "justify_items": null,
            "grid_row": null,
            "max_height": null,
            "align_content": null,
            "visibility": null,
            "align_self": null,
            "height": null,
            "min_height": null,
            "padding": null,
            "grid_auto_rows": null,
            "grid_gap": null,
            "max_width": null,
            "order": null,
            "_view_module_version": "1.2.0",
            "grid_template_areas": null,
            "object_position": null,
            "object_fit": null,
            "grid_auto_columns": null,
            "margin": null,
            "display": null,
            "left": null
          }
        },
        "df690177b45e4a6fac8693f01d5bb9f5": {
          "model_module": "@jupyter-widgets/controls",
          "model_name": "HTMLModel",
          "model_module_version": "1.5.0",
          "state": {
            "_view_name": "HTMLView",
            "style": "IPY_MODEL_0f3222a075a744e18c0017ec084c10e7",
            "_dom_classes": [],
            "description": "",
            "_model_name": "HTMLModel",
            "placeholder": "​",
            "_view_module": "@jupyter-widgets/controls",
            "_model_module_version": "1.5.0",
            "value": "",
            "_view_count": null,
            "_view_module_version": "1.5.0",
            "description_tooltip": null,
            "_model_module": "@jupyter-widgets/controls",
            "layout": "IPY_MODEL_f3afabd230224347b159feed3640d44e"
          }
        },
        "3f09e7c651dc4a77aa2aee04185d8607": {
          "model_module": "@jupyter-widgets/controls",
          "model_name": "FloatProgressModel",
          "model_module_version": "1.5.0",
          "state": {
            "_view_name": "ProgressView",
            "style": "IPY_MODEL_d0b8b8b9b3c5446cbaf89de3d32502a5",
            "_dom_classes": [],
            "description": "",
            "_model_name": "FloatProgressModel",
            "bar_style": "success",
            "max": 9912422,
            "_view_module": "@jupyter-widgets/controls",
            "_model_module_version": "1.5.0",
            "value": 9912422,
            "_view_count": null,
            "_view_module_version": "1.5.0",
            "orientation": "horizontal",
            "min": 0,
            "description_tooltip": null,
            "_model_module": "@jupyter-widgets/controls",
            "layout": "IPY_MODEL_7799c925ec214ea9917ad1172dd6209b"
          }
        },
        "7ecf4a18e9ee451ba594cdd02af2e222": {
          "model_module": "@jupyter-widgets/controls",
          "model_name": "HTMLModel",
          "model_module_version": "1.5.0",
          "state": {
            "_view_name": "HTMLView",
            "style": "IPY_MODEL_46301ecbb40c4f28bd50bc5bd89b74e4",
            "_dom_classes": [],
            "description": "",
            "_model_name": "HTMLModel",
            "placeholder": "​",
            "_view_module": "@jupyter-widgets/controls",
            "_model_module_version": "1.5.0",
            "value": " 9913344/? [00:00&lt;00:00, 13250561.01it/s]",
            "_view_count": null,
            "_view_module_version": "1.5.0",
            "description_tooltip": null,
            "_model_module": "@jupyter-widgets/controls",
            "layout": "IPY_MODEL_eebc9a25f0364da38376a086f670bf2f"
          }
        },
        "0f3222a075a744e18c0017ec084c10e7": {
          "model_module": "@jupyter-widgets/controls",
          "model_name": "DescriptionStyleModel",
          "model_module_version": "1.5.0",
          "state": {
            "_view_name": "StyleView",
            "_model_name": "DescriptionStyleModel",
            "description_width": "",
            "_view_module": "@jupyter-widgets/base",
            "_model_module_version": "1.5.0",
            "_view_count": null,
            "_view_module_version": "1.2.0",
            "_model_module": "@jupyter-widgets/controls"
          }
        },
        "f3afabd230224347b159feed3640d44e": {
          "model_module": "@jupyter-widgets/base",
          "model_name": "LayoutModel",
          "model_module_version": "1.2.0",
          "state": {
            "_view_name": "LayoutView",
            "grid_template_rows": null,
            "right": null,
            "justify_content": null,
            "_view_module": "@jupyter-widgets/base",
            "overflow": null,
            "_model_module_version": "1.2.0",
            "_view_count": null,
            "flex_flow": null,
            "width": null,
            "min_width": null,
            "border": null,
            "align_items": null,
            "bottom": null,
            "_model_module": "@jupyter-widgets/base",
            "top": null,
            "grid_column": null,
            "overflow_y": null,
            "overflow_x": null,
            "grid_auto_flow": null,
            "grid_area": null,
            "grid_template_columns": null,
            "flex": null,
            "_model_name": "LayoutModel",
            "justify_items": null,
            "grid_row": null,
            "max_height": null,
            "align_content": null,
            "visibility": null,
            "align_self": null,
            "height": null,
            "min_height": null,
            "padding": null,
            "grid_auto_rows": null,
            "grid_gap": null,
            "max_width": null,
            "order": null,
            "_view_module_version": "1.2.0",
            "grid_template_areas": null,
            "object_position": null,
            "object_fit": null,
            "grid_auto_columns": null,
            "margin": null,
            "display": null,
            "left": null
          }
        },
        "d0b8b8b9b3c5446cbaf89de3d32502a5": {
          "model_module": "@jupyter-widgets/controls",
          "model_name": "ProgressStyleModel",
          "model_module_version": "1.5.0",
          "state": {
            "_view_name": "StyleView",
            "_model_name": "ProgressStyleModel",
            "description_width": "",
            "_view_module": "@jupyter-widgets/base",
            "_model_module_version": "1.5.0",
            "_view_count": null,
            "_view_module_version": "1.2.0",
            "bar_color": null,
            "_model_module": "@jupyter-widgets/controls"
          }
        },
        "7799c925ec214ea9917ad1172dd6209b": {
          "model_module": "@jupyter-widgets/base",
          "model_name": "LayoutModel",
          "model_module_version": "1.2.0",
          "state": {
            "_view_name": "LayoutView",
            "grid_template_rows": null,
            "right": null,
            "justify_content": null,
            "_view_module": "@jupyter-widgets/base",
            "overflow": null,
            "_model_module_version": "1.2.0",
            "_view_count": null,
            "flex_flow": null,
            "width": null,
            "min_width": null,
            "border": null,
            "align_items": null,
            "bottom": null,
            "_model_module": "@jupyter-widgets/base",
            "top": null,
            "grid_column": null,
            "overflow_y": null,
            "overflow_x": null,
            "grid_auto_flow": null,
            "grid_area": null,
            "grid_template_columns": null,
            "flex": null,
            "_model_name": "LayoutModel",
            "justify_items": null,
            "grid_row": null,
            "max_height": null,
            "align_content": null,
            "visibility": null,
            "align_self": null,
            "height": null,
            "min_height": null,
            "padding": null,
            "grid_auto_rows": null,
            "grid_gap": null,
            "max_width": null,
            "order": null,
            "_view_module_version": "1.2.0",
            "grid_template_areas": null,
            "object_position": null,
            "object_fit": null,
            "grid_auto_columns": null,
            "margin": null,
            "display": null,
            "left": null
          }
        },
        "46301ecbb40c4f28bd50bc5bd89b74e4": {
          "model_module": "@jupyter-widgets/controls",
          "model_name": "DescriptionStyleModel",
          "model_module_version": "1.5.0",
          "state": {
            "_view_name": "StyleView",
            "_model_name": "DescriptionStyleModel",
            "description_width": "",
            "_view_module": "@jupyter-widgets/base",
            "_model_module_version": "1.5.0",
            "_view_count": null,
            "_view_module_version": "1.2.0",
            "_model_module": "@jupyter-widgets/controls"
          }
        },
        "eebc9a25f0364da38376a086f670bf2f": {
          "model_module": "@jupyter-widgets/base",
          "model_name": "LayoutModel",
          "model_module_version": "1.2.0",
          "state": {
            "_view_name": "LayoutView",
            "grid_template_rows": null,
            "right": null,
            "justify_content": null,
            "_view_module": "@jupyter-widgets/base",
            "overflow": null,
            "_model_module_version": "1.2.0",
            "_view_count": null,
            "flex_flow": null,
            "width": null,
            "min_width": null,
            "border": null,
            "align_items": null,
            "bottom": null,
            "_model_module": "@jupyter-widgets/base",
            "top": null,
            "grid_column": null,
            "overflow_y": null,
            "overflow_x": null,
            "grid_auto_flow": null,
            "grid_area": null,
            "grid_template_columns": null,
            "flex": null,
            "_model_name": "LayoutModel",
            "justify_items": null,
            "grid_row": null,
            "max_height": null,
            "align_content": null,
            "visibility": null,
            "align_self": null,
            "height": null,
            "min_height": null,
            "padding": null,
            "grid_auto_rows": null,
            "grid_gap": null,
            "max_width": null,
            "order": null,
            "_view_module_version": "1.2.0",
            "grid_template_areas": null,
            "object_position": null,
            "object_fit": null,
            "grid_auto_columns": null,
            "margin": null,
            "display": null,
            "left": null
          }
        },
        "5c985773b4c3470a932ff5f4fdfc22ce": {
          "model_module": "@jupyter-widgets/controls",
          "model_name": "HBoxModel",
          "model_module_version": "1.5.0",
          "state": {
            "_view_name": "HBoxView",
            "_dom_classes": [],
            "_model_name": "HBoxModel",
            "_view_module": "@jupyter-widgets/controls",
            "_model_module_version": "1.5.0",
            "_view_count": null,
            "_view_module_version": "1.5.0",
            "box_style": "",
            "layout": "IPY_MODEL_f2f5a1589b694179810a753d8b69a9b1",
            "_model_module": "@jupyter-widgets/controls",
            "children": [
              "IPY_MODEL_1da1529b653c4f62864dba1bbb41712c",
              "IPY_MODEL_bbe4403a36b4417c935ebce0fe678d17",
              "IPY_MODEL_7c1ddffaf89c4e9c8434c3b6288e2263"
            ]
          }
        },
        "f2f5a1589b694179810a753d8b69a9b1": {
          "model_module": "@jupyter-widgets/base",
          "model_name": "LayoutModel",
          "model_module_version": "1.2.0",
          "state": {
            "_view_name": "LayoutView",
            "grid_template_rows": null,
            "right": null,
            "justify_content": null,
            "_view_module": "@jupyter-widgets/base",
            "overflow": null,
            "_model_module_version": "1.2.0",
            "_view_count": null,
            "flex_flow": null,
            "width": null,
            "min_width": null,
            "border": null,
            "align_items": null,
            "bottom": null,
            "_model_module": "@jupyter-widgets/base",
            "top": null,
            "grid_column": null,
            "overflow_y": null,
            "overflow_x": null,
            "grid_auto_flow": null,
            "grid_area": null,
            "grid_template_columns": null,
            "flex": null,
            "_model_name": "LayoutModel",
            "justify_items": null,
            "grid_row": null,
            "max_height": null,
            "align_content": null,
            "visibility": null,
            "align_self": null,
            "height": null,
            "min_height": null,
            "padding": null,
            "grid_auto_rows": null,
            "grid_gap": null,
            "max_width": null,
            "order": null,
            "_view_module_version": "1.2.0",
            "grid_template_areas": null,
            "object_position": null,
            "object_fit": null,
            "grid_auto_columns": null,
            "margin": null,
            "display": null,
            "left": null
          }
        },
        "1da1529b653c4f62864dba1bbb41712c": {
          "model_module": "@jupyter-widgets/controls",
          "model_name": "HTMLModel",
          "model_module_version": "1.5.0",
          "state": {
            "_view_name": "HTMLView",
            "style": "IPY_MODEL_941857b9fc8e4ff0ac4607a96129556a",
            "_dom_classes": [],
            "description": "",
            "_model_name": "HTMLModel",
            "placeholder": "​",
            "_view_module": "@jupyter-widgets/controls",
            "_model_module_version": "1.5.0",
            "value": "",
            "_view_count": null,
            "_view_module_version": "1.5.0",
            "description_tooltip": null,
            "_model_module": "@jupyter-widgets/controls",
            "layout": "IPY_MODEL_891895c738814f8f9f4f3fcdc07f1fc2"
          }
        },
        "bbe4403a36b4417c935ebce0fe678d17": {
          "model_module": "@jupyter-widgets/controls",
          "model_name": "FloatProgressModel",
          "model_module_version": "1.5.0",
          "state": {
            "_view_name": "ProgressView",
            "style": "IPY_MODEL_e070018e1a7f4fc8a4852c854629ed4d",
            "_dom_classes": [],
            "description": "",
            "_model_name": "FloatProgressModel",
            "bar_style": "success",
            "max": 28881,
            "_view_module": "@jupyter-widgets/controls",
            "_model_module_version": "1.5.0",
            "value": 28881,
            "_view_count": null,
            "_view_module_version": "1.5.0",
            "orientation": "horizontal",
            "min": 0,
            "description_tooltip": null,
            "_model_module": "@jupyter-widgets/controls",
            "layout": "IPY_MODEL_ec6775643e40442cb7555836d04a9708"
          }
        },
        "7c1ddffaf89c4e9c8434c3b6288e2263": {
          "model_module": "@jupyter-widgets/controls",
          "model_name": "HTMLModel",
          "model_module_version": "1.5.0",
          "state": {
            "_view_name": "HTMLView",
            "style": "IPY_MODEL_d5559a7ab2564519aeecc11d87e9bd9f",
            "_dom_classes": [],
            "description": "",
            "_model_name": "HTMLModel",
            "placeholder": "​",
            "_view_module": "@jupyter-widgets/controls",
            "_model_module_version": "1.5.0",
            "value": " 29696/? [00:00&lt;00:00, 368071.88it/s]",
            "_view_count": null,
            "_view_module_version": "1.5.0",
            "description_tooltip": null,
            "_model_module": "@jupyter-widgets/controls",
            "layout": "IPY_MODEL_9d0fc3cbb52f452a92dc515771f07822"
          }
        },
        "941857b9fc8e4ff0ac4607a96129556a": {
          "model_module": "@jupyter-widgets/controls",
          "model_name": "DescriptionStyleModel",
          "model_module_version": "1.5.0",
          "state": {
            "_view_name": "StyleView",
            "_model_name": "DescriptionStyleModel",
            "description_width": "",
            "_view_module": "@jupyter-widgets/base",
            "_model_module_version": "1.5.0",
            "_view_count": null,
            "_view_module_version": "1.2.0",
            "_model_module": "@jupyter-widgets/controls"
          }
        },
        "891895c738814f8f9f4f3fcdc07f1fc2": {
          "model_module": "@jupyter-widgets/base",
          "model_name": "LayoutModel",
          "model_module_version": "1.2.0",
          "state": {
            "_view_name": "LayoutView",
            "grid_template_rows": null,
            "right": null,
            "justify_content": null,
            "_view_module": "@jupyter-widgets/base",
            "overflow": null,
            "_model_module_version": "1.2.0",
            "_view_count": null,
            "flex_flow": null,
            "width": null,
            "min_width": null,
            "border": null,
            "align_items": null,
            "bottom": null,
            "_model_module": "@jupyter-widgets/base",
            "top": null,
            "grid_column": null,
            "overflow_y": null,
            "overflow_x": null,
            "grid_auto_flow": null,
            "grid_area": null,
            "grid_template_columns": null,
            "flex": null,
            "_model_name": "LayoutModel",
            "justify_items": null,
            "grid_row": null,
            "max_height": null,
            "align_content": null,
            "visibility": null,
            "align_self": null,
            "height": null,
            "min_height": null,
            "padding": null,
            "grid_auto_rows": null,
            "grid_gap": null,
            "max_width": null,
            "order": null,
            "_view_module_version": "1.2.0",
            "grid_template_areas": null,
            "object_position": null,
            "object_fit": null,
            "grid_auto_columns": null,
            "margin": null,
            "display": null,
            "left": null
          }
        },
        "e070018e1a7f4fc8a4852c854629ed4d": {
          "model_module": "@jupyter-widgets/controls",
          "model_name": "ProgressStyleModel",
          "model_module_version": "1.5.0",
          "state": {
            "_view_name": "StyleView",
            "_model_name": "ProgressStyleModel",
            "description_width": "",
            "_view_module": "@jupyter-widgets/base",
            "_model_module_version": "1.5.0",
            "_view_count": null,
            "_view_module_version": "1.2.0",
            "bar_color": null,
            "_model_module": "@jupyter-widgets/controls"
          }
        },
        "ec6775643e40442cb7555836d04a9708": {
          "model_module": "@jupyter-widgets/base",
          "model_name": "LayoutModel",
          "model_module_version": "1.2.0",
          "state": {
            "_view_name": "LayoutView",
            "grid_template_rows": null,
            "right": null,
            "justify_content": null,
            "_view_module": "@jupyter-widgets/base",
            "overflow": null,
            "_model_module_version": "1.2.0",
            "_view_count": null,
            "flex_flow": null,
            "width": null,
            "min_width": null,
            "border": null,
            "align_items": null,
            "bottom": null,
            "_model_module": "@jupyter-widgets/base",
            "top": null,
            "grid_column": null,
            "overflow_y": null,
            "overflow_x": null,
            "grid_auto_flow": null,
            "grid_area": null,
            "grid_template_columns": null,
            "flex": null,
            "_model_name": "LayoutModel",
            "justify_items": null,
            "grid_row": null,
            "max_height": null,
            "align_content": null,
            "visibility": null,
            "align_self": null,
            "height": null,
            "min_height": null,
            "padding": null,
            "grid_auto_rows": null,
            "grid_gap": null,
            "max_width": null,
            "order": null,
            "_view_module_version": "1.2.0",
            "grid_template_areas": null,
            "object_position": null,
            "object_fit": null,
            "grid_auto_columns": null,
            "margin": null,
            "display": null,
            "left": null
          }
        },
        "d5559a7ab2564519aeecc11d87e9bd9f": {
          "model_module": "@jupyter-widgets/controls",
          "model_name": "DescriptionStyleModel",
          "model_module_version": "1.5.0",
          "state": {
            "_view_name": "StyleView",
            "_model_name": "DescriptionStyleModel",
            "description_width": "",
            "_view_module": "@jupyter-widgets/base",
            "_model_module_version": "1.5.0",
            "_view_count": null,
            "_view_module_version": "1.2.0",
            "_model_module": "@jupyter-widgets/controls"
          }
        },
        "9d0fc3cbb52f452a92dc515771f07822": {
          "model_module": "@jupyter-widgets/base",
          "model_name": "LayoutModel",
          "model_module_version": "1.2.0",
          "state": {
            "_view_name": "LayoutView",
            "grid_template_rows": null,
            "right": null,
            "justify_content": null,
            "_view_module": "@jupyter-widgets/base",
            "overflow": null,
            "_model_module_version": "1.2.0",
            "_view_count": null,
            "flex_flow": null,
            "width": null,
            "min_width": null,
            "border": null,
            "align_items": null,
            "bottom": null,
            "_model_module": "@jupyter-widgets/base",
            "top": null,
            "grid_column": null,
            "overflow_y": null,
            "overflow_x": null,
            "grid_auto_flow": null,
            "grid_area": null,
            "grid_template_columns": null,
            "flex": null,
            "_model_name": "LayoutModel",
            "justify_items": null,
            "grid_row": null,
            "max_height": null,
            "align_content": null,
            "visibility": null,
            "align_self": null,
            "height": null,
            "min_height": null,
            "padding": null,
            "grid_auto_rows": null,
            "grid_gap": null,
            "max_width": null,
            "order": null,
            "_view_module_version": "1.2.0",
            "grid_template_areas": null,
            "object_position": null,
            "object_fit": null,
            "grid_auto_columns": null,
            "margin": null,
            "display": null,
            "left": null
          }
        },
        "786309d2275e4e1693144313a8ff8dba": {
          "model_module": "@jupyter-widgets/controls",
          "model_name": "HBoxModel",
          "model_module_version": "1.5.0",
          "state": {
            "_view_name": "HBoxView",
            "_dom_classes": [],
            "_model_name": "HBoxModel",
            "_view_module": "@jupyter-widgets/controls",
            "_model_module_version": "1.5.0",
            "_view_count": null,
            "_view_module_version": "1.5.0",
            "box_style": "",
            "layout": "IPY_MODEL_3871960e162741c2989ae101c44dd63d",
            "_model_module": "@jupyter-widgets/controls",
            "children": [
              "IPY_MODEL_8187521d58ca4ff4a4a2c4d60c7282ac",
              "IPY_MODEL_01bbcbe630be499cbac7d12f4690bf59",
              "IPY_MODEL_6140bfe3bdd24756bb88d88b259cc295"
            ]
          }
        },
        "3871960e162741c2989ae101c44dd63d": {
          "model_module": "@jupyter-widgets/base",
          "model_name": "LayoutModel",
          "model_module_version": "1.2.0",
          "state": {
            "_view_name": "LayoutView",
            "grid_template_rows": null,
            "right": null,
            "justify_content": null,
            "_view_module": "@jupyter-widgets/base",
            "overflow": null,
            "_model_module_version": "1.2.0",
            "_view_count": null,
            "flex_flow": null,
            "width": null,
            "min_width": null,
            "border": null,
            "align_items": null,
            "bottom": null,
            "_model_module": "@jupyter-widgets/base",
            "top": null,
            "grid_column": null,
            "overflow_y": null,
            "overflow_x": null,
            "grid_auto_flow": null,
            "grid_area": null,
            "grid_template_columns": null,
            "flex": null,
            "_model_name": "LayoutModel",
            "justify_items": null,
            "grid_row": null,
            "max_height": null,
            "align_content": null,
            "visibility": null,
            "align_self": null,
            "height": null,
            "min_height": null,
            "padding": null,
            "grid_auto_rows": null,
            "grid_gap": null,
            "max_width": null,
            "order": null,
            "_view_module_version": "1.2.0",
            "grid_template_areas": null,
            "object_position": null,
            "object_fit": null,
            "grid_auto_columns": null,
            "margin": null,
            "display": null,
            "left": null
          }
        },
        "8187521d58ca4ff4a4a2c4d60c7282ac": {
          "model_module": "@jupyter-widgets/controls",
          "model_name": "HTMLModel",
          "model_module_version": "1.5.0",
          "state": {
            "_view_name": "HTMLView",
            "style": "IPY_MODEL_3914571f1f5847c5b4b4b31c22b8e5c2",
            "_dom_classes": [],
            "description": "",
            "_model_name": "HTMLModel",
            "placeholder": "​",
            "_view_module": "@jupyter-widgets/controls",
            "_model_module_version": "1.5.0",
            "value": "",
            "_view_count": null,
            "_view_module_version": "1.5.0",
            "description_tooltip": null,
            "_model_module": "@jupyter-widgets/controls",
            "layout": "IPY_MODEL_648432fa6ace43518ae5d066c2c88049"
          }
        },
        "01bbcbe630be499cbac7d12f4690bf59": {
          "model_module": "@jupyter-widgets/controls",
          "model_name": "FloatProgressModel",
          "model_module_version": "1.5.0",
          "state": {
            "_view_name": "ProgressView",
            "style": "IPY_MODEL_770085e212fe4d9789b3ec7d79934b8b",
            "_dom_classes": [],
            "description": "",
            "_model_name": "FloatProgressModel",
            "bar_style": "success",
            "max": 1648877,
            "_view_module": "@jupyter-widgets/controls",
            "_model_module_version": "1.5.0",
            "value": 1648877,
            "_view_count": null,
            "_view_module_version": "1.5.0",
            "orientation": "horizontal",
            "min": 0,
            "description_tooltip": null,
            "_model_module": "@jupyter-widgets/controls",
            "layout": "IPY_MODEL_bc0ac148a6934d11a815b6266d4583bd"
          }
        },
        "6140bfe3bdd24756bb88d88b259cc295": {
          "model_module": "@jupyter-widgets/controls",
          "model_name": "HTMLModel",
          "model_module_version": "1.5.0",
          "state": {
            "_view_name": "HTMLView",
            "style": "IPY_MODEL_fc55b7f5c8394bdeb8213a43f129b6b6",
            "_dom_classes": [],
            "description": "",
            "_model_name": "HTMLModel",
            "placeholder": "​",
            "_view_module": "@jupyter-widgets/controls",
            "_model_module_version": "1.5.0",
            "value": " 1649664/? [00:00&lt;00:00, 7382907.24it/s]",
            "_view_count": null,
            "_view_module_version": "1.5.0",
            "description_tooltip": null,
            "_model_module": "@jupyter-widgets/controls",
            "layout": "IPY_MODEL_1381268e36b34ae3b6bc4efad35d5bdc"
          }
        },
        "3914571f1f5847c5b4b4b31c22b8e5c2": {
          "model_module": "@jupyter-widgets/controls",
          "model_name": "DescriptionStyleModel",
          "model_module_version": "1.5.0",
          "state": {
            "_view_name": "StyleView",
            "_model_name": "DescriptionStyleModel",
            "description_width": "",
            "_view_module": "@jupyter-widgets/base",
            "_model_module_version": "1.5.0",
            "_view_count": null,
            "_view_module_version": "1.2.0",
            "_model_module": "@jupyter-widgets/controls"
          }
        },
        "648432fa6ace43518ae5d066c2c88049": {
          "model_module": "@jupyter-widgets/base",
          "model_name": "LayoutModel",
          "model_module_version": "1.2.0",
          "state": {
            "_view_name": "LayoutView",
            "grid_template_rows": null,
            "right": null,
            "justify_content": null,
            "_view_module": "@jupyter-widgets/base",
            "overflow": null,
            "_model_module_version": "1.2.0",
            "_view_count": null,
            "flex_flow": null,
            "width": null,
            "min_width": null,
            "border": null,
            "align_items": null,
            "bottom": null,
            "_model_module": "@jupyter-widgets/base",
            "top": null,
            "grid_column": null,
            "overflow_y": null,
            "overflow_x": null,
            "grid_auto_flow": null,
            "grid_area": null,
            "grid_template_columns": null,
            "flex": null,
            "_model_name": "LayoutModel",
            "justify_items": null,
            "grid_row": null,
            "max_height": null,
            "align_content": null,
            "visibility": null,
            "align_self": null,
            "height": null,
            "min_height": null,
            "padding": null,
            "grid_auto_rows": null,
            "grid_gap": null,
            "max_width": null,
            "order": null,
            "_view_module_version": "1.2.0",
            "grid_template_areas": null,
            "object_position": null,
            "object_fit": null,
            "grid_auto_columns": null,
            "margin": null,
            "display": null,
            "left": null
          }
        },
        "770085e212fe4d9789b3ec7d79934b8b": {
          "model_module": "@jupyter-widgets/controls",
          "model_name": "ProgressStyleModel",
          "model_module_version": "1.5.0",
          "state": {
            "_view_name": "StyleView",
            "_model_name": "ProgressStyleModel",
            "description_width": "",
            "_view_module": "@jupyter-widgets/base",
            "_model_module_version": "1.5.0",
            "_view_count": null,
            "_view_module_version": "1.2.0",
            "bar_color": null,
            "_model_module": "@jupyter-widgets/controls"
          }
        },
        "bc0ac148a6934d11a815b6266d4583bd": {
          "model_module": "@jupyter-widgets/base",
          "model_name": "LayoutModel",
          "model_module_version": "1.2.0",
          "state": {
            "_view_name": "LayoutView",
            "grid_template_rows": null,
            "right": null,
            "justify_content": null,
            "_view_module": "@jupyter-widgets/base",
            "overflow": null,
            "_model_module_version": "1.2.0",
            "_view_count": null,
            "flex_flow": null,
            "width": null,
            "min_width": null,
            "border": null,
            "align_items": null,
            "bottom": null,
            "_model_module": "@jupyter-widgets/base",
            "top": null,
            "grid_column": null,
            "overflow_y": null,
            "overflow_x": null,
            "grid_auto_flow": null,
            "grid_area": null,
            "grid_template_columns": null,
            "flex": null,
            "_model_name": "LayoutModel",
            "justify_items": null,
            "grid_row": null,
            "max_height": null,
            "align_content": null,
            "visibility": null,
            "align_self": null,
            "height": null,
            "min_height": null,
            "padding": null,
            "grid_auto_rows": null,
            "grid_gap": null,
            "max_width": null,
            "order": null,
            "_view_module_version": "1.2.0",
            "grid_template_areas": null,
            "object_position": null,
            "object_fit": null,
            "grid_auto_columns": null,
            "margin": null,
            "display": null,
            "left": null
          }
        },
        "fc55b7f5c8394bdeb8213a43f129b6b6": {
          "model_module": "@jupyter-widgets/controls",
          "model_name": "DescriptionStyleModel",
          "model_module_version": "1.5.0",
          "state": {
            "_view_name": "StyleView",
            "_model_name": "DescriptionStyleModel",
            "description_width": "",
            "_view_module": "@jupyter-widgets/base",
            "_model_module_version": "1.5.0",
            "_view_count": null,
            "_view_module_version": "1.2.0",
            "_model_module": "@jupyter-widgets/controls"
          }
        },
        "1381268e36b34ae3b6bc4efad35d5bdc": {
          "model_module": "@jupyter-widgets/base",
          "model_name": "LayoutModel",
          "model_module_version": "1.2.0",
          "state": {
            "_view_name": "LayoutView",
            "grid_template_rows": null,
            "right": null,
            "justify_content": null,
            "_view_module": "@jupyter-widgets/base",
            "overflow": null,
            "_model_module_version": "1.2.0",
            "_view_count": null,
            "flex_flow": null,
            "width": null,
            "min_width": null,
            "border": null,
            "align_items": null,
            "bottom": null,
            "_model_module": "@jupyter-widgets/base",
            "top": null,
            "grid_column": null,
            "overflow_y": null,
            "overflow_x": null,
            "grid_auto_flow": null,
            "grid_area": null,
            "grid_template_columns": null,
            "flex": null,
            "_model_name": "LayoutModel",
            "justify_items": null,
            "grid_row": null,
            "max_height": null,
            "align_content": null,
            "visibility": null,
            "align_self": null,
            "height": null,
            "min_height": null,
            "padding": null,
            "grid_auto_rows": null,
            "grid_gap": null,
            "max_width": null,
            "order": null,
            "_view_module_version": "1.2.0",
            "grid_template_areas": null,
            "object_position": null,
            "object_fit": null,
            "grid_auto_columns": null,
            "margin": null,
            "display": null,
            "left": null
          }
        },
        "695b95a53e4e4128bca40dd504c297e1": {
          "model_module": "@jupyter-widgets/controls",
          "model_name": "HBoxModel",
          "model_module_version": "1.5.0",
          "state": {
            "_view_name": "HBoxView",
            "_dom_classes": [],
            "_model_name": "HBoxModel",
            "_view_module": "@jupyter-widgets/controls",
            "_model_module_version": "1.5.0",
            "_view_count": null,
            "_view_module_version": "1.5.0",
            "box_style": "",
            "layout": "IPY_MODEL_f0855b0ccce54c17a9edcf55bb54fb4c",
            "_model_module": "@jupyter-widgets/controls",
            "children": [
              "IPY_MODEL_ebf636f341a34607b5e20efaeeb0532f",
              "IPY_MODEL_e468d34770924a6fb2dcb45634d1117f",
              "IPY_MODEL_2e12b81cbcd0413ba5129a9eb2161db4"
            ]
          }
        },
        "f0855b0ccce54c17a9edcf55bb54fb4c": {
          "model_module": "@jupyter-widgets/base",
          "model_name": "LayoutModel",
          "model_module_version": "1.2.0",
          "state": {
            "_view_name": "LayoutView",
            "grid_template_rows": null,
            "right": null,
            "justify_content": null,
            "_view_module": "@jupyter-widgets/base",
            "overflow": null,
            "_model_module_version": "1.2.0",
            "_view_count": null,
            "flex_flow": null,
            "width": null,
            "min_width": null,
            "border": null,
            "align_items": null,
            "bottom": null,
            "_model_module": "@jupyter-widgets/base",
            "top": null,
            "grid_column": null,
            "overflow_y": null,
            "overflow_x": null,
            "grid_auto_flow": null,
            "grid_area": null,
            "grid_template_columns": null,
            "flex": null,
            "_model_name": "LayoutModel",
            "justify_items": null,
            "grid_row": null,
            "max_height": null,
            "align_content": null,
            "visibility": null,
            "align_self": null,
            "height": null,
            "min_height": null,
            "padding": null,
            "grid_auto_rows": null,
            "grid_gap": null,
            "max_width": null,
            "order": null,
            "_view_module_version": "1.2.0",
            "grid_template_areas": null,
            "object_position": null,
            "object_fit": null,
            "grid_auto_columns": null,
            "margin": null,
            "display": null,
            "left": null
          }
        },
        "ebf636f341a34607b5e20efaeeb0532f": {
          "model_module": "@jupyter-widgets/controls",
          "model_name": "HTMLModel",
          "model_module_version": "1.5.0",
          "state": {
            "_view_name": "HTMLView",
            "style": "IPY_MODEL_cf9208bb53374151bc945d12bee51a78",
            "_dom_classes": [],
            "description": "",
            "_model_name": "HTMLModel",
            "placeholder": "​",
            "_view_module": "@jupyter-widgets/controls",
            "_model_module_version": "1.5.0",
            "value": "",
            "_view_count": null,
            "_view_module_version": "1.5.0",
            "description_tooltip": null,
            "_model_module": "@jupyter-widgets/controls",
            "layout": "IPY_MODEL_222fa6f3a80e472680b895ba2ffc0430"
          }
        },
        "e468d34770924a6fb2dcb45634d1117f": {
          "model_module": "@jupyter-widgets/controls",
          "model_name": "FloatProgressModel",
          "model_module_version": "1.5.0",
          "state": {
            "_view_name": "ProgressView",
            "style": "IPY_MODEL_12f85fd6a66444dfa1977232aa41ce6f",
            "_dom_classes": [],
            "description": "",
            "_model_name": "FloatProgressModel",
            "bar_style": "success",
            "max": 4542,
            "_view_module": "@jupyter-widgets/controls",
            "_model_module_version": "1.5.0",
            "value": 4542,
            "_view_count": null,
            "_view_module_version": "1.5.0",
            "orientation": "horizontal",
            "min": 0,
            "description_tooltip": null,
            "_model_module": "@jupyter-widgets/controls",
            "layout": "IPY_MODEL_a2a6cf79ac58410390fde5e1c0eac9ab"
          }
        },
        "2e12b81cbcd0413ba5129a9eb2161db4": {
          "model_module": "@jupyter-widgets/controls",
          "model_name": "HTMLModel",
          "model_module_version": "1.5.0",
          "state": {
            "_view_name": "HTMLView",
            "style": "IPY_MODEL_91c4ec14df1d473fa910d231943ea3bf",
            "_dom_classes": [],
            "description": "",
            "_model_name": "HTMLModel",
            "placeholder": "​",
            "_view_module": "@jupyter-widgets/controls",
            "_model_module_version": "1.5.0",
            "value": " 5120/? [00:00&lt;00:00, 129641.39it/s]",
            "_view_count": null,
            "_view_module_version": "1.5.0",
            "description_tooltip": null,
            "_model_module": "@jupyter-widgets/controls",
            "layout": "IPY_MODEL_fd3c421847024ee0bdfcbd91d6de2131"
          }
        },
        "cf9208bb53374151bc945d12bee51a78": {
          "model_module": "@jupyter-widgets/controls",
          "model_name": "DescriptionStyleModel",
          "model_module_version": "1.5.0",
          "state": {
            "_view_name": "StyleView",
            "_model_name": "DescriptionStyleModel",
            "description_width": "",
            "_view_module": "@jupyter-widgets/base",
            "_model_module_version": "1.5.0",
            "_view_count": null,
            "_view_module_version": "1.2.0",
            "_model_module": "@jupyter-widgets/controls"
          }
        },
        "222fa6f3a80e472680b895ba2ffc0430": {
          "model_module": "@jupyter-widgets/base",
          "model_name": "LayoutModel",
          "model_module_version": "1.2.0",
          "state": {
            "_view_name": "LayoutView",
            "grid_template_rows": null,
            "right": null,
            "justify_content": null,
            "_view_module": "@jupyter-widgets/base",
            "overflow": null,
            "_model_module_version": "1.2.0",
            "_view_count": null,
            "flex_flow": null,
            "width": null,
            "min_width": null,
            "border": null,
            "align_items": null,
            "bottom": null,
            "_model_module": "@jupyter-widgets/base",
            "top": null,
            "grid_column": null,
            "overflow_y": null,
            "overflow_x": null,
            "grid_auto_flow": null,
            "grid_area": null,
            "grid_template_columns": null,
            "flex": null,
            "_model_name": "LayoutModel",
            "justify_items": null,
            "grid_row": null,
            "max_height": null,
            "align_content": null,
            "visibility": null,
            "align_self": null,
            "height": null,
            "min_height": null,
            "padding": null,
            "grid_auto_rows": null,
            "grid_gap": null,
            "max_width": null,
            "order": null,
            "_view_module_version": "1.2.0",
            "grid_template_areas": null,
            "object_position": null,
            "object_fit": null,
            "grid_auto_columns": null,
            "margin": null,
            "display": null,
            "left": null
          }
        },
        "12f85fd6a66444dfa1977232aa41ce6f": {
          "model_module": "@jupyter-widgets/controls",
          "model_name": "ProgressStyleModel",
          "model_module_version": "1.5.0",
          "state": {
            "_view_name": "StyleView",
            "_model_name": "ProgressStyleModel",
            "description_width": "",
            "_view_module": "@jupyter-widgets/base",
            "_model_module_version": "1.5.0",
            "_view_count": null,
            "_view_module_version": "1.2.0",
            "bar_color": null,
            "_model_module": "@jupyter-widgets/controls"
          }
        },
        "a2a6cf79ac58410390fde5e1c0eac9ab": {
          "model_module": "@jupyter-widgets/base",
          "model_name": "LayoutModel",
          "model_module_version": "1.2.0",
          "state": {
            "_view_name": "LayoutView",
            "grid_template_rows": null,
            "right": null,
            "justify_content": null,
            "_view_module": "@jupyter-widgets/base",
            "overflow": null,
            "_model_module_version": "1.2.0",
            "_view_count": null,
            "flex_flow": null,
            "width": null,
            "min_width": null,
            "border": null,
            "align_items": null,
            "bottom": null,
            "_model_module": "@jupyter-widgets/base",
            "top": null,
            "grid_column": null,
            "overflow_y": null,
            "overflow_x": null,
            "grid_auto_flow": null,
            "grid_area": null,
            "grid_template_columns": null,
            "flex": null,
            "_model_name": "LayoutModel",
            "justify_items": null,
            "grid_row": null,
            "max_height": null,
            "align_content": null,
            "visibility": null,
            "align_self": null,
            "height": null,
            "min_height": null,
            "padding": null,
            "grid_auto_rows": null,
            "grid_gap": null,
            "max_width": null,
            "order": null,
            "_view_module_version": "1.2.0",
            "grid_template_areas": null,
            "object_position": null,
            "object_fit": null,
            "grid_auto_columns": null,
            "margin": null,
            "display": null,
            "left": null
          }
        },
        "91c4ec14df1d473fa910d231943ea3bf": {
          "model_module": "@jupyter-widgets/controls",
          "model_name": "DescriptionStyleModel",
          "model_module_version": "1.5.0",
          "state": {
            "_view_name": "StyleView",
            "_model_name": "DescriptionStyleModel",
            "description_width": "",
            "_view_module": "@jupyter-widgets/base",
            "_model_module_version": "1.5.0",
            "_view_count": null,
            "_view_module_version": "1.2.0",
            "_model_module": "@jupyter-widgets/controls"
          }
        },
        "fd3c421847024ee0bdfcbd91d6de2131": {
          "model_module": "@jupyter-widgets/base",
          "model_name": "LayoutModel",
          "model_module_version": "1.2.0",
          "state": {
            "_view_name": "LayoutView",
            "grid_template_rows": null,
            "right": null,
            "justify_content": null,
            "_view_module": "@jupyter-widgets/base",
            "overflow": null,
            "_model_module_version": "1.2.0",
            "_view_count": null,
            "flex_flow": null,
            "width": null,
            "min_width": null,
            "border": null,
            "align_items": null,
            "bottom": null,
            "_model_module": "@jupyter-widgets/base",
            "top": null,
            "grid_column": null,
            "overflow_y": null,
            "overflow_x": null,
            "grid_auto_flow": null,
            "grid_area": null,
            "grid_template_columns": null,
            "flex": null,
            "_model_name": "LayoutModel",
            "justify_items": null,
            "grid_row": null,
            "max_height": null,
            "align_content": null,
            "visibility": null,
            "align_self": null,
            "height": null,
            "min_height": null,
            "padding": null,
            "grid_auto_rows": null,
            "grid_gap": null,
            "max_width": null,
            "order": null,
            "_view_module_version": "1.2.0",
            "grid_template_areas": null,
            "object_position": null,
            "object_fit": null,
            "grid_auto_columns": null,
            "margin": null,
            "display": null,
            "left": null
          }
        }
      }
    }
  },
  "cells": [
    {
      "cell_type": "markdown",
      "metadata": {
        "id": "view-in-github",
        "colab_type": "text"
      },
      "source": [
        "<a href=\"https://colab.research.google.com/github/saiffardin/pytorch/blob/main/03_saif_logistic_regression.ipynb\" target=\"_parent\"><img src=\"https://colab.research.google.com/assets/colab-badge.svg\" alt=\"Open In Colab\"/></a>"
      ]
    },
    {
      "cell_type": "markdown",
      "metadata": {
        "id": "M2tG6jqt91Ws"
      },
      "source": [
        "# Imports"
      ]
    },
    {
      "cell_type": "code",
      "metadata": {
        "id": "ElQ1t8kYppDC"
      },
      "source": [
        "import torch\n",
        "import torchvision\n",
        "from torchvision.datasets import MNIST\n",
        "import torchvision.transforms as transforms\n",
        "\n",
        "from torch.utils.data import random_split\n",
        "from torch.utils.data import DataLoader\n",
        "\n",
        "import torch.nn as nn\n",
        "import torch.nn.functional as F\n",
        "\n",
        "import matplotlib.pyplot as plt"
      ],
      "execution_count": null,
      "outputs": []
    },
    {
      "cell_type": "markdown",
      "metadata": {
        "id": "x2CRsKAi8HOB"
      },
      "source": [
        "# Loading MNIST dataset"
      ]
    },
    {
      "cell_type": "code",
      "metadata": {
        "colab": {
          "base_uri": "https://localhost:8080/",
          "height": 477,
          "referenced_widgets": [
            "68c47f62105445489c70ca81de432028",
            "02a9326b0e914ad7be4858ec4a042fa1",
            "df690177b45e4a6fac8693f01d5bb9f5",
            "3f09e7c651dc4a77aa2aee04185d8607",
            "7ecf4a18e9ee451ba594cdd02af2e222",
            "0f3222a075a744e18c0017ec084c10e7",
            "f3afabd230224347b159feed3640d44e",
            "d0b8b8b9b3c5446cbaf89de3d32502a5",
            "7799c925ec214ea9917ad1172dd6209b",
            "46301ecbb40c4f28bd50bc5bd89b74e4",
            "eebc9a25f0364da38376a086f670bf2f",
            "5c985773b4c3470a932ff5f4fdfc22ce",
            "f2f5a1589b694179810a753d8b69a9b1",
            "1da1529b653c4f62864dba1bbb41712c",
            "bbe4403a36b4417c935ebce0fe678d17",
            "7c1ddffaf89c4e9c8434c3b6288e2263",
            "941857b9fc8e4ff0ac4607a96129556a",
            "891895c738814f8f9f4f3fcdc07f1fc2",
            "e070018e1a7f4fc8a4852c854629ed4d",
            "ec6775643e40442cb7555836d04a9708",
            "d5559a7ab2564519aeecc11d87e9bd9f",
            "9d0fc3cbb52f452a92dc515771f07822",
            "786309d2275e4e1693144313a8ff8dba",
            "3871960e162741c2989ae101c44dd63d",
            "8187521d58ca4ff4a4a2c4d60c7282ac",
            "01bbcbe630be499cbac7d12f4690bf59",
            "6140bfe3bdd24756bb88d88b259cc295",
            "3914571f1f5847c5b4b4b31c22b8e5c2",
            "648432fa6ace43518ae5d066c2c88049",
            "770085e212fe4d9789b3ec7d79934b8b",
            "bc0ac148a6934d11a815b6266d4583bd",
            "fc55b7f5c8394bdeb8213a43f129b6b6",
            "1381268e36b34ae3b6bc4efad35d5bdc",
            "695b95a53e4e4128bca40dd504c297e1",
            "f0855b0ccce54c17a9edcf55bb54fb4c",
            "ebf636f341a34607b5e20efaeeb0532f",
            "e468d34770924a6fb2dcb45634d1117f",
            "2e12b81cbcd0413ba5129a9eb2161db4",
            "cf9208bb53374151bc945d12bee51a78",
            "222fa6f3a80e472680b895ba2ffc0430",
            "12f85fd6a66444dfa1977232aa41ce6f",
            "a2a6cf79ac58410390fde5e1c0eac9ab",
            "91c4ec14df1d473fa910d231943ea3bf",
            "fd3c421847024ee0bdfcbd91d6de2131"
          ]
        },
        "id": "jw3TQEwP3k53",
        "outputId": "2efea154-352a-429f-d7f9-1b1e88e7ee5f"
      },
      "source": [
        "# MNIST dataset (images and labels)\n",
        "train_dataset = MNIST(root='data/',\n",
        "                download=True, \n",
        "                train=True,\n",
        "                transform=transforms.ToTensor())\n",
        "\n",
        "test_dataset = MNIST(root='data/', train=False)"
      ],
      "execution_count": null,
      "outputs": [
        {
          "output_type": "stream",
          "name": "stdout",
          "text": [
            "Downloading http://yann.lecun.com/exdb/mnist/train-images-idx3-ubyte.gz\n",
            "Downloading http://yann.lecun.com/exdb/mnist/train-images-idx3-ubyte.gz to data/MNIST/raw/train-images-idx3-ubyte.gz\n"
          ]
        },
        {
          "output_type": "display_data",
          "data": {
            "application/vnd.jupyter.widget-view+json": {
              "model_id": "68c47f62105445489c70ca81de432028",
              "version_minor": 0,
              "version_major": 2
            },
            "text/plain": [
              "  0%|          | 0/9912422 [00:00<?, ?it/s]"
            ]
          },
          "metadata": {}
        },
        {
          "output_type": "stream",
          "name": "stdout",
          "text": [
            "Extracting data/MNIST/raw/train-images-idx3-ubyte.gz to data/MNIST/raw\n",
            "\n",
            "Downloading http://yann.lecun.com/exdb/mnist/train-labels-idx1-ubyte.gz\n",
            "Downloading http://yann.lecun.com/exdb/mnist/train-labels-idx1-ubyte.gz to data/MNIST/raw/train-labels-idx1-ubyte.gz\n"
          ]
        },
        {
          "output_type": "display_data",
          "data": {
            "application/vnd.jupyter.widget-view+json": {
              "model_id": "5c985773b4c3470a932ff5f4fdfc22ce",
              "version_minor": 0,
              "version_major": 2
            },
            "text/plain": [
              "  0%|          | 0/28881 [00:00<?, ?it/s]"
            ]
          },
          "metadata": {}
        },
        {
          "output_type": "stream",
          "name": "stdout",
          "text": [
            "Extracting data/MNIST/raw/train-labels-idx1-ubyte.gz to data/MNIST/raw\n",
            "\n",
            "Downloading http://yann.lecun.com/exdb/mnist/t10k-images-idx3-ubyte.gz\n",
            "Downloading http://yann.lecun.com/exdb/mnist/t10k-images-idx3-ubyte.gz to data/MNIST/raw/t10k-images-idx3-ubyte.gz\n"
          ]
        },
        {
          "output_type": "display_data",
          "data": {
            "application/vnd.jupyter.widget-view+json": {
              "model_id": "786309d2275e4e1693144313a8ff8dba",
              "version_minor": 0,
              "version_major": 2
            },
            "text/plain": [
              "  0%|          | 0/1648877 [00:00<?, ?it/s]"
            ]
          },
          "metadata": {}
        },
        {
          "output_type": "stream",
          "name": "stdout",
          "text": [
            "Extracting data/MNIST/raw/t10k-images-idx3-ubyte.gz to data/MNIST/raw\n",
            "\n",
            "Downloading http://yann.lecun.com/exdb/mnist/t10k-labels-idx1-ubyte.gz\n",
            "Downloading http://yann.lecun.com/exdb/mnist/t10k-labels-idx1-ubyte.gz to data/MNIST/raw/t10k-labels-idx1-ubyte.gz\n"
          ]
        },
        {
          "output_type": "display_data",
          "data": {
            "application/vnd.jupyter.widget-view+json": {
              "model_id": "695b95a53e4e4128bca40dd504c297e1",
              "version_minor": 0,
              "version_major": 2
            },
            "text/plain": [
              "  0%|          | 0/4542 [00:00<?, ?it/s]"
            ]
          },
          "metadata": {}
        },
        {
          "output_type": "stream",
          "name": "stdout",
          "text": [
            "Extracting data/MNIST/raw/t10k-labels-idx1-ubyte.gz to data/MNIST/raw\n",
            "\n"
          ]
        },
        {
          "output_type": "stream",
          "name": "stderr",
          "text": [
            "/usr/local/lib/python3.7/dist-packages/torchvision/datasets/mnist.py:498: UserWarning: The given NumPy array is not writeable, and PyTorch does not support non-writeable tensors. This means you can write to the underlying (supposedly non-writeable) NumPy array using the tensor. You may want to copy the array to protect its data or make it writeable before converting it to a tensor. This type of warning will be suppressed for the rest of this program. (Triggered internally at  /pytorch/torch/csrc/utils/tensor_numpy.cpp:180.)\n",
            "  return torch.from_numpy(parsed.astype(m[2], copy=False)).view(*s)\n"
          ]
        }
      ]
    },
    {
      "cell_type": "code",
      "metadata": {
        "colab": {
          "base_uri": "https://localhost:8080/"
        },
        "id": "YvG0k_Wa34xV",
        "outputId": "cc1f5ed3-ec40-4e09-b992-0ba8742f1f72"
      },
      "source": [
        "print(len(train_dataset))\n",
        "print(len(test_dataset))"
      ],
      "execution_count": null,
      "outputs": [
        {
          "output_type": "stream",
          "name": "stdout",
          "text": [
            "60000\n",
            "10000\n"
          ]
        }
      ]
    },
    {
      "cell_type": "code",
      "metadata": {
        "id": "ga0EkP9k6QUH"
      },
      "source": [
        "train_dataset[0]"
      ],
      "execution_count": null,
      "outputs": []
    },
    {
      "cell_type": "code",
      "metadata": {
        "id": "f06QPcwR39WN"
      },
      "source": [
        "img,label = train_dataset[0]"
      ],
      "execution_count": null,
      "outputs": []
    },
    {
      "cell_type": "code",
      "metadata": {
        "colab": {
          "base_uri": "https://localhost:8080/"
        },
        "id": "uhzTdQiZ59A0",
        "outputId": "baa515f7-a5f8-4139-da36-a10ff975ba7d"
      },
      "source": [
        "print(img.size())\n",
        "print(label)"
      ],
      "execution_count": null,
      "outputs": [
        {
          "output_type": "stream",
          "name": "stdout",
          "text": [
            "torch.Size([1, 28, 28])\n",
            "5\n"
          ]
        }
      ]
    },
    {
      "cell_type": "code",
      "metadata": {
        "colab": {
          "base_uri": "https://localhost:8080/"
        },
        "id": "pP2ujPg57CTb",
        "outputId": "63c8bc3c-06c3-4a00-c33b-72673a32a833"
      },
      "source": [
        "show_img = img.reshape(28,28)\n",
        "print(show_img.size())"
      ],
      "execution_count": null,
      "outputs": [
        {
          "output_type": "stream",
          "name": "stdout",
          "text": [
            "torch.Size([28, 28])\n"
          ]
        }
      ]
    },
    {
      "cell_type": "code",
      "metadata": {
        "colab": {
          "base_uri": "https://localhost:8080/",
          "height": 283
        },
        "id": "VLDUgg2A6Faz",
        "outputId": "605cd861-3991-412e-8568-2da750c4c10b"
      },
      "source": [
        "plt.imshow(show_img, cmap='gray')\n",
        "print('Label:', label)"
      ],
      "execution_count": null,
      "outputs": [
        {
          "output_type": "stream",
          "name": "stdout",
          "text": [
            "Label: 5\n"
          ]
        },
        {
          "output_type": "display_data",
          "data": {
            "image/png": "[encoded data removed]",
            "text/plain": [
              "<Figure size 432x288 with 1 Axes>"
            ]
          },
          "metadata": {
            "needs_background": "light"
          }
        }
      ]
    },
    {
      "cell_type": "code",
      "metadata": {
        "colab": {
          "base_uri": "https://localhost:8080/",
          "height": 283
        },
        "id": "ov_cVhts6bnj",
        "outputId": "5c11360f-a815-49a7-c618-c8e15b057a92"
      },
      "source": [
        "plt.imshow(show_img[15:21,15:20], cmap='gray')\n",
        "print('Label:', label)"
      ],
      "execution_count": null,
      "outputs": [
        {
          "output_type": "stream",
          "name": "stdout",
          "text": [
            "Label: 5\n"
          ]
        },
        {
          "output_type": "display_data",
          "data": {
            "image/png": "[encoded data removed]",
            "text/plain": [
              "<Figure size 432x288 with 1 Axes>"
            ]
          },
          "metadata": {
            "needs_background": "light"
          }
        }
      ]
    },
    {
      "cell_type": "markdown",
      "metadata": {
        "id": "iRuAxfxI8SNV"
      },
      "source": [
        "# Training and Validation Datasets"
      ]
    },
    {
      "cell_type": "code",
      "metadata": {
        "colab": {
          "base_uri": "https://localhost:8080/"
        },
        "id": "MPpJbckj7zxR",
        "outputId": "e85099e7-56fe-4822-b130-f710923a66da"
      },
      "source": [
        "train_ds, val_ds = random_split(train_dataset, [50000, 10000])\n",
        "len(train_ds), len(val_ds)"
      ],
      "execution_count": null,
      "outputs": [
        {
          "output_type": "execute_result",
          "data": {
            "text/plain": [
              "(50000, 10000)"
            ]
          },
          "metadata": {},
          "execution_count": 8
        }
      ]
    },
    {
      "cell_type": "code",
      "metadata": {
        "id": "UYHMBUvU8vns"
      },
      "source": [
        "# DataLoader -> splits the dataset into batches\n",
        "\n",
        "batch_size = 128\n",
        "\n",
        "train_loader = DataLoader(train_ds, batch_size, shuffle=True)\n",
        "val_loader = DataLoader(val_ds, batch_size)"
      ],
      "execution_count": null,
      "outputs": []
    },
    {
      "cell_type": "markdown",
      "metadata": {
        "id": "QOKvfwCP9hzW"
      },
      "source": [
        "We set `shuffle=True` for the training data loader to ensure that the batches generated in each epoch are different. This randomization helps generalize & speed up the training process. On the other hand, since the validation data loader is used only for evaluating the model, there is no need to shuffle the images. \n"
      ]
    },
    {
      "cell_type": "code",
      "metadata": {
        "colab": {
          "base_uri": "https://localhost:8080/"
        },
        "id": "iaHFsLvs_V0V",
        "outputId": "422b7f3d-2fab-4ac2-8b94-c203ca7f88e6"
      },
      "source": [
        "print(f\"batch size:{batch_size}\")\n",
        "\n",
        "print(f\"train_ds:{len(train_ds)} \\t train_loader:{len(train_loader)}\")\n",
        "print(f\"val_ds:{len(val_ds)} \\t val_loader:{len(val_loader)}\")"
      ],
      "execution_count": null,
      "outputs": [
        {
          "output_type": "stream",
          "name": "stdout",
          "text": [
            "batch size:128\n",
            "train_ds:50000 \t train_loader:391\n",
            "val_ds:10000 \t val_loader:79\n"
          ]
        }
      ]
    },
    {
      "cell_type": "markdown",
      "metadata": {
        "id": "cqUnpfeu9swX"
      },
      "source": [
        "# Model (Single Batch)"
      ]
    },
    {
      "cell_type": "markdown",
      "metadata": {
        "id": "MR7EidrrQDN4"
      },
      "source": [
        "## A Linear Model"
      ]
    },
    {
      "cell_type": "code",
      "metadata": {
        "id": "kmQos6l79x_r"
      },
      "source": [
        "input_size = 28*28\n",
        "num_classes = 10\n",
        "\n",
        "# Logistic regression model\n",
        "model = nn.Linear(input_size, num_classes)"
      ],
      "execution_count": null,
      "outputs": []
    },
    {
      "cell_type": "code",
      "metadata": {
        "colab": {
          "base_uri": "https://localhost:8080/"
        },
        "id": "HAj8gVdUfTTY",
        "outputId": "3b011a02-962d-4eaa-9b33-5a4846cb8001"
      },
      "source": [
        "print(model.weight.shape)\n",
        "# model.weight"
      ],
      "execution_count": null,
      "outputs": [
        {
          "output_type": "stream",
          "name": "stdout",
          "text": [
            "torch.Size([10, 784])\n"
          ]
        }
      ]
    },
    {
      "cell_type": "code",
      "metadata": {
        "colab": {
          "base_uri": "https://localhost:8080/"
        },
        "id": "fRnviQ34fTTY",
        "outputId": "24a3821b-ec12-4e0e-8e1a-93e91072dd1c"
      },
      "source": [
        "print(model.bias.shape)\n",
        "# model.bias"
      ],
      "execution_count": null,
      "outputs": [
        {
          "output_type": "stream",
          "name": "stdout",
          "text": [
            "torch.Size([10])\n"
          ]
        }
      ]
    },
    {
      "cell_type": "markdown",
      "metadata": {
        "id": "V1PD_XNUQWal"
      },
      "source": [
        "## Working with a Single Batch"
      ]
    },
    {
      "cell_type": "code",
      "metadata": {
        "colab": {
          "base_uri": "https://localhost:8080/"
        },
        "id": "uj3bXrA4BNwl",
        "outputId": "fca74a61-920c-41a4-ae2c-92fcc6cc3116"
      },
      "source": [
        "print(images.shape)\n",
        "print(labels.size())\n",
        "print(labels)"
      ],
      "execution_count": null,
      "outputs": [
        {
          "output_type": "stream",
          "name": "stdout",
          "text": [
            "torch.Size([128, 1, 28, 28])\n",
            "torch.Size([128])\n",
            "tensor([1, 3, 6, 3, 0, 7, 3, 8, 3, 9, 4, 5, 2, 9, 5, 4, 1, 9, 3, 5, 7, 2, 2, 9,\n",
            "        8, 1, 0, 1, 5, 1, 8, 7, 5, 7, 3, 6, 0, 2, 2, 4, 6, 2, 7, 5, 7, 3, 9, 5,\n",
            "        1, 6, 5, 7, 9, 4, 7, 0, 8, 9, 0, 0, 3, 1, 5, 1, 7, 8, 5, 8, 6, 3, 6, 3,\n",
            "        7, 9, 8, 9, 4, 3, 2, 4, 1, 7, 1, 9, 7, 8, 5, 3, 6, 3, 7, 0, 8, 6, 8, 0,\n",
            "        3, 4, 9, 6, 5, 3, 6, 9, 1, 5, 1, 6, 7, 7, 4, 5, 2, 6, 7, 9, 9, 6, 5, 2,\n",
            "        1, 0, 3, 7, 2, 5, 9, 7])\n"
          ]
        }
      ]
    },
    {
      "cell_type": "code",
      "metadata": {
        "id": "RFTIJTzxC4c7"
      },
      "source": [
        "outputs = torch.tensor([])\n",
        "\n",
        "for i,img in enumerate(images):\n",
        "    img = img.reshape(-1,28*28)\n",
        "    # print(i,img.shape)\n",
        "\n",
        "    op = model(img)\n",
        "    outputs = torch.cat((outputs,op), 0)"
      ],
      "execution_count": null,
      "outputs": []
    },
    {
      "cell_type": "code",
      "metadata": {
        "colab": {
          "base_uri": "https://localhost:8080/"
        },
        "id": "46F3HEkcFhjN",
        "outputId": "c4041f2a-a3ad-47fd-e6e7-b4f5f54eb6c3"
      },
      "source": [
        "print(outputs.size())  "
      ],
      "execution_count": null,
      "outputs": [
        {
          "output_type": "stream",
          "name": "stdout",
          "text": [
            "torch.Size([128, 10])\n"
          ]
        }
      ]
    },
    {
      "cell_type": "code",
      "metadata": {
        "colab": {
          "base_uri": "https://localhost:8080/"
        },
        "id": "Q0iTUj6YHtxM",
        "outputId": "abee3b80-9eee-4ad8-cce0-6c16f5acd103"
      },
      "source": [
        "outputs"
      ],
      "execution_count": null,
      "outputs": [
        {
          "output_type": "execute_result",
          "data": {
            "text/plain": [
              "tensor([[-0.0526,  0.0897, -0.0563,  ...,  0.1054,  0.0216, -0.1916],\n",
              "        [ 0.1677, -0.1418, -0.0254,  ...,  0.2466,  0.0077, -0.4364],\n",
              "        [ 0.1279,  0.1540, -0.2837,  ...,  0.3508, -0.3807, -0.2283],\n",
              "        ...,\n",
              "        [-0.1288,  0.1303, -0.0166,  ...,  0.1493, -0.0029, -0.3932],\n",
              "        [ 0.3172,  0.6046, -0.2356,  ...,  0.6865, -0.5101, -0.1360],\n",
              "        [ 0.0570,  0.0858, -0.0202,  ...,  0.0465, -0.1390, -0.2741]],\n",
              "       grad_fn=<CatBackward>)"
            ]
          },
          "metadata": {},
          "execution_count": 116
        }
      ]
    },
    {
      "cell_type": "code",
      "metadata": {
        "colab": {
          "base_uri": "https://localhost:8080/"
        },
        "id": "Te474smwJR2b",
        "outputId": "5eed0805-fea1-43f2-abc7-6ff6f37fa4d2"
      },
      "source": [
        "outputs[:5]"
      ],
      "execution_count": null,
      "outputs": [
        {
          "output_type": "execute_result",
          "data": {
            "text/plain": [
              "tensor([[-0.0526,  0.0897, -0.0563,  0.1824, -0.1651, -0.1363,  0.0760,  0.1054,\n",
              "          0.0216, -0.1916],\n",
              "        [ 0.1677, -0.1418, -0.0254,  0.0594,  0.0016,  0.2575, -0.0829,  0.2466,\n",
              "          0.0077, -0.4364],\n",
              "        [ 0.1279,  0.1540, -0.2837,  0.2259, -0.0663,  0.1243, -0.0512,  0.3508,\n",
              "         -0.3807, -0.2283],\n",
              "        [ 0.0337,  0.1056,  0.0429,  0.0839, -0.2607,  0.1994,  0.0632,  0.3069,\n",
              "          0.0040, -0.5070],\n",
              "        [ 0.1809,  0.1988, -0.1053,  0.1803,  0.2213,  0.4027,  0.0524,  0.2882,\n",
              "         -0.0181, -0.3330]], grad_fn=<SliceBackward>)"
            ]
          },
          "metadata": {},
          "execution_count": 122
        }
      ]
    },
    {
      "cell_type": "markdown",
      "metadata": {
        "id": "yJsms_mSQ5kH"
      },
      "source": [
        "## Softmax Func"
      ]
    },
    {
      "cell_type": "code",
      "metadata": {
        "id": "VSSrsIktZaA1"
      },
      "source": [
        ""
      ],
      "execution_count": null,
      "outputs": []
    },
    {
      "cell_type": "code",
      "metadata": {
        "id": "4dzZHHqBKrZ2"
      },
      "source": [
        "first_5_outputs = outputs[:5]\n",
        "\n",
        "# Apply softmax for each output row\n",
        "first_5_probs = F.softmax(first_5_outputs, dim=1)"
      ],
      "execution_count": null,
      "outputs": []
    },
    {
      "cell_type": "code",
      "metadata": {
        "colab": {
          "base_uri": "https://localhost:8080/"
        },
        "id": "e-h3-8GDLJR2",
        "outputId": "71589c18-75d4-4011-c606-44a696270602"
      },
      "source": [
        "len(first_5_probs)"
      ],
      "execution_count": null,
      "outputs": [
        {
          "output_type": "execute_result",
          "data": {
            "text/plain": [
              "5"
            ]
          },
          "metadata": {},
          "execution_count": 136
        }
      ]
    },
    {
      "cell_type": "code",
      "metadata": {
        "colab": {
          "base_uri": "https://localhost:8080/"
        },
        "id": "1nKaJ-jeLZwN",
        "outputId": "5cf5a118-98fd-47a0-8950-1e411549cfe5"
      },
      "source": [
        "max_el, el_indx = torch.max(first_5_probs[4].data,dim=0)\n",
        "print(max_el,el_indx)"
      ],
      "execution_count": null,
      "outputs": [
        {
          "output_type": "stream",
          "name": "stdout",
          "text": [
            "tensor(0.1318) tensor(5)\n"
          ]
        }
      ]
    },
    {
      "cell_type": "code",
      "metadata": {
        "id": "0m2A4O_dMUYJ"
      },
      "source": [
        "# getting prediction of all 5 output images at once\n",
        "max_el, preds = torch.max(first_5_probs,dim=1)"
      ],
      "execution_count": null,
      "outputs": []
    },
    {
      "cell_type": "code",
      "metadata": {
        "colab": {
          "base_uri": "https://localhost:8080/"
        },
        "id": "EfuPhj3DOmdv",
        "outputId": "9b3b9d7b-a68d-4714-8705-004b35fa30b6"
      },
      "source": [
        "preds"
      ],
      "execution_count": null,
      "outputs": [
        {
          "output_type": "execute_result",
          "data": {
            "text/plain": [
              "tensor([3, 5, 7, 7, 5])"
            ]
          },
          "metadata": {},
          "execution_count": 144
        }
      ]
    },
    {
      "cell_type": "code",
      "metadata": {
        "colab": {
          "base_uri": "https://localhost:8080/"
        },
        "id": "realUZVaPvg2",
        "outputId": "896d315a-b624-40f9-d81a-99a2e0cccdce"
      },
      "source": [
        "labels[:5]"
      ],
      "execution_count": null,
      "outputs": [
        {
          "output_type": "execute_result",
          "data": {
            "text/plain": [
              "tensor([1, 3, 6, 3, 0])"
            ]
          },
          "metadata": {},
          "execution_count": 140
        }
      ]
    },
    {
      "cell_type": "markdown",
      "metadata": {
        "id": "bA2c-aXLSXNq"
      },
      "source": [
        "##Accuracy"
      ]
    },
    {
      "cell_type": "code",
      "metadata": {
        "colab": {
          "base_uri": "https://localhost:8080/"
        },
        "id": "zI7KfzZ1R92x",
        "outputId": "92d96f52-3860-40cf-bea7-16b8d04d4ead"
      },
      "source": [
        "preds == labels[:5]"
      ],
      "execution_count": null,
      "outputs": [
        {
          "output_type": "execute_result",
          "data": {
            "text/plain": [
              "tensor([False, False, False, False, False])"
            ]
          },
          "metadata": {},
          "execution_count": 145
        }
      ]
    },
    {
      "cell_type": "code",
      "metadata": {
        "colab": {
          "base_uri": "https://localhost:8080/"
        },
        "id": "0lUOPQYPSSP6",
        "outputId": "4a9b8ad4-f799-45ff-98d1-c1c040484fab"
      },
      "source": [
        "torch.sum(preds == labels[:5]).item()"
      ],
      "execution_count": null,
      "outputs": [
        {
          "output_type": "execute_result",
          "data": {
            "text/plain": [
              "0"
            ]
          },
          "metadata": {},
          "execution_count": 148
        }
      ]
    },
    {
      "cell_type": "code",
      "metadata": {
        "id": "-ocU7Zj2R2od"
      },
      "source": [
        "def accuracy(preds, labels):\n",
        "    sum = torch.sum(preds == labels).item()\n",
        "    return torch.tensor( sum / len(preds))"
      ],
      "execution_count": null,
      "outputs": []
    },
    {
      "cell_type": "code",
      "metadata": {
        "colab": {
          "base_uri": "https://localhost:8080/"
        },
        "id": "bNwC2qgwSpPE",
        "outputId": "ea8f3d9c-506f-487b-d569-78d6001a44a3"
      },
      "source": [
        "accuracy(preds,labels[:5])"
      ],
      "execution_count": null,
      "outputs": [
        {
          "output_type": "execute_result",
          "data": {
            "text/plain": [
              "tensor(0.)"
            ]
          },
          "metadata": {},
          "execution_count": 150
        }
      ]
    },
    {
      "cell_type": "markdown",
      "metadata": {
        "id": "qfgDu_1lRfvC"
      },
      "source": [
        "##Cross Entropy"
      ]
    },
    {
      "cell_type": "code",
      "metadata": {
        "colab": {
          "base_uri": "https://localhost:8080/"
        },
        "id": "AFQYv5OiTLQy",
        "outputId": "fdc0bd25-2ade-4ba7-a93f-a6a0dbc9e8a5"
      },
      "source": [
        "first_5_outputs.data"
      ],
      "execution_count": null,
      "outputs": [
        {
          "output_type": "execute_result",
          "data": {
            "text/plain": [
              "tensor([[-0.0526,  0.0897, -0.0563,  0.1824, -0.1651, -0.1363,  0.0760,  0.1054,\n",
              "          0.0216, -0.1916],\n",
              "        [ 0.1677, -0.1418, -0.0254,  0.0594,  0.0016,  0.2575, -0.0829,  0.2466,\n",
              "          0.0077, -0.4364],\n",
              "        [ 0.1279,  0.1540, -0.2837,  0.2259, -0.0663,  0.1243, -0.0512,  0.3508,\n",
              "         -0.3807, -0.2283],\n",
              "        [ 0.0337,  0.1056,  0.0429,  0.0839, -0.2607,  0.1994,  0.0632,  0.3069,\n",
              "          0.0040, -0.5070],\n",
              "        [ 0.1809,  0.1988, -0.1053,  0.1803,  0.2213,  0.4027,  0.0524,  0.2882,\n",
              "         -0.0181, -0.3330]])"
            ]
          },
          "metadata": {},
          "execution_count": 153
        }
      ]
    },
    {
      "cell_type": "code",
      "metadata": {
        "id": "OqWUQpANfTTZ"
      },
      "source": [
        "loss_fn = F.cross_entropy\n",
        "\n",
        "# Loss for current batch of data\n",
        "loss = loss_fn(first_5_outputs, labels[:5])"
      ],
      "execution_count": null,
      "outputs": []
    },
    {
      "cell_type": "code",
      "metadata": {
        "colab": {
          "base_uri": "https://localhost:8080/"
        },
        "id": "SuESG0hbfTTZ",
        "outputId": "6fe5c6e9-2e35-4a76-bfb4-c01202c54c41"
      },
      "source": [
        "print(loss.data)"
      ],
      "execution_count": null,
      "outputs": [
        {
          "output_type": "stream",
          "name": "stdout",
          "text": [
            "tensor(2.2692)\n"
          ]
        }
      ]
    },
    {
      "cell_type": "markdown",
      "metadata": {
        "id": "gsFGbywxTspH"
      },
      "source": [
        "## Making Things Better (GD)"
      ]
    },
    {
      "cell_type": "code",
      "metadata": {
        "colab": {
          "base_uri": "https://localhost:8080/"
        },
        "id": "SxQ9oC6rWK7q",
        "outputId": "5cd02d0c-0242-4436-d1a8-5666a6cd3f92"
      },
      "source": [
        "loss"
      ],
      "execution_count": null,
      "outputs": [
        {
          "output_type": "execute_result",
          "data": {
            "text/plain": [
              "tensor(2.2692, grad_fn=<NllLossBackward>)"
            ]
          },
          "metadata": {},
          "execution_count": 157
        }
      ]
    },
    {
      "cell_type": "code",
      "metadata": {
        "id": "ozd8hnnsWNy0"
      },
      "source": [
        "# calculates the gradients \n",
        "loss.backward()"
      ],
      "execution_count": null,
      "outputs": []
    },
    {
      "cell_type": "code",
      "metadata": {
        "id": "N8GxZoz5WQO9"
      },
      "source": [
        "model_params  = model.parameters()\n",
        "learning_rate = 0.001\n",
        "\n",
        "optimizer = torch.optim.SGD(model_params,learning_rate)\n",
        "\n",
        "# updating the weights and biases\n",
        "optimizer.step()"
      ],
      "execution_count": null,
      "outputs": []
    },
    {
      "cell_type": "markdown",
      "metadata": {
        "id": "GeljA8FkXxir"
      },
      "source": [
        "## Second Time Training"
      ]
    },
    {
      "cell_type": "code",
      "metadata": {
        "colab": {
          "base_uri": "https://localhost:8080/"
        },
        "id": "8K5IUlzRX2yJ",
        "outputId": "460c239d-0ed3-4d40-c6e5-f277623c58a5"
      },
      "source": [
        "print(images.shape)\n",
        "print(labels.size())\n",
        "print(labels)"
      ],
      "execution_count": null,
      "outputs": [
        {
          "output_type": "stream",
          "name": "stdout",
          "text": [
            "torch.Size([128, 1, 28, 28])\n",
            "torch.Size([128])\n",
            "tensor([1, 3, 6, 3, 0, 7, 3, 8, 3, 9, 4, 5, 2, 9, 5, 4, 1, 9, 3, 5, 7, 2, 2, 9,\n",
            "        8, 1, 0, 1, 5, 1, 8, 7, 5, 7, 3, 6, 0, 2, 2, 4, 6, 2, 7, 5, 7, 3, 9, 5,\n",
            "        1, 6, 5, 7, 9, 4, 7, 0, 8, 9, 0, 0, 3, 1, 5, 1, 7, 8, 5, 8, 6, 3, 6, 3,\n",
            "        7, 9, 8, 9, 4, 3, 2, 4, 1, 7, 1, 9, 7, 8, 5, 3, 6, 3, 7, 0, 8, 6, 8, 0,\n",
            "        3, 4, 9, 6, 5, 3, 6, 9, 1, 5, 1, 6, 7, 7, 4, 5, 2, 6, 7, 9, 9, 6, 5, 2,\n",
            "        1, 0, 3, 7, 2, 5, 9, 7])\n"
          ]
        }
      ]
    },
    {
      "cell_type": "code",
      "metadata": {
        "id": "k_ZAdGyQWZPE"
      },
      "source": [
        "outputs = torch.tensor([])\n",
        "\n",
        "# linear regression\n",
        "for i,img in enumerate(images):\n",
        "    img = img.reshape(-1,28*28)\n",
        "\n",
        "    op = model(img)\n",
        "    outputs = torch.cat((outputs,op), 0)\n",
        "\n",
        "# selecting first 5 outputs\n",
        "first_5_outputs = outputs[:5]\n",
        "\n",
        "# Apply softmax for each output row\n",
        "first_5_probs = F.softmax(first_5_outputs, dim=1)\n",
        "\n",
        "# getting prediction of all 5 output images at once\n",
        "max_el, preds = torch.max(first_5_probs,dim=1)"
      ],
      "execution_count": null,
      "outputs": []
    },
    {
      "cell_type": "code",
      "metadata": {
        "colab": {
          "base_uri": "https://localhost:8080/"
        },
        "id": "cCXiQuo1ZJgA",
        "outputId": "be6d51a1-aec9-4c06-e755-5a6601c17d41"
      },
      "source": [
        "preds"
      ],
      "execution_count": null,
      "outputs": [
        {
          "output_type": "execute_result",
          "data": {
            "text/plain": [
              "tensor([3, 5, 7, 7, 5])"
            ]
          },
          "metadata": {},
          "execution_count": 164
        }
      ]
    },
    {
      "cell_type": "code",
      "metadata": {
        "colab": {
          "base_uri": "https://localhost:8080/"
        },
        "id": "n56lRMo0ZKE6",
        "outputId": "480b2bc8-cb5c-44b7-a978-328477fb4c74"
      },
      "source": [
        "labels[:5]"
      ],
      "execution_count": null,
      "outputs": [
        {
          "output_type": "execute_result",
          "data": {
            "text/plain": [
              "tensor([1, 3, 6, 3, 0])"
            ]
          },
          "metadata": {},
          "execution_count": 166
        }
      ]
    },
    {
      "cell_type": "code",
      "metadata": {
        "colab": {
          "base_uri": "https://localhost:8080/"
        },
        "id": "A4wp16EsZMqL",
        "outputId": "3c49526b-96a5-43ec-c7b7-7a28fdc2e6d8"
      },
      "source": [
        "accuracy(preds,labels[:5])"
      ],
      "execution_count": null,
      "outputs": [
        {
          "output_type": "execute_result",
          "data": {
            "text/plain": [
              "tensor(0.)"
            ]
          },
          "metadata": {},
          "execution_count": 167
        }
      ]
    },
    {
      "cell_type": "code",
      "metadata": {
        "id": "Bpl1STjDZbar"
      },
      "source": [
        "# Loss for current batch of data\n",
        "loss = loss_fn(first_5_outputs, labels[:5])"
      ],
      "execution_count": null,
      "outputs": []
    },
    {
      "cell_type": "code",
      "metadata": {
        "colab": {
          "base_uri": "https://localhost:8080/"
        },
        "id": "DGX9HbVFZbat",
        "outputId": "6cca92cd-7905-4d27-a86c-08262a800815"
      },
      "source": [
        "print(loss.data)\n",
        "# previous cross entropy was - 2.2692"
      ],
      "execution_count": null,
      "outputs": [
        {
          "output_type": "stream",
          "name": "stdout",
          "text": [
            "tensor(2.2527)\n"
          ]
        }
      ]
    },
    {
      "cell_type": "markdown",
      "metadata": {
        "id": "PmeE7ocKZrEL"
      },
      "source": [
        "## Trainging Third time with 128 images"
      ]
    },
    {
      "cell_type": "code",
      "metadata": {
        "id": "Q6Nk8NvlaMLu"
      },
      "source": [
        "outputs = torch.tensor([])\n",
        "\n",
        "# linear regression\n",
        "for i,img in enumerate(images):\n",
        "    img = img.reshape(-1,28*28)\n",
        "\n",
        "    op = model(img)\n",
        "    outputs = torch.cat((outputs,op), 0)\n",
        "\n",
        "# Apply softmax for each output row\n",
        "probs = F.softmax(outputs, dim=1)\n",
        "\n",
        "# getting prediction of all 128 images at once\n",
        "max_el, preds = torch.max(probs,dim=1)"
      ],
      "execution_count": null,
      "outputs": []
    },
    {
      "cell_type": "code",
      "metadata": {
        "colab": {
          "base_uri": "https://localhost:8080/"
        },
        "id": "VZiu3CfpbfHE",
        "outputId": "ef5a1ace-319c-4c92-b9f1-da2e7b2ab5a9"
      },
      "source": [
        "preds"
      ],
      "execution_count": null,
      "outputs": [
        {
          "output_type": "execute_result",
          "data": {
            "text/plain": [
              "tensor([3, 5, 7, 7, 5, 7, 1, 7, 7, 1, 1, 3, 1, 0, 6, 1, 7, 7, 7, 3, 7, 1, 2, 1,\n",
              "        1, 6, 2, 3, 7, 7, 7, 1, 7, 0, 4, 3, 1, 2, 7, 7, 7, 2, 7, 2, 7, 3, 7, 0,\n",
              "        7, 5, 1, 7, 7, 1, 0, 7, 7, 7, 5, 7, 0, 3, 7, 7, 3, 7, 1, 7, 7, 0, 7, 4,\n",
              "        1, 1, 1, 1, 1, 1, 7, 3, 7, 7, 6, 7, 0, 7, 1, 0, 7, 7, 7, 0, 7, 3, 7, 2,\n",
              "        1, 7, 7, 3, 2, 0, 7, 3, 3, 7, 1, 7, 0, 7, 0, 0, 7, 2, 0, 1, 0, 5, 6, 0,\n",
              "        3, 5, 7, 7, 3, 5, 3, 1])"
            ]
          },
          "metadata": {},
          "execution_count": 172
        }
      ]
    },
    {
      "cell_type": "code",
      "metadata": {
        "colab": {
          "base_uri": "https://localhost:8080/"
        },
        "id": "n1BxMawvbhRT",
        "outputId": "03fd51e2-a36f-4be9-f94b-bb4180c05005"
      },
      "source": [
        "labels"
      ],
      "execution_count": null,
      "outputs": [
        {
          "output_type": "execute_result",
          "data": {
            "text/plain": [
              "tensor([1, 3, 6, 3, 0, 7, 3, 8, 3, 9, 4, 5, 2, 9, 5, 4, 1, 9, 3, 5, 7, 2, 2, 9,\n",
              "        8, 1, 0, 1, 5, 1, 8, 7, 5, 7, 3, 6, 0, 2, 2, 4, 6, 2, 7, 5, 7, 3, 9, 5,\n",
              "        1, 6, 5, 7, 9, 4, 7, 0, 8, 9, 0, 0, 3, 1, 5, 1, 7, 8, 5, 8, 6, 3, 6, 3,\n",
              "        7, 9, 8, 9, 4, 3, 2, 4, 1, 7, 1, 9, 7, 8, 5, 3, 6, 3, 7, 0, 8, 6, 8, 0,\n",
              "        3, 4, 9, 6, 5, 3, 6, 9, 1, 5, 1, 6, 7, 7, 4, 5, 2, 6, 7, 9, 9, 6, 5, 2,\n",
              "        1, 0, 3, 7, 2, 5, 9, 7])"
            ]
          },
          "metadata": {},
          "execution_count": 173
        }
      ]
    },
    {
      "cell_type": "code",
      "metadata": {
        "colab": {
          "base_uri": "https://localhost:8080/"
        },
        "id": "mmyljzMkbVe1",
        "outputId": "78e85f47-a38e-456f-cf38-a6ea72ad4ceb"
      },
      "source": [
        "accuracy(preds,labels)\n",
        "# previous accuracy was - 0"
      ],
      "execution_count": null,
      "outputs": [
        {
          "output_type": "execute_result",
          "data": {
            "text/plain": [
              "tensor(0.1250)"
            ]
          },
          "metadata": {},
          "execution_count": 174
        }
      ]
    },
    {
      "cell_type": "code",
      "metadata": {
        "colab": {
          "base_uri": "https://localhost:8080/"
        },
        "id": "g4b5IWiObVe2",
        "outputId": "5318fdf3-2c10-44a7-fbf8-11a4846db0cf"
      },
      "source": [
        "# Loss for current batch of data\n",
        "loss = loss_fn(outputs, labels)\n",
        "\n",
        "print(loss.data)\n",
        "# previous cross entropy was - 2.2527 (with 5 images)"
      ],
      "execution_count": null,
      "outputs": [
        {
          "output_type": "stream",
          "name": "stdout",
          "text": [
            "tensor(2.2961)\n"
          ]
        }
      ]
    },
    {
      "cell_type": "code",
      "metadata": {
        "colab": {
          "base_uri": "https://localhost:8080/"
        },
        "id": "ct_I4urKclgM",
        "outputId": "8879de21-e402-4aeb-fa71-044d18cdff37"
      },
      "source": [
        "loss_val = round(loss.item(),4)\n",
        "print(loss_val)"
      ],
      "execution_count": null,
      "outputs": [
        {
          "output_type": "stream",
          "name": "stdout",
          "text": [
            "2.2961\n"
          ]
        }
      ]
    },
    {
      "cell_type": "markdown",
      "metadata": {
        "id": "flyxY4wucKow"
      },
      "source": [
        "## Trainging with LOOP"
      ]
    },
    {
      "cell_type": "code",
      "metadata": {
        "id": "UzgtLTw8bQux"
      },
      "source": [
        "def fit_single_batch (iteration,learning_rate):\n",
        "    for it in range(iteration):\n",
        "\n",
        "        outputs = torch.tensor([])\n",
        "\n",
        "        # linear regression\n",
        "        for i,img in enumerate(images):\n",
        "            img = img.reshape(-1,28*28)\n",
        "\n",
        "            op = model(img)\n",
        "            outputs = torch.cat((outputs,op), 0)\n",
        "\n",
        "\n",
        "        # Apply softmax for each output row\n",
        "        probs = F.softmax(outputs, dim=1)\n",
        "\n",
        "        # getting prediction of all 128 images at once\n",
        "        max_el, preds = torch.max(probs,dim=1)\n",
        "\n",
        "        acc_tensor = accuracy(preds,labels)\n",
        "        loss_tensor = loss_fn(outputs, labels)\n",
        "\n",
        "        # calculates the gradients \n",
        "        loss_tensor.backward()\n",
        "\n",
        "        # initializing optimizer\n",
        "        optimizer = torch.optim.SGD(model.parameters(),learning_rate)\n",
        "\n",
        "        # updating the weights and biases\n",
        "        optimizer.step()\n",
        "\n",
        "        # clearing prev weights and biases\n",
        "        optimizer.zero_grad()\n",
        "\n",
        "        # print after each 100 iterations\n",
        "        if it%100==0:\n",
        "            loss_val = round(loss_tensor.item(),4)\n",
        "            acc_val  = round(acc_tensor.item(),4) \n",
        "\n",
        "            print(f\"iteration: {it} \\t acc: {acc_val} \\t loss: {loss_val}\") "
      ],
      "execution_count": null,
      "outputs": []
    },
    {
      "cell_type": "code",
      "metadata": {
        "colab": {
          "base_uri": "https://localhost:8080/"
        },
        "id": "GhROuIcqe-Tc",
        "outputId": "5c968080-7da0-436a-8712-ef16b221f6e3"
      },
      "source": [
        "iteration = 1000\n",
        "learning_rate = 0.001\n",
        "\n",
        "fit_single_batch (iteration,learning_rate)"
      ],
      "execution_count": null,
      "outputs": [
        {
          "output_type": "stream",
          "name": "stdout",
          "text": [
            "iteration: 0 \t acc: 0.9688 \t loss: 0.5754\n",
            "iteration: 100 \t acc: 0.9688 \t loss: 0.564\n",
            "iteration: 200 \t acc: 0.9688 \t loss: 0.5529\n",
            "iteration: 300 \t acc: 0.9688 \t loss: 0.5423\n",
            "iteration: 400 \t acc: 0.9688 \t loss: 0.532\n",
            "iteration: 500 \t acc: 0.9688 \t loss: 0.5221\n",
            "iteration: 600 \t acc: 0.9766 \t loss: 0.5125\n",
            "iteration: 700 \t acc: 0.9766 \t loss: 0.5033\n",
            "iteration: 800 \t acc: 0.9844 \t loss: 0.4943\n",
            "iteration: 900 \t acc: 0.9844 \t loss: 0.4856\n",
            "iteration: 999 \t acc: 0.9844 \t loss: 0.4856\n"
          ]
        }
      ]
    },
    {
      "cell_type": "markdown",
      "metadata": {
        "id": "hJTV2dsUkp_t"
      },
      "source": [
        "# Model (Full)"
      ]
    },
    {
      "cell_type": "markdown",
      "metadata": {
        "id": "LWXftqXrmLua"
      },
      "source": [
        "## MnistModel - Class"
      ]
    },
    {
      "cell_type": "code",
      "metadata": {
        "id": "OiHr6n-yXbpQ"
      },
      "source": [
        "input_size = 28*28\n",
        "num_classes= 10"
      ],
      "execution_count": null,
      "outputs": []
    },
    {
      "cell_type": "code",
      "metadata": {
        "id": "92jkOV5Dk_2h"
      },
      "source": [
        "class MnistModel(nn.Module):\n",
        "    def __init__(self):\n",
        "        super().__init__()\n",
        "        self.linear = nn.Linear(input_size, num_classes)\n",
        "        \n",
        "    def forward(self, xb):\n",
        "        xb = xb.reshape(-1, 784)\n",
        "        out = self.linear(xb)\n",
        "        return out\n",
        "    \n",
        "    def training_step(self, batch):\n",
        "        images, labels = batch \n",
        "        out = self(images)                  # Generate predictions\n",
        "        loss = F.cross_entropy(out, labels) # Calculate loss\n",
        "        return loss\n",
        "    \n",
        "    def validation_step(self, batch):\n",
        "        images, labels = batch \n",
        "        out = self(images)                    # Generate predictions\n",
        "        loss = F.cross_entropy(out, labels)   # Calculate loss\n",
        "    \n",
        "        return {'val_loss': loss}\n",
        "        \n",
        "    def validation_epoch_end(self, outputs):\n",
        "        batch_losses = [x['val_loss'] for x in outputs]\n",
        "        epoch_loss = torch.stack(batch_losses).mean()   # Combine losses\n",
        "        \n",
        "        return {'val_loss': epoch_loss.item()}\n",
        "    \n",
        "    def epoch_end(self, epoch, result):\n",
        "        print(f\"Epoch [{epoch}], val_loss: {result['val_loss']:.4f}\")\n",
        "    \n",
        "\n",
        "\n",
        "\n",
        "\n",
        "\n",
        "    \n",
        "model = MnistModel()"
      ],
      "execution_count": null,
      "outputs": []
    },
    {
      "cell_type": "markdown",
      "metadata": {
        "id": "DEOLB6bxlgnO"
      },
      "source": [
        "Inside the `__init__` constructor method, we instantiate the weights and biases using `nn.Linear`. And inside the `forward` method, which is invoked when we pass a batch of inputs to the model, we flatten the input tensor and pass it into `self.linear`.\n",
        "\n",
        "`xb.reshape(-1, 28*28)` indicates to PyTorch that we want a *view* of the `xb` tensor with two dimensions. The length along the 2nd dimension is 28\\*28 (i.e., 784). One argument to `.reshape` can be set to `-1` (in this case, the first dimension) to let PyTorch figure it out automatically based on the shape of the original tensor.\n",
        "\n",
        "Note that the model no longer has `.weight` and `.bias` attributes (as they are now inside the `.linear` attribute), but it does have a `.parameters` method that returns a list containing the weights and bias."
      ]
    },
    {
      "cell_type": "markdown",
      "metadata": {
        "id": "CApfngM2mXmv"
      },
      "source": [
        "## Fit - func"
      ]
    },
    {
      "cell_type": "code",
      "metadata": {
        "id": "hsLfrzvSmTX1"
      },
      "source": [
        "def fit(epochs, lr, model, train_loader, val_loader, opt_func=torch.optim.SGD):\n",
        "    optimizer = opt_func(model.parameters(), lr)\n",
        "    history = [] # for recording epoch-wise results\n",
        "    \n",
        "    for epoch in range(epochs):\n",
        "        \n",
        "        # Training Phase \n",
        "        for batch in train_loader:\n",
        "            loss = model.training_step(batch)\n",
        "            loss.backward()\n",
        "            optimizer.step()\n",
        "            optimizer.zero_grad()\n",
        "        \n",
        "        # Validation phase\n",
        "        result = evaluate(model, val_loader)\n",
        "        model.epoch_end(epoch, result)\n",
        "        history.append(result)\n",
        "\n",
        "    return history"
      ],
      "execution_count": null,
      "outputs": []
    },
    {
      "cell_type": "markdown",
      "metadata": {
        "id": "KDrIHnfyoXkO"
      },
      "source": [
        "## Evaluate - func"
      ]
    },
    {
      "cell_type": "code",
      "metadata": {
        "id": "pYehyV8poYLK"
      },
      "source": [
        "def evaluate(model, val_loader):\n",
        "    outputs = [model.validation_step(batch) for batch in val_loader]\n",
        "    return model.validation_epoch_end(outputs)"
      ],
      "execution_count": null,
      "outputs": []
    },
    {
      "cell_type": "markdown",
      "metadata": {
        "id": "D3pD91cLDlVA"
      },
      "source": [
        "![image.png](data:image/png;base64,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)"
      ]
    },
    {
      "cell_type": "markdown",
      "metadata": {
        "id": "3YY15VgCXuDO"
      },
      "source": [
        "## Logistic Regression"
      ]
    },
    {
      "cell_type": "code",
      "metadata": {
        "colab": {
          "base_uri": "https://localhost:8080/"
        },
        "id": "_gIvRklsYHMF",
        "outputId": "c32c40f4-04c7-491b-e69f-7774b37fbb01"
      },
      "source": [
        "fit(epochs=1000, lr=0.001, model=model, train_loader=train_loader, val_loader=val_loader)"
      ],
      "execution_count": null,
      "outputs": [
        {
          "output_type": "stream",
          "name": "stdout",
          "text": [
            "Epoch [0], val_loss: 1.9427\n",
            "Epoch [1], val_loss: 1.6756\n",
            "Epoch [2], val_loss: 1.4751\n",
            "Epoch [3], val_loss: 1.3231\n",
            "Epoch [4], val_loss: 1.2059\n",
            "Epoch [5], val_loss: 1.1137\n",
            "Epoch [6], val_loss: 1.0395\n",
            "Epoch [7], val_loss: 0.9788\n"
          ]
        }
      ]
    },
    {
      "cell_type": "code",
      "metadata": {
        "id": "nj_y0TjUbe6P"
      },
      "source": [
        ""
      ],
      "execution_count": null,
      "outputs": []
    }
  ]
}