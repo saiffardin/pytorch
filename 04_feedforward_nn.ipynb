{
  "nbformat": 4,
  "nbformat_minor": 0,
  "metadata": {
    "colab": {
      "name": "04-feedforward-nn.ipynb",
      "provenance": [],
      "collapsed_sections": [
        "DPk8QvFo9z3C",
        "sSSOi-g_peT-"
      ],
      "toc_visible": true,
      "include_colab_link": true
    },
    "widgets": {
      "application/vnd.jupyter.widget-state+json": {
        "6ef108c75f4f4330833ea901d788cbf0": {
          "model_module": "@jupyter-widgets/controls",
          "model_name": "HBoxModel",
          "model_module_version": "1.5.0",
          "state": {
            "_view_name": "HBoxView",
            "_dom_classes": [],
            "_model_name": "HBoxModel",
            "_view_module": "@jupyter-widgets/controls",
            "_model_module_version": "1.5.0",
            "_view_count": null,
            "_view_module_version": "1.5.0",
            "box_style": "",
            "layout": "IPY_MODEL_adf6d1c8d4254477b8760e7f02ef07cb",
            "_model_module": "@jupyter-widgets/controls",
            "children": [
              "IPY_MODEL_d7a20d5cfad74f2e8cf5ce95a3e71c24",
              "IPY_MODEL_fc44ddfc23f74a4b8ef0b4a49e06a409",
              "IPY_MODEL_bfcb1f64905640a8a1ce4049e557fc4f"
            ]
          }
        },
        "adf6d1c8d4254477b8760e7f02ef07cb": {
          "model_module": "@jupyter-widgets/base",
          "model_name": "LayoutModel",
          "model_module_version": "1.2.0",
          "state": {
            "_view_name": "LayoutView",
            "grid_template_rows": null,
            "right": null,
            "justify_content": null,
            "_view_module": "@jupyter-widgets/base",
            "overflow": null,
            "_model_module_version": "1.2.0",
            "_view_count": null,
            "flex_flow": null,
            "width": null,
            "min_width": null,
            "border": null,
            "align_items": null,
            "bottom": null,
            "_model_module": "@jupyter-widgets/base",
            "top": null,
            "grid_column": null,
            "overflow_y": null,
            "overflow_x": null,
            "grid_auto_flow": null,
            "grid_area": null,
            "grid_template_columns": null,
            "flex": null,
            "_model_name": "LayoutModel",
            "justify_items": null,
            "grid_row": null,
            "max_height": null,
            "align_content": null,
            "visibility": null,
            "align_self": null,
            "height": null,
            "min_height": null,
            "padding": null,
            "grid_auto_rows": null,
            "grid_gap": null,
            "max_width": null,
            "order": null,
            "_view_module_version": "1.2.0",
            "grid_template_areas": null,
            "object_position": null,
            "object_fit": null,
            "grid_auto_columns": null,
            "margin": null,
            "display": null,
            "left": null
          }
        },
        "d7a20d5cfad74f2e8cf5ce95a3e71c24": {
          "model_module": "@jupyter-widgets/controls",
          "model_name": "HTMLModel",
          "model_module_version": "1.5.0",
          "state": {
            "_view_name": "HTMLView",
            "style": "IPY_MODEL_a49533d3314141a5b37fbcb5ab77dba4",
            "_dom_classes": [],
            "description": "",
            "_model_name": "HTMLModel",
            "placeholder": "​",
            "_view_module": "@jupyter-widgets/controls",
            "_model_module_version": "1.5.0",
            "value": "",
            "_view_count": null,
            "_view_module_version": "1.5.0",
            "description_tooltip": null,
            "_model_module": "@jupyter-widgets/controls",
            "layout": "IPY_MODEL_c1841a4ba0254a8b9d71ff2c795f9812"
          }
        },
        "fc44ddfc23f74a4b8ef0b4a49e06a409": {
          "model_module": "@jupyter-widgets/controls",
          "model_name": "FloatProgressModel",
          "model_module_version": "1.5.0",
          "state": {
            "_view_name": "ProgressView",
            "style": "IPY_MODEL_18c11eab5e5048dd9434ad51a802d0cb",
            "_dom_classes": [],
            "description": "",
            "_model_name": "FloatProgressModel",
            "bar_style": "success",
            "max": 9912422,
            "_view_module": "@jupyter-widgets/controls",
            "_model_module_version": "1.5.0",
            "value": 9912422,
            "_view_count": null,
            "_view_module_version": "1.5.0",
            "orientation": "horizontal",
            "min": 0,
            "description_tooltip": null,
            "_model_module": "@jupyter-widgets/controls",
            "layout": "IPY_MODEL_880b3b79c6084f8bab68ad331d321205"
          }
        },
        "bfcb1f64905640a8a1ce4049e557fc4f": {
          "model_module": "@jupyter-widgets/controls",
          "model_name": "HTMLModel",
          "model_module_version": "1.5.0",
          "state": {
            "_view_name": "HTMLView",
            "style": "IPY_MODEL_b162bfa0dc0c4df7a62488d8c4e0ee71",
            "_dom_classes": [],
            "description": "",
            "_model_name": "HTMLModel",
            "placeholder": "​",
            "_view_module": "@jupyter-widgets/controls",
            "_model_module_version": "1.5.0",
            "value": " 9913344/? [00:00&lt;00:00, 51225042.00it/s]",
            "_view_count": null,
            "_view_module_version": "1.5.0",
            "description_tooltip": null,
            "_model_module": "@jupyter-widgets/controls",
            "layout": "IPY_MODEL_449ebab9400a4d198fdfc79bea873e6d"
          }
        },
        "a49533d3314141a5b37fbcb5ab77dba4": {
          "model_module": "@jupyter-widgets/controls",
          "model_name": "DescriptionStyleModel",
          "model_module_version": "1.5.0",
          "state": {
            "_view_name": "StyleView",
            "_model_name": "DescriptionStyleModel",
            "description_width": "",
            "_view_module": "@jupyter-widgets/base",
            "_model_module_version": "1.5.0",
            "_view_count": null,
            "_view_module_version": "1.2.0",
            "_model_module": "@jupyter-widgets/controls"
          }
        },
        "c1841a4ba0254a8b9d71ff2c795f9812": {
          "model_module": "@jupyter-widgets/base",
          "model_name": "LayoutModel",
          "model_module_version": "1.2.0",
          "state": {
            "_view_name": "LayoutView",
            "grid_template_rows": null,
            "right": null,
            "justify_content": null,
            "_view_module": "@jupyter-widgets/base",
            "overflow": null,
            "_model_module_version": "1.2.0",
            "_view_count": null,
            "flex_flow": null,
            "width": null,
            "min_width": null,
            "border": null,
            "align_items": null,
            "bottom": null,
            "_model_module": "@jupyter-widgets/base",
            "top": null,
            "grid_column": null,
            "overflow_y": null,
            "overflow_x": null,
            "grid_auto_flow": null,
            "grid_area": null,
            "grid_template_columns": null,
            "flex": null,
            "_model_name": "LayoutModel",
            "justify_items": null,
            "grid_row": null,
            "max_height": null,
            "align_content": null,
            "visibility": null,
            "align_self": null,
            "height": null,
            "min_height": null,
            "padding": null,
            "grid_auto_rows": null,
            "grid_gap": null,
            "max_width": null,
            "order": null,
            "_view_module_version": "1.2.0",
            "grid_template_areas": null,
            "object_position": null,
            "object_fit": null,
            "grid_auto_columns": null,
            "margin": null,
            "display": null,
            "left": null
          }
        },
        "18c11eab5e5048dd9434ad51a802d0cb": {
          "model_module": "@jupyter-widgets/controls",
          "model_name": "ProgressStyleModel",
          "model_module_version": "1.5.0",
          "state": {
            "_view_name": "StyleView",
            "_model_name": "ProgressStyleModel",
            "description_width": "",
            "_view_module": "@jupyter-widgets/base",
            "_model_module_version": "1.5.0",
            "_view_count": null,
            "_view_module_version": "1.2.0",
            "bar_color": null,
            "_model_module": "@jupyter-widgets/controls"
          }
        },
        "880b3b79c6084f8bab68ad331d321205": {
          "model_module": "@jupyter-widgets/base",
          "model_name": "LayoutModel",
          "model_module_version": "1.2.0",
          "state": {
            "_view_name": "LayoutView",
            "grid_template_rows": null,
            "right": null,
            "justify_content": null,
            "_view_module": "@jupyter-widgets/base",
            "overflow": null,
            "_model_module_version": "1.2.0",
            "_view_count": null,
            "flex_flow": null,
            "width": null,
            "min_width": null,
            "border": null,
            "align_items": null,
            "bottom": null,
            "_model_module": "@jupyter-widgets/base",
            "top": null,
            "grid_column": null,
            "overflow_y": null,
            "overflow_x": null,
            "grid_auto_flow": null,
            "grid_area": null,
            "grid_template_columns": null,
            "flex": null,
            "_model_name": "LayoutModel",
            "justify_items": null,
            "grid_row": null,
            "max_height": null,
            "align_content": null,
            "visibility": null,
            "align_self": null,
            "height": null,
            "min_height": null,
            "padding": null,
            "grid_auto_rows": null,
            "grid_gap": null,
            "max_width": null,
            "order": null,
            "_view_module_version": "1.2.0",
            "grid_template_areas": null,
            "object_position": null,
            "object_fit": null,
            "grid_auto_columns": null,
            "margin": null,
            "display": null,
            "left": null
          }
        },
        "b162bfa0dc0c4df7a62488d8c4e0ee71": {
          "model_module": "@jupyter-widgets/controls",
          "model_name": "DescriptionStyleModel",
          "model_module_version": "1.5.0",
          "state": {
            "_view_name": "StyleView",
            "_model_name": "DescriptionStyleModel",
            "description_width": "",
            "_view_module": "@jupyter-widgets/base",
            "_model_module_version": "1.5.0",
            "_view_count": null,
            "_view_module_version": "1.2.0",
            "_model_module": "@jupyter-widgets/controls"
          }
        },
        "449ebab9400a4d198fdfc79bea873e6d": {
          "model_module": "@jupyter-widgets/base",
          "model_name": "LayoutModel",
          "model_module_version": "1.2.0",
          "state": {
            "_view_name": "LayoutView",
            "grid_template_rows": null,
            "right": null,
            "justify_content": null,
            "_view_module": "@jupyter-widgets/base",
            "overflow": null,
            "_model_module_version": "1.2.0",
            "_view_count": null,
            "flex_flow": null,
            "width": null,
            "min_width": null,
            "border": null,
            "align_items": null,
            "bottom": null,
            "_model_module": "@jupyter-widgets/base",
            "top": null,
            "grid_column": null,
            "overflow_y": null,
            "overflow_x": null,
            "grid_auto_flow": null,
            "grid_area": null,
            "grid_template_columns": null,
            "flex": null,
            "_model_name": "LayoutModel",
            "justify_items": null,
            "grid_row": null,
            "max_height": null,
            "align_content": null,
            "visibility": null,
            "align_self": null,
            "height": null,
            "min_height": null,
            "padding": null,
            "grid_auto_rows": null,
            "grid_gap": null,
            "max_width": null,
            "order": null,
            "_view_module_version": "1.2.0",
            "grid_template_areas": null,
            "object_position": null,
            "object_fit": null,
            "grid_auto_columns": null,
            "margin": null,
            "display": null,
            "left": null
          }
        },
        "59c5797c0bd84271b8be41170588d6b8": {
          "model_module": "@jupyter-widgets/controls",
          "model_name": "HBoxModel",
          "model_module_version": "1.5.0",
          "state": {
            "_view_name": "HBoxView",
            "_dom_classes": [],
            "_model_name": "HBoxModel",
            "_view_module": "@jupyter-widgets/controls",
            "_model_module_version": "1.5.0",
            "_view_count": null,
            "_view_module_version": "1.5.0",
            "box_style": "",
            "layout": "IPY_MODEL_6f75ce19720c4d5ea1f8406346020377",
            "_model_module": "@jupyter-widgets/controls",
            "children": [
              "IPY_MODEL_ce4de0dfda054681adf2c95f103e74d8",
              "IPY_MODEL_77e888c17c254632aa673dec48fd9cc4",
              "IPY_MODEL_787c6f4f28c141bc8ba1d66928048881"
            ]
          }
        },
        "6f75ce19720c4d5ea1f8406346020377": {
          "model_module": "@jupyter-widgets/base",
          "model_name": "LayoutModel",
          "model_module_version": "1.2.0",
          "state": {
            "_view_name": "LayoutView",
            "grid_template_rows": null,
            "right": null,
            "justify_content": null,
            "_view_module": "@jupyter-widgets/base",
            "overflow": null,
            "_model_module_version": "1.2.0",
            "_view_count": null,
            "flex_flow": null,
            "width": null,
            "min_width": null,
            "border": null,
            "align_items": null,
            "bottom": null,
            "_model_module": "@jupyter-widgets/base",
            "top": null,
            "grid_column": null,
            "overflow_y": null,
            "overflow_x": null,
            "grid_auto_flow": null,
            "grid_area": null,
            "grid_template_columns": null,
            "flex": null,
            "_model_name": "LayoutModel",
            "justify_items": null,
            "grid_row": null,
            "max_height": null,
            "align_content": null,
            "visibility": null,
            "align_self": null,
            "height": null,
            "min_height": null,
            "padding": null,
            "grid_auto_rows": null,
            "grid_gap": null,
            "max_width": null,
            "order": null,
            "_view_module_version": "1.2.0",
            "grid_template_areas": null,
            "object_position": null,
            "object_fit": null,
            "grid_auto_columns": null,
            "margin": null,
            "display": null,
            "left": null
          }
        },
        "ce4de0dfda054681adf2c95f103e74d8": {
          "model_module": "@jupyter-widgets/controls",
          "model_name": "HTMLModel",
          "model_module_version": "1.5.0",
          "state": {
            "_view_name": "HTMLView",
            "style": "IPY_MODEL_dddbf34e6d574814bf514f84a7c3f247",
            "_dom_classes": [],
            "description": "",
            "_model_name": "HTMLModel",
            "placeholder": "​",
            "_view_module": "@jupyter-widgets/controls",
            "_model_module_version": "1.5.0",
            "value": "",
            "_view_count": null,
            "_view_module_version": "1.5.0",
            "description_tooltip": null,
            "_model_module": "@jupyter-widgets/controls",
            "layout": "IPY_MODEL_6199ce6b183041ec9ca96bb36dc07399"
          }
        },
        "77e888c17c254632aa673dec48fd9cc4": {
          "model_module": "@jupyter-widgets/controls",
          "model_name": "FloatProgressModel",
          "model_module_version": "1.5.0",
          "state": {
            "_view_name": "ProgressView",
            "style": "IPY_MODEL_58ed68a3b4ef4e0080df4ee3c5d85ad9",
            "_dom_classes": [],
            "description": "",
            "_model_name": "FloatProgressModel",
            "bar_style": "success",
            "max": 28881,
            "_view_module": "@jupyter-widgets/controls",
            "_model_module_version": "1.5.0",
            "value": 28881,
            "_view_count": null,
            "_view_module_version": "1.5.0",
            "orientation": "horizontal",
            "min": 0,
            "description_tooltip": null,
            "_model_module": "@jupyter-widgets/controls",
            "layout": "IPY_MODEL_2429a8b58c1b4c95b0966e3e07b77ddf"
          }
        },
        "787c6f4f28c141bc8ba1d66928048881": {
          "model_module": "@jupyter-widgets/controls",
          "model_name": "HTMLModel",
          "model_module_version": "1.5.0",
          "state": {
            "_view_name": "HTMLView",
            "style": "IPY_MODEL_166ea583a815412eac863800ed5ffb79",
            "_dom_classes": [],
            "description": "",
            "_model_name": "HTMLModel",
            "placeholder": "​",
            "_view_module": "@jupyter-widgets/controls",
            "_model_module_version": "1.5.0",
            "value": " 29696/? [00:00&lt;00:00, 720944.93it/s]",
            "_view_count": null,
            "_view_module_version": "1.5.0",
            "description_tooltip": null,
            "_model_module": "@jupyter-widgets/controls",
            "layout": "IPY_MODEL_8355d58565c247c5b0e09497f9678f85"
          }
        },
        "dddbf34e6d574814bf514f84a7c3f247": {
          "model_module": "@jupyter-widgets/controls",
          "model_name": "DescriptionStyleModel",
          "model_module_version": "1.5.0",
          "state": {
            "_view_name": "StyleView",
            "_model_name": "DescriptionStyleModel",
            "description_width": "",
            "_view_module": "@jupyter-widgets/base",
            "_model_module_version": "1.5.0",
            "_view_count": null,
            "_view_module_version": "1.2.0",
            "_model_module": "@jupyter-widgets/controls"
          }
        },
        "6199ce6b183041ec9ca96bb36dc07399": {
          "model_module": "@jupyter-widgets/base",
          "model_name": "LayoutModel",
          "model_module_version": "1.2.0",
          "state": {
            "_view_name": "LayoutView",
            "grid_template_rows": null,
            "right": null,
            "justify_content": null,
            "_view_module": "@jupyter-widgets/base",
            "overflow": null,
            "_model_module_version": "1.2.0",
            "_view_count": null,
            "flex_flow": null,
            "width": null,
            "min_width": null,
            "border": null,
            "align_items": null,
            "bottom": null,
            "_model_module": "@jupyter-widgets/base",
            "top": null,
            "grid_column": null,
            "overflow_y": null,
            "overflow_x": null,
            "grid_auto_flow": null,
            "grid_area": null,
            "grid_template_columns": null,
            "flex": null,
            "_model_name": "LayoutModel",
            "justify_items": null,
            "grid_row": null,
            "max_height": null,
            "align_content": null,
            "visibility": null,
            "align_self": null,
            "height": null,
            "min_height": null,
            "padding": null,
            "grid_auto_rows": null,
            "grid_gap": null,
            "max_width": null,
            "order": null,
            "_view_module_version": "1.2.0",
            "grid_template_areas": null,
            "object_position": null,
            "object_fit": null,
            "grid_auto_columns": null,
            "margin": null,
            "display": null,
            "left": null
          }
        },
        "58ed68a3b4ef4e0080df4ee3c5d85ad9": {
          "model_module": "@jupyter-widgets/controls",
          "model_name": "ProgressStyleModel",
          "model_module_version": "1.5.0",
          "state": {
            "_view_name": "StyleView",
            "_model_name": "ProgressStyleModel",
            "description_width": "",
            "_view_module": "@jupyter-widgets/base",
            "_model_module_version": "1.5.0",
            "_view_count": null,
            "_view_module_version": "1.2.0",
            "bar_color": null,
            "_model_module": "@jupyter-widgets/controls"
          }
        },
        "2429a8b58c1b4c95b0966e3e07b77ddf": {
          "model_module": "@jupyter-widgets/base",
          "model_name": "LayoutModel",
          "model_module_version": "1.2.0",
          "state": {
            "_view_name": "LayoutView",
            "grid_template_rows": null,
            "right": null,
            "justify_content": null,
            "_view_module": "@jupyter-widgets/base",
            "overflow": null,
            "_model_module_version": "1.2.0",
            "_view_count": null,
            "flex_flow": null,
            "width": null,
            "min_width": null,
            "border": null,
            "align_items": null,
            "bottom": null,
            "_model_module": "@jupyter-widgets/base",
            "top": null,
            "grid_column": null,
            "overflow_y": null,
            "overflow_x": null,
            "grid_auto_flow": null,
            "grid_area": null,
            "grid_template_columns": null,
            "flex": null,
            "_model_name": "LayoutModel",
            "justify_items": null,
            "grid_row": null,
            "max_height": null,
            "align_content": null,
            "visibility": null,
            "align_self": null,
            "height": null,
            "min_height": null,
            "padding": null,
            "grid_auto_rows": null,
            "grid_gap": null,
            "max_width": null,
            "order": null,
            "_view_module_version": "1.2.0",
            "grid_template_areas": null,
            "object_position": null,
            "object_fit": null,
            "grid_auto_columns": null,
            "margin": null,
            "display": null,
            "left": null
          }
        },
        "166ea583a815412eac863800ed5ffb79": {
          "model_module": "@jupyter-widgets/controls",
          "model_name": "DescriptionStyleModel",
          "model_module_version": "1.5.0",
          "state": {
            "_view_name": "StyleView",
            "_model_name": "DescriptionStyleModel",
            "description_width": "",
            "_view_module": "@jupyter-widgets/base",
            "_model_module_version": "1.5.0",
            "_view_count": null,
            "_view_module_version": "1.2.0",
            "_model_module": "@jupyter-widgets/controls"
          }
        },
        "8355d58565c247c5b0e09497f9678f85": {
          "model_module": "@jupyter-widgets/base",
          "model_name": "LayoutModel",
          "model_module_version": "1.2.0",
          "state": {
            "_view_name": "LayoutView",
            "grid_template_rows": null,
            "right": null,
            "justify_content": null,
            "_view_module": "@jupyter-widgets/base",
            "overflow": null,
            "_model_module_version": "1.2.0",
            "_view_count": null,
            "flex_flow": null,
            "width": null,
            "min_width": null,
            "border": null,
            "align_items": null,
            "bottom": null,
            "_model_module": "@jupyter-widgets/base",
            "top": null,
            "grid_column": null,
            "overflow_y": null,
            "overflow_x": null,
            "grid_auto_flow": null,
            "grid_area": null,
            "grid_template_columns": null,
            "flex": null,
            "_model_name": "LayoutModel",
            "justify_items": null,
            "grid_row": null,
            "max_height": null,
            "align_content": null,
            "visibility": null,
            "align_self": null,
            "height": null,
            "min_height": null,
            "padding": null,
            "grid_auto_rows": null,
            "grid_gap": null,
            "max_width": null,
            "order": null,
            "_view_module_version": "1.2.0",
            "grid_template_areas": null,
            "object_position": null,
            "object_fit": null,
            "grid_auto_columns": null,
            "margin": null,
            "display": null,
            "left": null
          }
        },
        "b0e8655e41f343ba8800eb20148a20ca": {
          "model_module": "@jupyter-widgets/controls",
          "model_name": "HBoxModel",
          "model_module_version": "1.5.0",
          "state": {
            "_view_name": "HBoxView",
            "_dom_classes": [],
            "_model_name": "HBoxModel",
            "_view_module": "@jupyter-widgets/controls",
            "_model_module_version": "1.5.0",
            "_view_count": null,
            "_view_module_version": "1.5.0",
            "box_style": "",
            "layout": "IPY_MODEL_8ab3685e110e4bf7a2e30c64ddd6156e",
            "_model_module": "@jupyter-widgets/controls",
            "children": [
              "IPY_MODEL_5eafc8ac5bbc4099abf09e2787f6c551",
              "IPY_MODEL_3bcbe504f0db4e94b523b844db23c160",
              "IPY_MODEL_4fea937f4db24d4b8d33edb037e46836"
            ]
          }
        },
        "8ab3685e110e4bf7a2e30c64ddd6156e": {
          "model_module": "@jupyter-widgets/base",
          "model_name": "LayoutModel",
          "model_module_version": "1.2.0",
          "state": {
            "_view_name": "LayoutView",
            "grid_template_rows": null,
            "right": null,
            "justify_content": null,
            "_view_module": "@jupyter-widgets/base",
            "overflow": null,
            "_model_module_version": "1.2.0",
            "_view_count": null,
            "flex_flow": null,
            "width": null,
            "min_width": null,
            "border": null,
            "align_items": null,
            "bottom": null,
            "_model_module": "@jupyter-widgets/base",
            "top": null,
            "grid_column": null,
            "overflow_y": null,
            "overflow_x": null,
            "grid_auto_flow": null,
            "grid_area": null,
            "grid_template_columns": null,
            "flex": null,
            "_model_name": "LayoutModel",
            "justify_items": null,
            "grid_row": null,
            "max_height": null,
            "align_content": null,
            "visibility": null,
            "align_self": null,
            "height": null,
            "min_height": null,
            "padding": null,
            "grid_auto_rows": null,
            "grid_gap": null,
            "max_width": null,
            "order": null,
            "_view_module_version": "1.2.0",
            "grid_template_areas": null,
            "object_position": null,
            "object_fit": null,
            "grid_auto_columns": null,
            "margin": null,
            "display": null,
            "left": null
          }
        },
        "5eafc8ac5bbc4099abf09e2787f6c551": {
          "model_module": "@jupyter-widgets/controls",
          "model_name": "HTMLModel",
          "model_module_version": "1.5.0",
          "state": {
            "_view_name": "HTMLView",
            "style": "IPY_MODEL_bb070cde90174bbda1c17be0d1da579e",
            "_dom_classes": [],
            "description": "",
            "_model_name": "HTMLModel",
            "placeholder": "​",
            "_view_module": "@jupyter-widgets/controls",
            "_model_module_version": "1.5.0",
            "value": "",
            "_view_count": null,
            "_view_module_version": "1.5.0",
            "description_tooltip": null,
            "_model_module": "@jupyter-widgets/controls",
            "layout": "IPY_MODEL_b5f426db304944deb398f7e84585baa0"
          }
        },
        "3bcbe504f0db4e94b523b844db23c160": {
          "model_module": "@jupyter-widgets/controls",
          "model_name": "FloatProgressModel",
          "model_module_version": "1.5.0",
          "state": {
            "_view_name": "ProgressView",
            "style": "IPY_MODEL_fc1f2cc13e8a4052954662482395ca14",
            "_dom_classes": [],
            "description": "",
            "_model_name": "FloatProgressModel",
            "bar_style": "success",
            "max": 1648877,
            "_view_module": "@jupyter-widgets/controls",
            "_model_module_version": "1.5.0",
            "value": 1648877,
            "_view_count": null,
            "_view_module_version": "1.5.0",
            "orientation": "horizontal",
            "min": 0,
            "description_tooltip": null,
            "_model_module": "@jupyter-widgets/controls",
            "layout": "IPY_MODEL_887ca6ff25d14d32b3f37d2f9a5a22e4"
          }
        },
        "4fea937f4db24d4b8d33edb037e46836": {
          "model_module": "@jupyter-widgets/controls",
          "model_name": "HTMLModel",
          "model_module_version": "1.5.0",
          "state": {
            "_view_name": "HTMLView",
            "style": "IPY_MODEL_f273edbae45a4844873daab991691d19",
            "_dom_classes": [],
            "description": "",
            "_model_name": "HTMLModel",
            "placeholder": "​",
            "_view_module": "@jupyter-widgets/controls",
            "_model_module_version": "1.5.0",
            "value": " 1649664/? [00:00&lt;00:00, 13024904.27it/s]",
            "_view_count": null,
            "_view_module_version": "1.5.0",
            "description_tooltip": null,
            "_model_module": "@jupyter-widgets/controls",
            "layout": "IPY_MODEL_abe2dcc46fab421ea97de53b0ecb68dd"
          }
        },
        "bb070cde90174bbda1c17be0d1da579e": {
          "model_module": "@jupyter-widgets/controls",
          "model_name": "DescriptionStyleModel",
          "model_module_version": "1.5.0",
          "state": {
            "_view_name": "StyleView",
            "_model_name": "DescriptionStyleModel",
            "description_width": "",
            "_view_module": "@jupyter-widgets/base",
            "_model_module_version": "1.5.0",
            "_view_count": null,
            "_view_module_version": "1.2.0",
            "_model_module": "@jupyter-widgets/controls"
          }
        },
        "b5f426db304944deb398f7e84585baa0": {
          "model_module": "@jupyter-widgets/base",
          "model_name": "LayoutModel",
          "model_module_version": "1.2.0",
          "state": {
            "_view_name": "LayoutView",
            "grid_template_rows": null,
            "right": null,
            "justify_content": null,
            "_view_module": "@jupyter-widgets/base",
            "overflow": null,
            "_model_module_version": "1.2.0",
            "_view_count": null,
            "flex_flow": null,
            "width": null,
            "min_width": null,
            "border": null,
            "align_items": null,
            "bottom": null,
            "_model_module": "@jupyter-widgets/base",
            "top": null,
            "grid_column": null,
            "overflow_y": null,
            "overflow_x": null,
            "grid_auto_flow": null,
            "grid_area": null,
            "grid_template_columns": null,
            "flex": null,
            "_model_name": "LayoutModel",
            "justify_items": null,
            "grid_row": null,
            "max_height": null,
            "align_content": null,
            "visibility": null,
            "align_self": null,
            "height": null,
            "min_height": null,
            "padding": null,
            "grid_auto_rows": null,
            "grid_gap": null,
            "max_width": null,
            "order": null,
            "_view_module_version": "1.2.0",
            "grid_template_areas": null,
            "object_position": null,
            "object_fit": null,
            "grid_auto_columns": null,
            "margin": null,
            "display": null,
            "left": null
          }
        },
        "fc1f2cc13e8a4052954662482395ca14": {
          "model_module": "@jupyter-widgets/controls",
          "model_name": "ProgressStyleModel",
          "model_module_version": "1.5.0",
          "state": {
            "_view_name": "StyleView",
            "_model_name": "ProgressStyleModel",
            "description_width": "",
            "_view_module": "@jupyter-widgets/base",
            "_model_module_version": "1.5.0",
            "_view_count": null,
            "_view_module_version": "1.2.0",
            "bar_color": null,
            "_model_module": "@jupyter-widgets/controls"
          }
        },
        "887ca6ff25d14d32b3f37d2f9a5a22e4": {
          "model_module": "@jupyter-widgets/base",
          "model_name": "LayoutModel",
          "model_module_version": "1.2.0",
          "state": {
            "_view_name": "LayoutView",
            "grid_template_rows": null,
            "right": null,
            "justify_content": null,
            "_view_module": "@jupyter-widgets/base",
            "overflow": null,
            "_model_module_version": "1.2.0",
            "_view_count": null,
            "flex_flow": null,
            "width": null,
            "min_width": null,
            "border": null,
            "align_items": null,
            "bottom": null,
            "_model_module": "@jupyter-widgets/base",
            "top": null,
            "grid_column": null,
            "overflow_y": null,
            "overflow_x": null,
            "grid_auto_flow": null,
            "grid_area": null,
            "grid_template_columns": null,
            "flex": null,
            "_model_name": "LayoutModel",
            "justify_items": null,
            "grid_row": null,
            "max_height": null,
            "align_content": null,
            "visibility": null,
            "align_self": null,
            "height": null,
            "min_height": null,
            "padding": null,
            "grid_auto_rows": null,
            "grid_gap": null,
            "max_width": null,
            "order": null,
            "_view_module_version": "1.2.0",
            "grid_template_areas": null,
            "object_position": null,
            "object_fit": null,
            "grid_auto_columns": null,
            "margin": null,
            "display": null,
            "left": null
          }
        },
        "f273edbae45a4844873daab991691d19": {
          "model_module": "@jupyter-widgets/controls",
          "model_name": "DescriptionStyleModel",
          "model_module_version": "1.5.0",
          "state": {
            "_view_name": "StyleView",
            "_model_name": "DescriptionStyleModel",
            "description_width": "",
            "_view_module": "@jupyter-widgets/base",
            "_model_module_version": "1.5.0",
            "_view_count": null,
            "_view_module_version": "1.2.0",
            "_model_module": "@jupyter-widgets/controls"
          }
        },
        "abe2dcc46fab421ea97de53b0ecb68dd": {
          "model_module": "@jupyter-widgets/base",
          "model_name": "LayoutModel",
          "model_module_version": "1.2.0",
          "state": {
            "_view_name": "LayoutView",
            "grid_template_rows": null,
            "right": null,
            "justify_content": null,
            "_view_module": "@jupyter-widgets/base",
            "overflow": null,
            "_model_module_version": "1.2.0",
            "_view_count": null,
            "flex_flow": null,
            "width": null,
            "min_width": null,
            "border": null,
            "align_items": null,
            "bottom": null,
            "_model_module": "@jupyter-widgets/base",
            "top": null,
            "grid_column": null,
            "overflow_y": null,
            "overflow_x": null,
            "grid_auto_flow": null,
            "grid_area": null,
            "grid_template_columns": null,
            "flex": null,
            "_model_name": "LayoutModel",
            "justify_items": null,
            "grid_row": null,
            "max_height": null,
            "align_content": null,
            "visibility": null,
            "align_self": null,
            "height": null,
            "min_height": null,
            "padding": null,
            "grid_auto_rows": null,
            "grid_gap": null,
            "max_width": null,
            "order": null,
            "_view_module_version": "1.2.0",
            "grid_template_areas": null,
            "object_position": null,
            "object_fit": null,
            "grid_auto_columns": null,
            "margin": null,
            "display": null,
            "left": null
          }
        },
        "b3634eea310647b6b8a79fb3987720b9": {
          "model_module": "@jupyter-widgets/controls",
          "model_name": "HBoxModel",
          "model_module_version": "1.5.0",
          "state": {
            "_view_name": "HBoxView",
            "_dom_classes": [],
            "_model_name": "HBoxModel",
            "_view_module": "@jupyter-widgets/controls",
            "_model_module_version": "1.5.0",
            "_view_count": null,
            "_view_module_version": "1.5.0",
            "box_style": "",
            "layout": "IPY_MODEL_077784fff6874281bb27699f0d343bf7",
            "_model_module": "@jupyter-widgets/controls",
            "children": [
              "IPY_MODEL_e4278045f33248bb9bfd2549e6b3803a",
              "IPY_MODEL_aee430c8b70f45de973bff2ba1cc5bb7",
              "IPY_MODEL_e223479b7e1648f7a6025af9c1ab634c"
            ]
          }
        },
        "077784fff6874281bb27699f0d343bf7": {
          "model_module": "@jupyter-widgets/base",
          "model_name": "LayoutModel",
          "model_module_version": "1.2.0",
          "state": {
            "_view_name": "LayoutView",
            "grid_template_rows": null,
            "right": null,
            "justify_content": null,
            "_view_module": "@jupyter-widgets/base",
            "overflow": null,
            "_model_module_version": "1.2.0",
            "_view_count": null,
            "flex_flow": null,
            "width": null,
            "min_width": null,
            "border": null,
            "align_items": null,
            "bottom": null,
            "_model_module": "@jupyter-widgets/base",
            "top": null,
            "grid_column": null,
            "overflow_y": null,
            "overflow_x": null,
            "grid_auto_flow": null,
            "grid_area": null,
            "grid_template_columns": null,
            "flex": null,
            "_model_name": "LayoutModel",
            "justify_items": null,
            "grid_row": null,
            "max_height": null,
            "align_content": null,
            "visibility": null,
            "align_self": null,
            "height": null,
            "min_height": null,
            "padding": null,
            "grid_auto_rows": null,
            "grid_gap": null,
            "max_width": null,
            "order": null,
            "_view_module_version": "1.2.0",
            "grid_template_areas": null,
            "object_position": null,
            "object_fit": null,
            "grid_auto_columns": null,
            "margin": null,
            "display": null,
            "left": null
          }
        },
        "e4278045f33248bb9bfd2549e6b3803a": {
          "model_module": "@jupyter-widgets/controls",
          "model_name": "HTMLModel",
          "model_module_version": "1.5.0",
          "state": {
            "_view_name": "HTMLView",
            "style": "IPY_MODEL_7ce53e50bb124fb7a0e96fab8e510233",
            "_dom_classes": [],
            "description": "",
            "_model_name": "HTMLModel",
            "placeholder": "​",
            "_view_module": "@jupyter-widgets/controls",
            "_model_module_version": "1.5.0",
            "value": "",
            "_view_count": null,
            "_view_module_version": "1.5.0",
            "description_tooltip": null,
            "_model_module": "@jupyter-widgets/controls",
            "layout": "IPY_MODEL_1a415265d1d2496683e466ec23a1dd1f"
          }
        },
        "aee430c8b70f45de973bff2ba1cc5bb7": {
          "model_module": "@jupyter-widgets/controls",
          "model_name": "FloatProgressModel",
          "model_module_version": "1.5.0",
          "state": {
            "_view_name": "ProgressView",
            "style": "IPY_MODEL_3c243ed2e27b4d86a404b33c32d2516b",
            "_dom_classes": [],
            "description": "",
            "_model_name": "FloatProgressModel",
            "bar_style": "success",
            "max": 4542,
            "_view_module": "@jupyter-widgets/controls",
            "_model_module_version": "1.5.0",
            "value": 4542,
            "_view_count": null,
            "_view_module_version": "1.5.0",
            "orientation": "horizontal",
            "min": 0,
            "description_tooltip": null,
            "_model_module": "@jupyter-widgets/controls",
            "layout": "IPY_MODEL_a3d875794d1e4e64969462c095c21449"
          }
        },
        "e223479b7e1648f7a6025af9c1ab634c": {
          "model_module": "@jupyter-widgets/controls",
          "model_name": "HTMLModel",
          "model_module_version": "1.5.0",
          "state": {
            "_view_name": "HTMLView",
            "style": "IPY_MODEL_81caf26118ea4d64809ed886d086878f",
            "_dom_classes": [],
            "description": "",
            "_model_name": "HTMLModel",
            "placeholder": "​",
            "_view_module": "@jupyter-widgets/controls",
            "_model_module_version": "1.5.0",
            "value": " 5120/? [00:00&lt;00:00, 143285.94it/s]",
            "_view_count": null,
            "_view_module_version": "1.5.0",
            "description_tooltip": null,
            "_model_module": "@jupyter-widgets/controls",
            "layout": "IPY_MODEL_8fd0143345904c0fa9d9bbe5601ec57c"
          }
        },
        "7ce53e50bb124fb7a0e96fab8e510233": {
          "model_module": "@jupyter-widgets/controls",
          "model_name": "DescriptionStyleModel",
          "model_module_version": "1.5.0",
          "state": {
            "_view_name": "StyleView",
            "_model_name": "DescriptionStyleModel",
            "description_width": "",
            "_view_module": "@jupyter-widgets/base",
            "_model_module_version": "1.5.0",
            "_view_count": null,
            "_view_module_version": "1.2.0",
            "_model_module": "@jupyter-widgets/controls"
          }
        },
        "1a415265d1d2496683e466ec23a1dd1f": {
          "model_module": "@jupyter-widgets/base",
          "model_name": "LayoutModel",
          "model_module_version": "1.2.0",
          "state": {
            "_view_name": "LayoutView",
            "grid_template_rows": null,
            "right": null,
            "justify_content": null,
            "_view_module": "@jupyter-widgets/base",
            "overflow": null,
            "_model_module_version": "1.2.0",
            "_view_count": null,
            "flex_flow": null,
            "width": null,
            "min_width": null,
            "border": null,
            "align_items": null,
            "bottom": null,
            "_model_module": "@jupyter-widgets/base",
            "top": null,
            "grid_column": null,
            "overflow_y": null,
            "overflow_x": null,
            "grid_auto_flow": null,
            "grid_area": null,
            "grid_template_columns": null,
            "flex": null,
            "_model_name": "LayoutModel",
            "justify_items": null,
            "grid_row": null,
            "max_height": null,
            "align_content": null,
            "visibility": null,
            "align_self": null,
            "height": null,
            "min_height": null,
            "padding": null,
            "grid_auto_rows": null,
            "grid_gap": null,
            "max_width": null,
            "order": null,
            "_view_module_version": "1.2.0",
            "grid_template_areas": null,
            "object_position": null,
            "object_fit": null,
            "grid_auto_columns": null,
            "margin": null,
            "display": null,
            "left": null
          }
        },
        "3c243ed2e27b4d86a404b33c32d2516b": {
          "model_module": "@jupyter-widgets/controls",
          "model_name": "ProgressStyleModel",
          "model_module_version": "1.5.0",
          "state": {
            "_view_name": "StyleView",
            "_model_name": "ProgressStyleModel",
            "description_width": "",
            "_view_module": "@jupyter-widgets/base",
            "_model_module_version": "1.5.0",
            "_view_count": null,
            "_view_module_version": "1.2.0",
            "bar_color": null,
            "_model_module": "@jupyter-widgets/controls"
          }
        },
        "a3d875794d1e4e64969462c095c21449": {
          "model_module": "@jupyter-widgets/base",
          "model_name": "LayoutModel",
          "model_module_version": "1.2.0",
          "state": {
            "_view_name": "LayoutView",
            "grid_template_rows": null,
            "right": null,
            "justify_content": null,
            "_view_module": "@jupyter-widgets/base",
            "overflow": null,
            "_model_module_version": "1.2.0",
            "_view_count": null,
            "flex_flow": null,
            "width": null,
            "min_width": null,
            "border": null,
            "align_items": null,
            "bottom": null,
            "_model_module": "@jupyter-widgets/base",
            "top": null,
            "grid_column": null,
            "overflow_y": null,
            "overflow_x": null,
            "grid_auto_flow": null,
            "grid_area": null,
            "grid_template_columns": null,
            "flex": null,
            "_model_name": "LayoutModel",
            "justify_items": null,
            "grid_row": null,
            "max_height": null,
            "align_content": null,
            "visibility": null,
            "align_self": null,
            "height": null,
            "min_height": null,
            "padding": null,
            "grid_auto_rows": null,
            "grid_gap": null,
            "max_width": null,
            "order": null,
            "_view_module_version": "1.2.0",
            "grid_template_areas": null,
            "object_position": null,
            "object_fit": null,
            "grid_auto_columns": null,
            "margin": null,
            "display": null,
            "left": null
          }
        },
        "81caf26118ea4d64809ed886d086878f": {
          "model_module": "@jupyter-widgets/controls",
          "model_name": "DescriptionStyleModel",
          "model_module_version": "1.5.0",
          "state": {
            "_view_name": "StyleView",
            "_model_name": "DescriptionStyleModel",
            "description_width": "",
            "_view_module": "@jupyter-widgets/base",
            "_model_module_version": "1.5.0",
            "_view_count": null,
            "_view_module_version": "1.2.0",
            "_model_module": "@jupyter-widgets/controls"
          }
        },
        "8fd0143345904c0fa9d9bbe5601ec57c": {
          "model_module": "@jupyter-widgets/base",
          "model_name": "LayoutModel",
          "model_module_version": "1.2.0",
          "state": {
            "_view_name": "LayoutView",
            "grid_template_rows": null,
            "right": null,
            "justify_content": null,
            "_view_module": "@jupyter-widgets/base",
            "overflow": null,
            "_model_module_version": "1.2.0",
            "_view_count": null,
            "flex_flow": null,
            "width": null,
            "min_width": null,
            "border": null,
            "align_items": null,
            "bottom": null,
            "_model_module": "@jupyter-widgets/base",
            "top": null,
            "grid_column": null,
            "overflow_y": null,
            "overflow_x": null,
            "grid_auto_flow": null,
            "grid_area": null,
            "grid_template_columns": null,
            "flex": null,
            "_model_name": "LayoutModel",
            "justify_items": null,
            "grid_row": null,
            "max_height": null,
            "align_content": null,
            "visibility": null,
            "align_self": null,
            "height": null,
            "min_height": null,
            "padding": null,
            "grid_auto_rows": null,
            "grid_gap": null,
            "max_width": null,
            "order": null,
            "_view_module_version": "1.2.0",
            "grid_template_areas": null,
            "object_position": null,
            "object_fit": null,
            "grid_auto_columns": null,
            "margin": null,
            "display": null,
            "left": null
          }
        }
      }
    },
    "language_info": {
      "name": "python"
    },
    "kernelspec": {
      "name": "python3",
      "display_name": "Python 3"
    }
  },
  "cells": [
    {
      "cell_type": "markdown",
      "metadata": {
        "id": "view-in-github",
        "colab_type": "text"
      },
      "source": [
        "<a href=\"https://colab.research.google.com/github/saiffardin/pytorch/blob/main/04_feedforward_nn.ipynb\" target=\"_parent\"><img src=\"https://colab.research.google.com/assets/colab-badge.svg\" alt=\"Open In Colab\"/></a>"
      ]
    },
    {
      "cell_type": "markdown",
      "metadata": {
        "id": "x0sQkmyWpeT4"
      },
      "source": [
        "# Training Deep Neural Networks on a GPU with PyTorch\n",
        "\n",
        "### Part 4 of \"Deep Learning with Pytorch: Zero to GANs\"\n",
        "\n",
        "This tutorial series is a hands-on beginner-friendly introduction to deep learning using [PyTorch](https://pytorch.org), an open-source neural networks library. These tutorials take a practical and coding-focused approach. The best way to learn the material is to execute the code and experiment with it yourself. Check out the full series here:\n",
        "\n",
        "1. [PyTorch Basics: Tensors & Gradients](https://jovian.ai/aakashns/01-pytorch-basics)\n",
        "2. [Gradient Descent & Linear Regression](https://jovian.ai/aakashns/02-linear-regression)\n",
        "3. [Working with Images & Logistic Regression](https://jovian.ai/aakashns/03-logistic-regression) \n",
        "4. [Training Deep Neural Networks on a GPU](https://jovian.ai/aakashns/04-feedforward-nn)\n",
        "5. [Image Classification using Convolutional Neural Networks](https://jovian.ai/aakashns/05-cifar10-cnn)\n",
        "6. [Data Augmentation, Regularization and ResNets](https://jovian.ai/aakashns/05b-cifar10-resnet)\n",
        "7. [Generating Images using Generative Adversarial Networks](https://jovian.ai/aakashns/06b-anime-dcgan/)\n"
      ]
    },
    {
      "cell_type": "markdown",
      "metadata": {
        "id": "zRMQYXirpeT5"
      },
      "source": [
        " This tutorial covers the following topics:\n",
        " \n",
        " * Creating a deep neural network with hidden layers\n",
        " * Using a non-linear activation function\n",
        " * Using a GPU (when available) to speed up training\n",
        " * Experimenting with hyperparameters to improve the model"
      ]
    },
    {
      "cell_type": "markdown",
      "metadata": {
        "id": "wdphVwCopeT5"
      },
      "source": [
        "### Using a GPU for faster training\n",
        "\n",
        "You can use a [Graphics Processing Unit](https://en.wikipedia.org/wiki/Graphics_processing_unit) (GPU) to train your models faster if your execution platform is connected to a GPU manufactured by NVIDIA. Follow these instructions to use a GPU on the platform of your choice:\n",
        "\n",
        "* _Google Colab_: Use the menu option \"Runtime > Change Runtime Type\" and select \"GPU\" from the \"Hardware Accelerator\" dropdown.\n",
        "* _Kaggle_: In the \"Settings\" section of the sidebar, select \"GPU\" from the \"Accelerator\" dropdown. Use the button on the top-right to open the sidebar.\n",
        "* _Binder_: Notebooks running on Binder cannot use a GPU, as the machines powering Binder aren't connected to any GPUs.\n",
        "* _Linux_: If your laptop/desktop has an NVIDIA GPU (graphics card), make sure you have installed the [NVIDIA CUDA drivers](https://docs.nvidia.com/cuda/cuda-installation-guide-linux/index.html).\n",
        "* _Windows_: If your laptop/desktop has an NVIDIA GPU (graphics card), make sure you have installed the [NVIDIA CUDA drivers](https://docs.nvidia.com/cuda/cuda-installation-guide-microsoft-windows/index.html).\n",
        "* _macOS_: macOS is not compatible with NVIDIA GPUs\n",
        "\n",
        "\n",
        "If you do not have access to a GPU or aren't sure what it is, don't worry, you can execute all the code in this tutorial just fine without a GPU."
      ]
    },
    {
      "cell_type": "markdown",
      "metadata": {
        "id": "h1N-aPtrpeT5"
      },
      "source": [
        "## Preparing the Data\n",
        "\n",
        "In [the previous tutorial](https://jovian.ai/aakashns/03-logistic-regression), we trained a logistic regression model to identify handwritten digits from the MNIST dataset with an accuracy of around 86%. The dataset consists of 28px by 28px grayscale images of handwritten digits (0 to 9) and labels for each image indicating which digit it represents. Here are some sample images from the dataset:\n",
        "\n",
        "![mnist-sample](https://i.imgur.com/CAYnuo1.jpg)\n",
        "\n",
        "We noticed that it's quite challenging to improve the accuracy of a logistic regression model beyond 87%, since the model assumes a linear relationship between pixel intensities and image labels. In this post, we'll try to improve upon it  using a *feed-forward neural network* which can capture non-linear relationships between inputs and targets.\n",
        "\n",
        "Let's begin by installing and importing the required modules and classes from `torch`, `torchvision`, `numpy`, and `matplotlib`."
      ]
    },
    {
      "cell_type": "markdown",
      "metadata": {
        "id": "VWQyfo2Idb6Y"
      },
      "source": [
        "## Imports"
      ]
    },
    {
      "cell_type": "code",
      "metadata": {
        "id": "WapU423CpeT5"
      },
      "source": [
        "import torch\n",
        "import torchvision\n",
        "import numpy as np\n",
        "import matplotlib\n",
        "import matplotlib.pyplot as plt\n",
        "import torch.nn as nn\n",
        "import torch.nn.functional as F\n",
        "from torchvision.datasets import MNIST\n",
        "from torchvision.transforms import ToTensor\n",
        "from torchvision.utils import make_grid\n",
        "from torch.utils.data.dataloader import DataLoader\n",
        "from torch.utils.data import random_split"
      ],
      "execution_count": null,
      "outputs": []
    },
    {
      "cell_type": "markdown",
      "metadata": {
        "id": "wa8Y7hGhpeT5"
      },
      "source": [
        "We can download the data and create a PyTorch dataset using the `MNIST` class from `torchvision.datasets`. "
      ]
    },
    {
      "cell_type": "code",
      "metadata": {
        "colab": {
          "base_uri": "https://localhost:8080/",
          "height": 474,
          "referenced_widgets": [
            "6ef108c75f4f4330833ea901d788cbf0",
            "adf6d1c8d4254477b8760e7f02ef07cb",
            "d7a20d5cfad74f2e8cf5ce95a3e71c24",
            "fc44ddfc23f74a4b8ef0b4a49e06a409",
            "bfcb1f64905640a8a1ce4049e557fc4f",
            "a49533d3314141a5b37fbcb5ab77dba4",
            "c1841a4ba0254a8b9d71ff2c795f9812",
            "18c11eab5e5048dd9434ad51a802d0cb",
            "880b3b79c6084f8bab68ad331d321205",
            "b162bfa0dc0c4df7a62488d8c4e0ee71",
            "449ebab9400a4d198fdfc79bea873e6d",
            "59c5797c0bd84271b8be41170588d6b8",
            "6f75ce19720c4d5ea1f8406346020377",
            "ce4de0dfda054681adf2c95f103e74d8",
            "77e888c17c254632aa673dec48fd9cc4",
            "787c6f4f28c141bc8ba1d66928048881",
            "dddbf34e6d574814bf514f84a7c3f247",
            "6199ce6b183041ec9ca96bb36dc07399",
            "58ed68a3b4ef4e0080df4ee3c5d85ad9",
            "2429a8b58c1b4c95b0966e3e07b77ddf",
            "166ea583a815412eac863800ed5ffb79",
            "8355d58565c247c5b0e09497f9678f85",
            "b0e8655e41f343ba8800eb20148a20ca",
            "8ab3685e110e4bf7a2e30c64ddd6156e",
            "5eafc8ac5bbc4099abf09e2787f6c551",
            "3bcbe504f0db4e94b523b844db23c160",
            "4fea937f4db24d4b8d33edb037e46836",
            "bb070cde90174bbda1c17be0d1da579e",
            "b5f426db304944deb398f7e84585baa0",
            "fc1f2cc13e8a4052954662482395ca14",
            "887ca6ff25d14d32b3f37d2f9a5a22e4",
            "f273edbae45a4844873daab991691d19",
            "abe2dcc46fab421ea97de53b0ecb68dd",
            "b3634eea310647b6b8a79fb3987720b9",
            "077784fff6874281bb27699f0d343bf7",
            "e4278045f33248bb9bfd2549e6b3803a",
            "aee430c8b70f45de973bff2ba1cc5bb7",
            "e223479b7e1648f7a6025af9c1ab634c",
            "7ce53e50bb124fb7a0e96fab8e510233",
            "1a415265d1d2496683e466ec23a1dd1f",
            "3c243ed2e27b4d86a404b33c32d2516b",
            "a3d875794d1e4e64969462c095c21449",
            "81caf26118ea4d64809ed886d086878f",
            "8fd0143345904c0fa9d9bbe5601ec57c"
          ]
        },
        "id": "CCfhGj-IpeT5",
        "outputId": "8dd4e234-8790-4aeb-82a0-500ffd19dbd9"
      },
      "source": [
        "dataset = MNIST(root='data/', download=True, transform=ToTensor())"
      ],
      "execution_count": null,
      "outputs": [
        {
          "output_type": "stream",
          "name": "stdout",
          "text": [
            "Downloading http://yann.lecun.com/exdb/mnist/train-images-idx3-ubyte.gz\n",
            "Downloading http://yann.lecun.com/exdb/mnist/train-images-idx3-ubyte.gz to data/MNIST/raw/train-images-idx3-ubyte.gz\n"
          ]
        },
        {
          "output_type": "display_data",
          "data": {
            "application/vnd.jupyter.widget-view+json": {
              "model_id": "6ef108c75f4f4330833ea901d788cbf0",
              "version_minor": 0,
              "version_major": 2
            },
            "text/plain": [
              "  0%|          | 0/9912422 [00:00<?, ?it/s]"
            ]
          },
          "metadata": {}
        },
        {
          "output_type": "stream",
          "name": "stdout",
          "text": [
            "Extracting data/MNIST/raw/train-images-idx3-ubyte.gz to data/MNIST/raw\n",
            "\n",
            "Downloading http://yann.lecun.com/exdb/mnist/train-labels-idx1-ubyte.gz\n",
            "Downloading http://yann.lecun.com/exdb/mnist/train-labels-idx1-ubyte.gz to data/MNIST/raw/train-labels-idx1-ubyte.gz\n"
          ]
        },
        {
          "output_type": "display_data",
          "data": {
            "application/vnd.jupyter.widget-view+json": {
              "model_id": "59c5797c0bd84271b8be41170588d6b8",
              "version_minor": 0,
              "version_major": 2
            },
            "text/plain": [
              "  0%|          | 0/28881 [00:00<?, ?it/s]"
            ]
          },
          "metadata": {}
        },
        {
          "output_type": "stream",
          "name": "stdout",
          "text": [
            "Extracting data/MNIST/raw/train-labels-idx1-ubyte.gz to data/MNIST/raw\n",
            "\n",
            "Downloading http://yann.lecun.com/exdb/mnist/t10k-images-idx3-ubyte.gz\n",
            "Downloading http://yann.lecun.com/exdb/mnist/t10k-images-idx3-ubyte.gz to data/MNIST/raw/t10k-images-idx3-ubyte.gz\n"
          ]
        },
        {
          "output_type": "display_data",
          "data": {
            "application/vnd.jupyter.widget-view+json": {
              "model_id": "b0e8655e41f343ba8800eb20148a20ca",
              "version_minor": 0,
              "version_major": 2
            },
            "text/plain": [
              "  0%|          | 0/1648877 [00:00<?, ?it/s]"
            ]
          },
          "metadata": {}
        },
        {
          "output_type": "stream",
          "name": "stdout",
          "text": [
            "Extracting data/MNIST/raw/t10k-images-idx3-ubyte.gz to data/MNIST/raw\n",
            "\n",
            "Downloading http://yann.lecun.com/exdb/mnist/t10k-labels-idx1-ubyte.gz\n",
            "Downloading http://yann.lecun.com/exdb/mnist/t10k-labels-idx1-ubyte.gz to data/MNIST/raw/t10k-labels-idx1-ubyte.gz\n"
          ]
        },
        {
          "output_type": "display_data",
          "data": {
            "application/vnd.jupyter.widget-view+json": {
              "model_id": "b3634eea310647b6b8a79fb3987720b9",
              "version_minor": 0,
              "version_major": 2
            },
            "text/plain": [
              "  0%|          | 0/4542 [00:00<?, ?it/s]"
            ]
          },
          "metadata": {}
        },
        {
          "output_type": "stream",
          "name": "stdout",
          "text": [
            "Extracting data/MNIST/raw/t10k-labels-idx1-ubyte.gz to data/MNIST/raw\n",
            "\n"
          ]
        },
        {
          "output_type": "stream",
          "name": "stderr",
          "text": [
            "/usr/local/lib/python3.7/dist-packages/torchvision/datasets/mnist.py:498: UserWarning: The given NumPy array is not writeable, and PyTorch does not support non-writeable tensors. This means you can write to the underlying (supposedly non-writeable) NumPy array using the tensor. You may want to copy the array to protect its data or make it writeable before converting it to a tensor. This type of warning will be suppressed for the rest of this program. (Triggered internally at  /pytorch/torch/csrc/utils/tensor_numpy.cpp:180.)\n",
            "  return torch.from_numpy(parsed.astype(m[2], copy=False)).view(*s)\n"
          ]
        }
      ]
    },
    {
      "cell_type": "markdown",
      "metadata": {
        "id": "MiRUV62EV5BY"
      },
      "source": [
        "Let's look at a couple of images from the dataset. The images are converted to PyTorch tensors with the shape `1x28x28` (the dimensions represent color channels, width and height). We can use `plt.imshow` to display the images. However, `plt.imshow` expects channels to be last dimension in an image tensor, so we use the `permute` method to reorder the dimensions of the image."
      ]
    },
    {
      "cell_type": "code",
      "metadata": {
        "colab": {
          "base_uri": "https://localhost:8080/"
        },
        "id": "_olgxqInZdVE",
        "outputId": "dc7d0d97-0d4c-4d26-b024-b531f9b38284"
      },
      "source": [
        "a = torch.randn(2,3,4)\n",
        "print(a.shape)\n",
        "print(a.permute(1, 2, 0).shape)"
      ],
      "execution_count": null,
      "outputs": [
        {
          "output_type": "stream",
          "name": "stdout",
          "text": [
            "torch.Size([2, 3, 4])\n",
            "torch.Size([3, 4, 2])\n"
          ]
        }
      ]
    },
    {
      "cell_type": "code",
      "metadata": {
        "colab": {
          "base_uri": "https://localhost:8080/",
          "height": 299
        },
        "id": "dOiU4AsNV5BZ",
        "outputId": "65d3cc7b-27a4-4b09-aa9b-32557bb1e44f"
      },
      "source": [
        "image, label = dataset[0]\n",
        "print('image.shape:', image.shape)\n",
        "plt.imshow(image.reshape(28,28), cmap='gray')\n",
        "print('Label:', label)"
      ],
      "execution_count": null,
      "outputs": [
        {
          "output_type": "stream",
          "name": "stdout",
          "text": [
            "image.shape: torch.Size([1, 28, 28])\n",
            "Label: 5\n"
          ]
        },
        {
          "output_type": "display_data",
          "data": {
            "image/png": "[encoded data removed]",
            "text/plain": [
              "<Figure size 432x288 with 1 Axes>"
            ]
          },
          "metadata": {
            "needs_background": "light"
          }
        }
      ]
    },
    {
      "cell_type": "code",
      "metadata": {
        "id": "M5x75NfRV5Ba"
      },
      "source": [
        "# this code isn't working\n",
        "\n",
        "image, label = dataset[0]\n",
        "print('image.shape:', image.shape)\n",
        "plt.imshow(image.permute(1, 2, 0), cmap='gray')\n",
        "print('Label:', label)"
      ],
      "execution_count": null,
      "outputs": []
    },
    {
      "cell_type": "markdown",
      "metadata": {
        "id": "4vjwsyaDpeT5"
      },
      "source": [
        "Next, let's use the `random_split` helper function to set aside 10000 images for our validation set."
      ]
    },
    {
      "cell_type": "markdown",
      "metadata": {
        "id": "GFYwdra5dqJu"
      },
      "source": [
        "## Train and Val DS"
      ]
    },
    {
      "cell_type": "code",
      "metadata": {
        "colab": {
          "base_uri": "https://localhost:8080/"
        },
        "id": "Cgek18qlpeT5",
        "outputId": "817ad064-1658-4599-a6b4-c833cc57ad3d"
      },
      "source": [
        "val_size = 10000\n",
        "train_size = len(dataset) - val_size\n",
        "\n",
        "train_ds, val_ds = random_split(dataset, [train_size, val_size])\n",
        "len(train_ds), len(val_ds)"
      ],
      "execution_count": null,
      "outputs": [
        {
          "output_type": "execute_result",
          "data": {
            "text/plain": [
              "(50000, 10000)"
            ]
          },
          "metadata": {},
          "execution_count": 3
        }
      ]
    },
    {
      "cell_type": "markdown",
      "metadata": {
        "id": "PxB8SiaYpeT6"
      },
      "source": [
        "We can now create PyTorch data loaders for training and validation."
      ]
    },
    {
      "cell_type": "code",
      "metadata": {
        "id": "cK_hoRYSpeT6"
      },
      "source": [
        "batch_size=128"
      ],
      "execution_count": null,
      "outputs": []
    },
    {
      "cell_type": "code",
      "metadata": {
        "id": "iShTOn-vpeT6"
      },
      "source": [
        "train_loader = DataLoader(train_ds, batch_size, shuffle=True)\n",
        "val_loader = DataLoader(val_ds, batch_size*2)"
      ],
      "execution_count": null,
      "outputs": []
    },
    {
      "cell_type": "markdown",
      "metadata": {
        "id": "fjucG3lnpeT6"
      },
      "source": [
        "Can you figure out the purpose of the arguments `num_workers` and `pin_memory`? Try looking into the documentation: https://pytorch.org/docs/stable/data.html .\n",
        "\n",
        "Let's visualize a batch of data in a grid using the `make_grid` function from `torchvision`. We'll also use the `.permute` method on the tensor to move the channels to the last dimension, as expected by `matplotlib`."
      ]
    },
    {
      "cell_type": "code",
      "metadata": {
        "colab": {
          "base_uri": "https://localhost:8080/",
          "height": 378
        },
        "id": "YshQj9srpeT6",
        "outputId": "580be370-e720-44b2-c586-291997bd184d"
      },
      "source": [
        "for images, _ in train_loader:\n",
        "    print('images.shape:', images.shape)\n",
        "    plt.figure(figsize=(16,8))\n",
        "    plt.axis('off')\n",
        "    plt.imshow(make_grid(images, nrow=16).permute((1, 2, 0)))\n",
        "    break"
      ],
      "execution_count": null,
      "outputs": [
        {
          "output_type": "stream",
          "name": "stdout",
          "text": [
            "images.shape: torch.Size([128, 1, 28, 28])\n"
          ]
        },
        {
          "output_type": "display_data",
          "data": {
            "image/png": "[encoded data removed]",
            "text/plain": [
              "<Figure size 1152x576 with 1 Axes>"
            ]
          },
          "metadata": {
            "needs_background": "light"
          }
        }
      ]
    },
    {
      "cell_type": "markdown",
      "metadata": {
        "id": "OKEjn2zvpeT6"
      },
      "source": [
        "## Hidden Layers, Activation Functions and Non-Linearity\n",
        "\n",
        "We'll create a neural network with two layers: a _hidden layer_ and an _output layer_. Additionally, we'll use an _activation function_ between the two layers. Let's look at a step-by-step example to learn how hidden layers and activation functions can help capture non-linear relationships between inputs and outputs.\n",
        "\n",
        "First, let's create a batch of inputs tensors. We'll flatten the `1x28x28` images into vectors of size `784`, so they can be passed into an `nn.Linear` object."
      ]
    },
    {
      "cell_type": "code",
      "metadata": {
        "colab": {
          "base_uri": "https://localhost:8080/"
        },
        "id": "B5iPCdqEpeT6",
        "outputId": "7093721b-4678-4ba4-9af6-5ca342992ee3"
      },
      "source": [
        "for images, labels in train_loader:\n",
        "    print('images.shape:', images.shape)\n",
        "    inputs = images.reshape(-1, 784)\n",
        "    print('inputs.shape:', inputs.shape)\n",
        "    break"
      ],
      "execution_count": null,
      "outputs": [
        {
          "output_type": "stream",
          "name": "stdout",
          "text": [
            "images.shape: torch.Size([128, 1, 28, 28])\n",
            "inputs.shape: torch.Size([128, 784])\n"
          ]
        }
      ]
    },
    {
      "cell_type": "markdown",
      "metadata": {
        "id": "mF__u2QfpeT6"
      },
      "source": [
        "Next, let's create a `nn.Linear` object, which will serve as our _hidden_ layer. We'll set the size of the output from the hidden layer to 32. This number can be increased or decreased to change the _learning capacity_ of the model."
      ]
    },
    {
      "cell_type": "code",
      "metadata": {
        "colab": {
          "base_uri": "https://localhost:8080/"
        },
        "id": "1sPmO_yEDHuH",
        "outputId": "0b3388ae-ba4c-4748-ed42-b00b8475564b"
      },
      "source": [
        "inputs.shape[-1]"
      ],
      "execution_count": null,
      "outputs": [
        {
          "output_type": "execute_result",
          "data": {
            "text/plain": [
              "784"
            ]
          },
          "metadata": {},
          "execution_count": 14
        }
      ]
    },
    {
      "cell_type": "code",
      "metadata": {
        "id": "6zXN1c4PpeT6"
      },
      "source": [
        "input_size = inputs.shape[-1]\n",
        "hidden_size = 32"
      ],
      "execution_count": null,
      "outputs": []
    },
    {
      "cell_type": "code",
      "metadata": {
        "id": "oOAh7CLZpeT7"
      },
      "source": [
        "layer1 = nn.Linear(input_size, hidden_size) # 784 32"
      ],
      "execution_count": null,
      "outputs": []
    },
    {
      "cell_type": "code",
      "metadata": {
        "colab": {
          "base_uri": "https://localhost:8080/"
        },
        "id": "2lZyCFvMFU15",
        "outputId": "733413a4-1e64-4ffc-e217-c4b4d68e62fa"
      },
      "source": [
        "layer1.weight.shape"
      ],
      "execution_count": null,
      "outputs": [
        {
          "output_type": "execute_result",
          "data": {
            "text/plain": [
              "torch.Size([32, 784])"
            ]
          },
          "metadata": {},
          "execution_count": 22
        }
      ]
    },
    {
      "cell_type": "code",
      "metadata": {
        "colab": {
          "base_uri": "https://localhost:8080/"
        },
        "id": "VPJYPGweF7cu",
        "outputId": "b0ab365b-92ef-408a-ac0e-d672e41a3b37"
      },
      "source": [
        "layer1.bias.shape"
      ],
      "execution_count": null,
      "outputs": [
        {
          "output_type": "execute_result",
          "data": {
            "text/plain": [
              "torch.Size([32])"
            ]
          },
          "metadata": {},
          "execution_count": 23
        }
      ]
    },
    {
      "cell_type": "markdown",
      "metadata": {
        "id": "YzqPBDuypeT7"
      },
      "source": [
        "We can now compute intermediate outputs for the batch of images by passing `inputs` through `layer1`."
      ]
    },
    {
      "cell_type": "code",
      "metadata": {
        "colab": {
          "base_uri": "https://localhost:8080/"
        },
        "id": "zd0YcDIlcCKb",
        "outputId": "3fa63532-6a71-4d40-91c3-7641d9a8690e"
      },
      "source": [
        "inputs.shape"
      ],
      "execution_count": null,
      "outputs": [
        {
          "output_type": "execute_result",
          "data": {
            "text/plain": [
              "torch.Size([128, 784])"
            ]
          },
          "metadata": {},
          "execution_count": 17
        }
      ]
    },
    {
      "cell_type": "code",
      "metadata": {
        "colab": {
          "base_uri": "https://localhost:8080/"
        },
        "id": "pD_FPxeipeT7",
        "outputId": "1c0181e5-0b70-4ffd-fda0-6da91a200420"
      },
      "source": [
        "layer1_outputs = layer1(inputs)\n",
        "print('layer1_outputs.shape:', layer1_outputs.shape)"
      ],
      "execution_count": null,
      "outputs": [
        {
          "output_type": "stream",
          "name": "stdout",
          "text": [
            "layer1_outputs.shape: torch.Size([128, 32])\n"
          ]
        }
      ]
    },
    {
      "cell_type": "markdown",
      "metadata": {
        "id": "PK-eA2QTpeT7"
      },
      "source": [
        "The image vectors of size `784` are transformed into intermediate output vectors of length `32` by performing a matrix multiplication of `inputs` matrix with the transposed weights matrix of `layer1` and adding the bias. We can verify this using `torch.allclose`. For a more detailed explanation, review the tutorial on [linear regression](https://jovian.ai/aakashns/02-linear-regression)."
      ]
    },
    {
      "cell_type": "code",
      "metadata": {
        "colab": {
          "base_uri": "https://localhost:8080/"
        },
        "id": "0dEnp5VjpeT7",
        "outputId": "fdd4cce7-46ea-422f-cbfc-fc3f68c2349e"
      },
      "source": [
        "layer1_outputs_direct = inputs @ layer1.weight.t() + layer1.bias\n",
        "layer1_outputs_direct.shape"
      ],
      "execution_count": null,
      "outputs": [
        {
          "output_type": "execute_result",
          "data": {
            "text/plain": [
              "torch.Size([128, 32])"
            ]
          },
          "metadata": {},
          "execution_count": 24
        }
      ]
    },
    {
      "cell_type": "code",
      "metadata": {
        "id": "6AlI9vvqV5Bk",
        "outputId": "4350f313-5766-469e-8bdf-8be13227bb40"
      },
      "source": [
        "torch.allclose(layer1_outputs, layer1_outputs_direct, 1e-3)"
      ],
      "execution_count": null,
      "outputs": [
        {
          "data": {
            "text/plain": [
              "True"
            ]
          },
          "execution_count": 19,
          "metadata": {},
          "output_type": "execute_result"
        }
      ]
    },
    {
      "cell_type": "markdown",
      "metadata": {
        "id": "MW9IXDPtpeT7"
      },
      "source": [
        "Thus, `layer1_outputs` and `inputs` have a linear relationship, i.e., each element of `layer_outputs` is a weighted sum of elements from `inputs`. Thus, even as we train the model and modify the weights, `layer1` can only capture linear relationships between `inputs` and `outputs`.\n",
        "\n",
        "<img src=\"https://i.imgur.com/inXsLuq.png\" width=\"360\">\n"
      ]
    },
    {
      "cell_type": "markdown",
      "metadata": {
        "id": "_K91Vxh4HpuD"
      },
      "source": [
        "## ReLU"
      ]
    },
    {
      "cell_type": "markdown",
      "metadata": {
        "id": "E08mZHTeV5Bk"
      },
      "source": [
        "Next, we'll use the Rectified Linear Unit (ReLU) function as the activation function for the outputs. It has the formula `relu(x) = max(0,x)` i.e. it simply replaces negative values in a given tensor with the value 0. ReLU is a non-linear function, as seen here visually:\n",
        "\n",
        "<img src=\"https://i.imgur.com/yijV4xF.png\" width=\"420\">\n",
        "\n",
        "We can use the `F.relu` method to apply ReLU to the elements of a tensor."
      ]
    },
    {
      "cell_type": "code",
      "metadata": {
        "colab": {
          "base_uri": "https://localhost:8080/"
        },
        "id": "zHMpGUGRpeT7",
        "outputId": "c1940d0f-9183-42bb-940a-af110fc5dc22"
      },
      "source": [
        "F.relu(torch.tensor([[1, -1, 0], \n",
        "                     [-0.1, .2, 3]]))"
      ],
      "execution_count": null,
      "outputs": [
        {
          "output_type": "execute_result",
          "data": {
            "text/plain": [
              "tensor([[1.0000, 0.0000, 0.0000],\n",
              "        [0.0000, 0.2000, 3.0000]])"
            ]
          },
          "metadata": {},
          "execution_count": 25
        }
      ]
    },
    {
      "cell_type": "markdown",
      "metadata": {
        "id": "Y0QIFoEopeT7"
      },
      "source": [
        "Let's apply the activation function to `layer1_outputs` and verify that negative values were replaced with 0."
      ]
    },
    {
      "cell_type": "code",
      "metadata": {
        "colab": {
          "base_uri": "https://localhost:8080/"
        },
        "id": "FHmdQN6-JvOW",
        "outputId": "72299589-0dda-4f7e-d291-a82bbdbd4d62"
      },
      "source": [
        "layer1_outputs"
      ],
      "execution_count": null,
      "outputs": [
        {
          "output_type": "execute_result",
          "data": {
            "text/plain": [
              "tensor([[ 1.2428e-01, -1.0137e-01,  1.5710e-01,  ..., -3.0230e-02,\n",
              "          1.3902e-01,  6.1997e-02],\n",
              "        [-3.0739e-04,  4.6546e-01,  9.2091e-02,  ..., -1.4919e-01,\n",
              "          2.9682e-01, -6.3950e-02],\n",
              "        [ 3.5448e-01,  3.7215e-01, -1.4546e-01,  ..., -2.9523e-01,\n",
              "          1.0314e-01,  8.5103e-02],\n",
              "        ...,\n",
              "        [-1.2439e-01,  2.2934e-01,  1.5406e-01,  ..., -3.5076e-02,\n",
              "          1.1263e-01,  1.8052e-01],\n",
              "        [ 5.6173e-02, -7.0691e-02,  5.3846e-02,  ...,  2.6683e-01,\n",
              "          5.0550e-02, -5.7304e-03],\n",
              "        [-7.3458e-03, -6.5866e-02,  8.2976e-02,  ...,  1.1734e-01,\n",
              "         -2.4133e-01, -4.4161e-02]], grad_fn=<AddmmBackward>)"
            ]
          },
          "metadata": {},
          "execution_count": 26
        }
      ]
    },
    {
      "cell_type": "code",
      "metadata": {
        "colab": {
          "base_uri": "https://localhost:8080/"
        },
        "id": "QqBj3KsnpeT7",
        "outputId": "1ef75809-e47d-4cb6-ef2b-7193d7f31bbf"
      },
      "source": [
        "relu_outputs = F.relu(layer1_outputs)\n",
        "print('min(layer1_outputs):', torch.min(layer1_outputs).item())\n",
        "print('min(relu_outputs):', torch.min(relu_outputs).item())"
      ],
      "execution_count": null,
      "outputs": [
        {
          "output_type": "stream",
          "name": "stdout",
          "text": [
            "min(layer1_outputs): -0.795383870601654\n",
            "min(relu_outputs): 0.0\n"
          ]
        }
      ]
    },
    {
      "cell_type": "code",
      "metadata": {
        "colab": {
          "base_uri": "https://localhost:8080/"
        },
        "id": "ROOdVYXIJ8PU",
        "outputId": "5c28f548-e4c4-4ca2-e3e9-fcbd93af63a4"
      },
      "source": [
        "relu_outputs"
      ],
      "execution_count": null,
      "outputs": [
        {
          "output_type": "execute_result",
          "data": {
            "text/plain": [
              "tensor([[0.1243, 0.0000, 0.1571,  ..., 0.0000, 0.1390, 0.0620],\n",
              "        [0.0000, 0.4655, 0.0921,  ..., 0.0000, 0.2968, 0.0000],\n",
              "        [0.3545, 0.3722, 0.0000,  ..., 0.0000, 0.1031, 0.0851],\n",
              "        ...,\n",
              "        [0.0000, 0.2293, 0.1541,  ..., 0.0000, 0.1126, 0.1805],\n",
              "        [0.0562, 0.0000, 0.0538,  ..., 0.2668, 0.0506, 0.0000],\n",
              "        [0.0000, 0.0000, 0.0830,  ..., 0.1173, 0.0000, 0.0000]],\n",
              "       grad_fn=<ReluBackward0>)"
            ]
          },
          "metadata": {},
          "execution_count": 28
        }
      ]
    },
    {
      "cell_type": "markdown",
      "metadata": {
        "id": "g42i491NpeT7"
      },
      "source": [
        "Now that we've applied a non-linear activation function, `relu_outputs` and `inputs` do not have a linear relationship. We refer to `ReLU` as the _activation function_, because for each input certain outputs are activated (those with non-zero values) while others turned off (those with zero values)\n",
        "\n",
        "Next, let's create an output layer to convert vectors of length `hidden_size` in `relu_outputs` into vectors of length 10, which is the desired output of our model (since there are 10 target labels)."
      ]
    },
    {
      "cell_type": "code",
      "metadata": {
        "id": "k1qY-KYzpeT7"
      },
      "source": [
        "output_size = 10\n",
        "layer2 = nn.Linear(hidden_size, output_size) # 32 10"
      ],
      "execution_count": null,
      "outputs": []
    },
    {
      "cell_type": "code",
      "metadata": {
        "colab": {
          "base_uri": "https://localhost:8080/"
        },
        "id": "a-FuzqEwK5LM",
        "outputId": "1eb78d8d-0082-45cb-d4dc-2c46c679a67c"
      },
      "source": [
        "print(layer2.weight.shape) # 10 32\n",
        "print(layer2.bias.shape) # 10"
      ],
      "execution_count": null,
      "outputs": [
        {
          "output_type": "stream",
          "name": "stdout",
          "text": [
            "torch.Size([10, 32])\n",
            "torch.Size([10])\n"
          ]
        }
      ]
    },
    {
      "cell_type": "code",
      "metadata": {
        "colab": {
          "base_uri": "https://localhost:8080/"
        },
        "id": "xMjnMH7zLPuR",
        "outputId": "2dac8cc1-523c-4c32-a3ef-ee00fbc3d8a8"
      },
      "source": [
        "relu_outputs.shape"
      ],
      "execution_count": null,
      "outputs": [
        {
          "output_type": "execute_result",
          "data": {
            "text/plain": [
              "torch.Size([128, 32])"
            ]
          },
          "metadata": {},
          "execution_count": 35
        }
      ]
    },
    {
      "cell_type": "code",
      "metadata": {
        "colab": {
          "base_uri": "https://localhost:8080/"
        },
        "id": "D_DuKvL8peT7",
        "outputId": "d4f11b5c-9733-448d-bc49-70f8f4c6d8ac"
      },
      "source": [
        "layer2_outputs = layer2(relu_outputs)\n",
        "print(layer2_outputs.shape)"
      ],
      "execution_count": null,
      "outputs": [
        {
          "output_type": "stream",
          "name": "stdout",
          "text": [
            "torch.Size([128, 10])\n"
          ]
        }
      ]
    },
    {
      "cell_type": "code",
      "metadata": {
        "colab": {
          "base_uri": "https://localhost:8080/"
        },
        "id": "caxPuaS9dQhH",
        "outputId": "53dc6470-9a29-409f-df5c-16a76501db15"
      },
      "source": [
        "inputs.shape"
      ],
      "execution_count": null,
      "outputs": [
        {
          "output_type": "execute_result",
          "data": {
            "text/plain": [
              "torch.Size([128, 784])"
            ]
          },
          "metadata": {},
          "execution_count": 38
        }
      ]
    },
    {
      "cell_type": "markdown",
      "metadata": {
        "id": "AikFPlJppeT7"
      },
      "source": [
        "As expected, `layer2_outputs` contains a batch of vectors of size 10. We can now use this output to compute the loss using `F.cross_entropy` and adjust the weights of `layer1` and `layer2` using gradient descent."
      ]
    },
    {
      "cell_type": "code",
      "metadata": {
        "colab": {
          "base_uri": "https://localhost:8080/"
        },
        "id": "IqTvfOngNAXC",
        "outputId": "db84230c-3b0a-4dac-cc41-6fd812cb0d9d"
      },
      "source": [
        "print(labels)\n",
        "print(labels.shape)"
      ],
      "execution_count": null,
      "outputs": [
        {
          "output_type": "stream",
          "name": "stdout",
          "text": [
            "tensor([6, 0, 2, 0, 8, 5, 6, 1, 9, 9, 4, 4, 6, 6, 5, 7, 7, 5, 1, 9, 9, 9, 7, 8,\n",
            "        9, 1, 6, 1, 2, 1, 4, 6, 0, 4, 3, 8, 1, 1, 1, 8, 0, 1, 7, 2, 6, 4, 6, 2,\n",
            "        8, 8, 2, 9, 7, 7, 1, 3, 5, 8, 6, 2, 4, 7, 8, 2, 2, 0, 5, 6, 9, 2, 4, 1,\n",
            "        4, 0, 7, 2, 6, 0, 5, 3, 7, 8, 9, 0, 3, 0, 0, 9, 6, 6, 9, 5, 1, 3, 4, 3,\n",
            "        4, 7, 7, 1, 6, 0, 1, 1, 3, 6, 6, 5, 6, 6, 4, 1, 1, 8, 5, 1, 9, 7, 6, 0,\n",
            "        4, 1, 9, 2, 6, 7, 1, 5])\n",
            "torch.Size([128])\n"
          ]
        }
      ]
    },
    {
      "cell_type": "code",
      "metadata": {
        "colab": {
          "base_uri": "https://localhost:8080/"
        },
        "id": "CQ_ArLNApeT7",
        "outputId": "a3905359-4ead-4f8b-a5cc-d8e5c3663ba1"
      },
      "source": [
        "F.cross_entropy(layer2_outputs, labels)"
      ],
      "execution_count": null,
      "outputs": [
        {
          "output_type": "execute_result",
          "data": {
            "text/plain": [
              "tensor(2.2986, grad_fn=<NllLossBackward>)"
            ]
          },
          "metadata": {},
          "execution_count": 44
        }
      ]
    },
    {
      "cell_type": "markdown",
      "metadata": {
        "id": "UazxyCKHpeT7"
      },
      "source": [
        "Thus, our model transforms `inputs` into `layer2_outputs` by applying a linear transformation (using `layer1`), followed by a non-linear activation (using `F.relu`), followed by another linear transformation (using `layer2`). Let's verify this by re-computing the output using basic matrix operations."
      ]
    },
    {
      "cell_type": "code",
      "metadata": {
        "id": "vNQ2nPijpeT7"
      },
      "source": [
        "# Expanded version of layer2(F.relu(layer1(inputs)))\n",
        "outputs = (F.relu(inputs @ layer1.weight.t() + layer1.bias)) @ layer2.weight.t() + layer2.bias"
      ],
      "execution_count": null,
      "outputs": []
    },
    {
      "cell_type": "code",
      "metadata": {
        "colab": {
          "base_uri": "https://localhost:8080/"
        },
        "id": "4BgaRib-peT7",
        "outputId": "4c619b88-cafa-447d-e4a1-9e77646dc7f1"
      },
      "source": [
        "torch.allclose(outputs, layer2_outputs, 1e-3)"
      ],
      "execution_count": null,
      "outputs": [
        {
          "output_type": "execute_result",
          "data": {
            "text/plain": [
              "True"
            ]
          },
          "metadata": {},
          "execution_count": 47
        }
      ]
    },
    {
      "cell_type": "markdown",
      "metadata": {
        "id": "ZLOjL89WpeT7"
      },
      "source": [
        "Note that `outputs` and `inputs` do not have a linear relationship due to the non-linear activation function `F.relu`. As we train the model and adjust the weights of `layer1` and `layer2`, we can now capture non-linear relationships between the images and their labels. In other words, **introducing non-linearity makes the model more powerful and versatile.** Also, since `hidden_size` does not depend on the dimensions of the inputs or outputs, we vary it to increase the number of parameters within the model. We can also introduce new hidden layers and apply the same non-linear activation after each hidden layer.\n",
        "\n",
        "The model we just created is called a neural network. A _deep neural network_ is simply a neural network with one or more hidden layers. In fact, the [Universal Approximation Theorem](http://neuralnetworksanddeeplearning.com/chap4.html) states that a sufficiently large & deep neural network can compute any arbitrary function i.e. it can _learn_ rich and complex non-linear relationships between inputs and targets. Here are some examples:\n",
        "\n",
        "* Identifying if an image contains a cat or a dog (or [something else](https://machinelearningmastery.com/introduction-to-the-imagenet-large-scale-visual-recognition-challenge-ilsvrc/))\n",
        "* Identifying the genre of a song using a 10-second sample\n",
        "* Classifying movie reviews as positive or negative based on their content\n",
        "* Navigating self-driving cars using a video feed of the road\n",
        "* Translating sentences from English to French (and hundreds of other languages)\n",
        "* Converting a speech recording to text and vice versa\n",
        "* And many more...\n",
        "\n",
        "It's hard to imagine how the simple process of multiplying inputs with randomly initialized matrices, applying non-linear activations, and adjusting weights repeatedly using gradient descent can yield such astounding results. Deep learning models often contain millions of parameters, which can together capture far more complex relationships than the human brain can comprehend.\n",
        "\n",
        "If we hadn't included a non-linear activation between the two linear layers, the final relationship between inputs and outputs would still be linear. A simple refactoring of the computations illustrates this."
      ]
    },
    {
      "cell_type": "code",
      "metadata": {
        "id": "AHWruKwlpeT7"
      },
      "source": [
        "# Same as layer2(layer1(inputs))\n",
        "outputs2 = (inputs @ layer1.weight.t() + layer1.bias) @ layer2.weight.t() + layer2.bias"
      ],
      "execution_count": null,
      "outputs": []
    },
    {
      "cell_type": "code",
      "metadata": {
        "id": "BTUU8qRRpeT8"
      },
      "source": [
        "# Create a single layer to replace the two linear layers\n",
        "combined_layer = nn.Linear(input_size, output_size)\n",
        "\n",
        "combined_layer.weight.data = layer2.weight @ layer1.weight\n",
        "combined_layer.bias.data = layer1.bias @ layer2.weight.t() + layer2.bias"
      ],
      "execution_count": null,
      "outputs": []
    },
    {
      "cell_type": "code",
      "metadata": {
        "id": "OjoqcE8ZV5Bs"
      },
      "source": [
        "# Same as combined_layer(inputs)\n",
        "outputs3 = inputs @ combined_layer.weight.t() + combined_layer.bias"
      ],
      "execution_count": null,
      "outputs": []
    },
    {
      "cell_type": "code",
      "metadata": {
        "colab": {
          "base_uri": "https://localhost:8080/"
        },
        "id": "It7A4nzQpeT8",
        "outputId": "aeaae6d4-c4cb-4fcd-b303-606a4dbe4a96"
      },
      "source": [
        "torch.allclose(outputs2, outputs3, 1e-3)"
      ],
      "execution_count": null,
      "outputs": [
        {
          "data": {
            "text/plain": [
              "True"
            ]
          },
          "execution_count": 37,
          "metadata": {},
          "output_type": "execute_result"
        }
      ]
    },
    {
      "cell_type": "markdown",
      "metadata": {
        "id": "l8dOeJyfpeT8"
      },
      "source": [
        "## Model\n",
        "\n",
        "We are now ready to define our model. As discussed above, we'll create a neural network with one hidden layer. Here's what that means:\n",
        "\n",
        "* Instead of using a single `nn.Linear` object to transform a batch of inputs (pixel intensities) into outputs (class probabilities), we'll use two `nn.Linear` objects. Each of these is called a _layer_ in the network. \n",
        "\n",
        "* The first layer (also known as the hidden layer) will transform the input matrix of shape `batch_size x 784` into an intermediate output matrix of shape `batch_size x hidden_size`. The parameter `hidden_size` can be configured manually (e.g., 32 or 64).\n",
        "\n",
        "* We'll then apply a non-linear *activation function* to the intermediate outputs. The activation function transforms individual elements of the matrix.\n",
        "\n",
        "* The result of the activation function, which is also of size `batch_size x hidden_size`, is passed into the second layer (also known as the output layer).  The second layer transforms it into a matrix of size `batch_size x 10`. We can use this output to compute the loss and adjust weights using gradient descent.\n",
        "\n",
        "\n",
        "As discussed above, our model will contain one hidden layer. Here's what it looks like visually:\n",
        "\n",
        "<img src=\"https://i.imgur.com/eN7FrpF.png\" width=\"480\">\n",
        "\n",
        "\n",
        "Let's define the model by extending the `nn.Module` class from PyTorch."
      ]
    },
    {
      "cell_type": "code",
      "metadata": {
        "id": "_fKPW6tSpeT8"
      },
      "source": [
        "class MnistModel(nn.Module):\n",
        "    \"\"\"Feedfoward neural network with 1 hidden layer\"\"\"\n",
        "    def __init__(self, in_size, hidden_size, out_size):\n",
        "        super().__init__()\n",
        "        # hidden layer\n",
        "        self.linear1 = nn.Linear(in_size, hidden_size)\n",
        "        # output layer\n",
        "        self.linear2 = nn.Linear(hidden_size, out_size)\n",
        "        \n",
        "    def forward(self, xb):\n",
        "        # Flatten the image tensors\n",
        "        xb = xb.view(xb.size(0), -1)\n",
        "\n",
        "        # Get intermediate outputs using hidden layer\n",
        "        out = self.linear1(xb)\n",
        "\n",
        "        # Apply activation function\n",
        "        out = F.relu(out)\n",
        "        \n",
        "        # Get predictions using output layer\n",
        "        out = self.linear2(out)\n",
        "        return out\n",
        "    \n",
        "    def training_step(self, batch):\n",
        "        images, labels = batch \n",
        "        out = self(images)                  # Generate predictions\n",
        "        loss = F.cross_entropy(out, labels) # Calculate loss\n",
        "        return loss\n",
        "    \n",
        "    def validation_step(self, batch):\n",
        "        images, labels = batch \n",
        "        out = self(images)                    # Generate predictions\n",
        "        loss = F.cross_entropy(out, labels)   # Calculate loss\n",
        "        acc = accuracy(out, labels)           # Calculate accuracy\n",
        "        return {'val_loss': loss, 'val_acc': acc}\n",
        "        \n",
        "    def validation_epoch_end(self, outputs):\n",
        "        batch_losses = [x['val_loss'] for x in outputs]\n",
        "        epoch_loss = torch.stack(batch_losses).mean()   # Combine losses\n",
        "        batch_accs = [x['val_acc'] for x in outputs]\n",
        "        epoch_acc = torch.stack(batch_accs).mean()      # Combine accuracies\n",
        "        return {'val_loss': epoch_loss.item(), 'val_acc': epoch_acc.item()}\n",
        "    \n",
        "    def epoch_end(self, epoch, result):\n",
        "        print(\"Epoch [{}], val_loss: {:.4f}, val_acc: {:.4f}\".format(epoch, result['val_loss'], result['val_acc']))"
      ],
      "execution_count": null,
      "outputs": []
    },
    {
      "cell_type": "markdown",
      "metadata": {
        "id": "yRv2fUW5SO5I"
      },
      "source": [
        "![image.png](data:image/png;base64,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)"
      ]
    },
    {
      "cell_type": "markdown",
      "metadata": {
        "id": "2y9Lg5goV5Bv"
      },
      "source": [
        "We also need to define an `accuracy` function which calculates the accuracy of the model's prediction on an batch of inputs. It's used in `validation_step` above."
      ]
    },
    {
      "cell_type": "code",
      "metadata": {
        "id": "ooA0PwVipeT8"
      },
      "source": [
        "def accuracy(outputs, labels):\n",
        "    _, preds = torch.max(outputs, dim=1)\n",
        "    return torch.tensor(torch.sum(preds == labels).item() / len(preds))"
      ],
      "execution_count": null,
      "outputs": []
    },
    {
      "cell_type": "markdown",
      "metadata": {
        "id": "4sSd532VpeT8"
      },
      "source": [
        "We'll create a model that contains a hidden layer with 32 activations."
      ]
    },
    {
      "cell_type": "code",
      "metadata": {
        "id": "beSRnIQTpeT8"
      },
      "source": [
        "input_size = 784\n",
        "hidden_size = 32 # you can change this\n",
        "num_classes = 10"
      ],
      "execution_count": null,
      "outputs": []
    },
    {
      "cell_type": "code",
      "metadata": {
        "id": "IvSp6BFppeT8"
      },
      "source": [
        "model = MnistModel(input_size, \n",
        "                   hidden_size=32, \n",
        "                   out_size=num_classes)"
      ],
      "execution_count": null,
      "outputs": []
    },
    {
      "cell_type": "markdown",
      "metadata": {
        "id": "EtWfv0N9peT8"
      },
      "source": [
        "Let's take a look at the model's parameters. We expect to see one weight and bias matrix for each of the layers."
      ]
    },
    {
      "cell_type": "code",
      "metadata": {
        "colab": {
          "base_uri": "https://localhost:8080/"
        },
        "id": "psecOJfZpeT8",
        "outputId": "4d73b649-0533-4719-9b29-87e4e31fd72e"
      },
      "source": [
        "for t in model.parameters():\n",
        "    print(t.shape)"
      ],
      "execution_count": null,
      "outputs": [
        {
          "output_type": "stream",
          "name": "stdout",
          "text": [
            "torch.Size([32, 784])\n",
            "torch.Size([32])\n",
            "torch.Size([10, 32])\n",
            "torch.Size([10])\n"
          ]
        }
      ]
    },
    {
      "cell_type": "markdown",
      "metadata": {
        "id": "zeFGsljIpeT8"
      },
      "source": [
        "Let's try and generate some outputs using our model. We'll take the first batch of 128 images from our dataset and pass them into our model."
      ]
    },
    {
      "cell_type": "code",
      "metadata": {
        "colab": {
          "base_uri": "https://localhost:8080/"
        },
        "id": "jajA6VFYpeT8",
        "outputId": "485cf8bc-14aa-4df6-9b43-4b96ebab99de"
      },
      "source": [
        "for images, labels in train_loader:\n",
        "    outputs = model(images)\n",
        "    loss = F.cross_entropy(outputs, labels)\n",
        "    print('Loss:', loss.item())\n",
        "    break\n",
        "\n",
        "print('outputs.shape : ', outputs.shape)\n",
        "print('Sample outputs :\\n', outputs[:2].data)"
      ],
      "execution_count": null,
      "outputs": [
        {
          "output_type": "stream",
          "name": "stdout",
          "text": [
            "Loss: 2.322009325027466\n",
            "outputs.shape :  torch.Size([128, 10])\n",
            "Sample outputs :\n",
            " tensor([[-0.2185,  0.0286,  0.1122, -0.0703, -0.1404, -0.0495,  0.0916, -0.1506,\n",
            "          0.1502, -0.1811],\n",
            "        [-0.2338, -0.0913,  0.0331, -0.0017, -0.0569, -0.0308,  0.0280, -0.1757,\n",
            "          0.0618, -0.1282]])\n"
          ]
        }
      ]
    },
    {
      "cell_type": "markdown",
      "metadata": {
        "id": "vmw6iiTXpeT8"
      },
      "source": [
        "## Using a GPU\n",
        "\n",
        "As the sizes of our models and datasets increase, we need to use GPUs to train our models within a reasonable amount of time. GPUs contain hundreds of cores optimized for performing expensive matrix operations on floating-point numbers quickly, making them ideal for training deep neural networks. You can use GPUs for free on [Google Colab](https://colab.research.google.com/) and [Kaggle](https://www.kaggle.com/kernels) or rent GPU-powered machines on services like [Google Cloud Platform](https://cloud.google.com/gpu/), [Amazon Web Services](https://docs.aws.amazon.com/dlami/latest/devguide/gpu.html), and [Paperspace](https://www.paperspace.com/).\n",
        "\n",
        "We can check if a GPU is available and the required NVIDIA CUDA drivers are installed using `torch.cuda.is_available`."
      ]
    },
    {
      "cell_type": "code",
      "metadata": {
        "colab": {
          "base_uri": "https://localhost:8080/"
        },
        "id": "gt2Ve_cFpeT8",
        "outputId": "98939545-5c91-4b6b-9afc-3ad4f55dadee"
      },
      "source": [
        "torch.cuda.is_available()"
      ],
      "execution_count": null,
      "outputs": [
        {
          "output_type": "execute_result",
          "data": {
            "text/plain": [
              "True"
            ]
          },
          "metadata": {},
          "execution_count": 6
        }
      ]
    },
    {
      "cell_type": "markdown",
      "metadata": {
        "id": "S2ffHXrnpeT8"
      },
      "source": [
        "Let's define a helper function to ensure that our code uses the GPU if available and defaults to using the CPU if it isn't. "
      ]
    },
    {
      "cell_type": "markdown",
      "metadata": {
        "id": "LcYZydqpXKl9"
      },
      "source": [
        "### get_default_device()"
      ]
    },
    {
      "cell_type": "code",
      "metadata": {
        "id": "oY8kxA4tpeT8"
      },
      "source": [
        "def get_default_device():\n",
        "    \"\"\"Pick GPU if available, else CPU\"\"\"\n",
        "    if torch.cuda.is_available():\n",
        "        return torch.device('cuda')\n",
        "    else:\n",
        "        return torch.device('cpu')"
      ],
      "execution_count": null,
      "outputs": []
    },
    {
      "cell_type": "code",
      "metadata": {
        "colab": {
          "base_uri": "https://localhost:8080/"
        },
        "id": "cBfMfJuqRY4I",
        "outputId": "a7a330fd-72b5-4ad0-b7ac-29c3d92712b3"
      },
      "source": [
        "device = get_default_device()\n",
        "device"
      ],
      "execution_count": null,
      "outputs": [
        {
          "output_type": "execute_result",
          "data": {
            "text/plain": [
              "device(type='cuda')"
            ]
          },
          "metadata": {},
          "execution_count": 8
        }
      ]
    },
    {
      "cell_type": "markdown",
      "metadata": {
        "id": "U58VabR4peT8"
      },
      "source": [
        "Next, let's define a function that can move data and model to a chosen device."
      ]
    },
    {
      "cell_type": "markdown",
      "metadata": {
        "id": "saiqdo0WXSYB"
      },
      "source": [
        "### to_device()"
      ]
    },
    {
      "cell_type": "code",
      "metadata": {
        "id": "qe39OMPmpeT8"
      },
      "source": [
        "def to_device(data, device):\n",
        "    \"\"\"Move tensor(s) to chosen device\"\"\"\n",
        "    if isinstance(data, (list,tuple)):\n",
        "        return [to_device(x, device) for x in data]\n",
        "    return data.to(device)"
      ],
      "execution_count": null,
      "outputs": []
    },
    {
      "cell_type": "code",
      "metadata": {
        "colab": {
          "base_uri": "https://localhost:8080/"
        },
        "id": "bdouJFtwpeT8",
        "outputId": "2b9bc6cc-f1a8-4a0b-c3d1-26b73b374f13"
      },
      "source": [
        "for images, labels in train_loader:\n",
        "    print(images.shape)\n",
        "    images = to_device(images, device)\n",
        "    print(images.device)\n",
        "    break"
      ],
      "execution_count": null,
      "outputs": [
        {
          "output_type": "stream",
          "name": "stdout",
          "text": [
            "torch.Size([128, 1, 28, 28])\n",
            "cuda:0\n"
          ]
        }
      ]
    },
    {
      "cell_type": "markdown",
      "metadata": {
        "id": "WiKbIzujpeT9"
      },
      "source": [
        "Finally, we define a `DeviceDataLoader` class to wrap our existing data loaders and move batches of data to the selected device. Interestingly, we don't need to extend an existing class to create a PyTorch data loader. All we need is an `__iter__` method to retrieve batches of data and an `__len__` method to get the number of batches."
      ]
    },
    {
      "cell_type": "markdown",
      "metadata": {
        "id": "xkSY8S9FXZLp"
      },
      "source": [
        "### class DeviceDataLoader()"
      ]
    },
    {
      "cell_type": "code",
      "metadata": {
        "id": "Mncx5AEcpeT9"
      },
      "source": [
        "class DeviceDataLoader():\n",
        "    \"\"\"Wrap a dataloader to move data to a device\"\"\"\n",
        "    def __init__(self, dl, device):\n",
        "        self.dl = dl\n",
        "        self.device = device\n",
        "        \n",
        "    def __iter__(self):\n",
        "        \"\"\"Yield a batch of data after moving it to device\"\"\"\n",
        "        for b in self.dl: \n",
        "            yield to_device(b, self.device)\n",
        "\n",
        "    def __len__(self):\n",
        "        \"\"\"Number of batches\"\"\"\n",
        "        return len(self.dl)"
      ],
      "execution_count": null,
      "outputs": []
    },
    {
      "cell_type": "markdown",
      "metadata": {
        "id": "RxwvU5eP4r76"
      },
      "source": [
        "The `yield` keyword in Python is used to create a generator function that can be used within a `for` loop, as illustrated below."
      ]
    },
    {
      "cell_type": "code",
      "metadata": {
        "colab": {
          "base_uri": "https://localhost:8080/"
        },
        "id": "7IeHPpx74slh",
        "outputId": "30b16e68-df17-4bb9-b8ca-4051b09be1f5"
      },
      "source": [
        "def some_numbers():\n",
        "    yield 10\n",
        "    yield 20\n",
        "    yield 30\n",
        "\n",
        "for value in some_numbers():\n",
        "    print(value)"
      ],
      "execution_count": null,
      "outputs": [
        {
          "output_type": "stream",
          "name": "stdout",
          "text": [
            "10\n",
            "20\n",
            "30\n"
          ]
        }
      ]
    },
    {
      "cell_type": "markdown",
      "metadata": {
        "id": "9AM28h0ipeT9"
      },
      "source": [
        "We can now wrap our data loaders using `DeviceDataLoader`."
      ]
    },
    {
      "cell_type": "code",
      "metadata": {
        "id": "fwZdTIxgpeT9"
      },
      "source": [
        "train_loader = DeviceDataLoader(train_loader, device)\n",
        "val_loader = DeviceDataLoader(val_loader, device)"
      ],
      "execution_count": null,
      "outputs": []
    },
    {
      "cell_type": "markdown",
      "metadata": {
        "id": "Go0zbQTypeT9"
      },
      "source": [
        "Tensors moved to the GPU have a `device` property which includes that word `cuda`. Let's verify this by looking at a batch of data from `valid_dl`."
      ]
    },
    {
      "cell_type": "code",
      "metadata": {
        "colab": {
          "base_uri": "https://localhost:8080/"
        },
        "id": "ZdOfMdmxpeT9",
        "outputId": "28007672-d403-4af8-c1f9-dec6be1d20a9"
      },
      "source": [
        "for xb, yb in val_loader:\n",
        "    print('xb.device:', xb.device)\n",
        "    print('yb:', yb)\n",
        "    break"
      ],
      "execution_count": null,
      "outputs": [
        {
          "output_type": "stream",
          "name": "stdout",
          "text": [
            "xb.device: cpu\n",
            "yb: tensor([6, 8, 4, 5, 9, 0, 3, 3, 6, 0, 8, 6, 3, 8, 5, 1, 2, 6, 7, 1, 1, 0, 1, 1,\n",
            "        8, 3, 6, 9, 2, 0, 5, 4, 9, 7, 9, 2, 7, 8, 5, 2, 9, 1, 1, 0, 3, 6, 6, 6,\n",
            "        9, 1, 5, 3, 2, 4, 5, 6, 6, 7, 0, 5, 5, 3, 1, 4, 6, 2, 4, 8, 6, 6, 0, 2,\n",
            "        2, 3, 7, 7, 2, 0, 3, 0, 9, 5, 8, 6, 4, 9, 5, 9, 4, 7, 2, 2, 4, 1, 4, 9,\n",
            "        5, 1, 2, 2, 6, 8, 7, 0, 6, 2, 4, 3, 7, 9, 7, 4, 8, 2, 5, 9, 7, 0, 7, 0,\n",
            "        5, 8, 2, 9, 0, 4, 7, 9, 2, 8, 0, 7, 6, 2, 1, 8, 1, 1, 5, 3, 0, 9, 2, 1,\n",
            "        8, 5, 2, 8, 0, 6, 3, 2, 5, 2, 8, 0, 7, 4, 0, 8, 9, 1, 7, 8, 4, 7, 1, 8,\n",
            "        1, 7, 1, 7, 7, 6, 5, 1, 7, 6, 7, 6, 4, 1, 1, 6, 9, 2, 8, 2, 2, 0, 1, 4,\n",
            "        5, 5, 0, 7, 7, 2, 8, 4, 0, 3, 9, 8, 3, 4, 6, 8, 9, 9, 3, 1, 9, 4, 5, 6,\n",
            "        9, 0, 9, 8, 6, 0, 1, 3, 3, 0, 2, 4, 6, 4, 0, 2, 6, 3, 2, 3, 3, 4, 7, 8,\n",
            "        1, 8, 2, 3, 1, 9, 4, 3, 4, 2, 0, 5, 9, 1, 7, 1])\n"
          ]
        }
      ]
    },
    {
      "cell_type": "markdown",
      "metadata": {
        "id": "sfPhGrIRpeT9"
      },
      "source": [
        "## Training the Model\n",
        "\n",
        "We'll define two functions: `fit` and `evaluate` to train the model using gradient descent and evaluate its performance on the validation set. For a detailed walkthrough of these functions, check out the [previous tutorial](https://jovian.ai/aakashns/03-logistic-regression)."
      ]
    },
    {
      "cell_type": "code",
      "metadata": {
        "id": "JRw6Zf0wpeT9"
      },
      "source": [
        "def evaluate(model, val_loader):\n",
        "    \"\"\"Evaluate the model's performance on the validation set\"\"\"\n",
        "    outputs = [model.validation_step(batch) for batch in val_loader]\n",
        "    return model.validation_epoch_end(outputs)\n",
        "\n",
        "def fit(epochs, lr, model, train_loader, val_loader, opt_func=torch.optim.SGD):\n",
        "    \"\"\"Train the model using gradient descent\"\"\"\n",
        "    history = []\n",
        "    optimizer = opt_func(model.parameters(), lr)\n",
        "    for epoch in range(epochs):\n",
        "        # Training Phase \n",
        "        for batch in train_loader:\n",
        "            loss = model.training_step(batch)\n",
        "            loss.backward()\n",
        "            optimizer.step()\n",
        "            optimizer.zero_grad()\n",
        "        # Validation phase\n",
        "        result = evaluate(model, val_loader)\n",
        "        model.epoch_end(epoch, result)\n",
        "        history.append(result)\n",
        "    return history"
      ],
      "execution_count": null,
      "outputs": []
    },
    {
      "cell_type": "markdown",
      "metadata": {
        "id": "JuWv6GKZpeT9"
      },
      "source": [
        "Before we train the model, we need to ensure that the data and the model's parameters (weights and biases) are on the same device (CPU or GPU). We can reuse the `to_device` function to move the model's parameters to the right device. "
      ]
    },
    {
      "cell_type": "code",
      "metadata": {
        "colab": {
          "base_uri": "https://localhost:8080/"
        },
        "id": "u1CyEQsJpeT9",
        "outputId": "6a40c539-4da6-4144-e818-33654ac96240"
      },
      "source": [
        "# Model (on GPU)\n",
        "model = MnistModel(input_size, hidden_size=hidden_size, out_size=num_classes)\n",
        "to_device(model, device)"
      ],
      "execution_count": null,
      "outputs": [
        {
          "output_type": "execute_result",
          "data": {
            "text/plain": [
              "MnistModel(\n",
              "  (linear1): Linear(in_features=784, out_features=32, bias=True)\n",
              "  (linear2): Linear(in_features=32, out_features=10, bias=True)\n",
              ")"
            ]
          },
          "metadata": {},
          "execution_count": 64
        }
      ]
    },
    {
      "cell_type": "markdown",
      "metadata": {
        "id": "9N_aE2GRpeT9"
      },
      "source": [
        "Let's see how the model performs on the validation set with the initial set of weights and biases."
      ]
    },
    {
      "cell_type": "code",
      "metadata": {
        "colab": {
          "base_uri": "https://localhost:8080/"
        },
        "id": "bF_wEBAIpeT9",
        "outputId": "c8f587c1-1402-49f3-bb52-7acd705bacfb"
      },
      "source": [
        "history = [evaluate(model, val_loader)]\n",
        "history"
      ],
      "execution_count": null,
      "outputs": [
        {
          "data": {
            "text/plain": [
              "[{'val_loss': 2.3129286766052246, 'val_acc': 0.12646484375}]"
            ]
          },
          "execution_count": 61,
          "metadata": {},
          "output_type": "execute_result"
        }
      ]
    },
    {
      "cell_type": "code",
      "metadata": {
        "colab": {
          "base_uri": "https://localhost:8080/"
        },
        "id": "GdKR00lsZdHO",
        "outputId": "c5573cc1-f41b-4f60-fc86-4e14971ad144"
      },
      "source": [
        "history = [evaluate(model, val_loader)]\n",
        "history"
      ],
      "execution_count": null,
      "outputs": [
        {
          "output_type": "execute_result",
          "data": {
            "text/plain": [
              "[{'val_acc': 0.11298827826976776, 'val_loss': 2.307253837585449}]"
            ]
          },
          "metadata": {},
          "execution_count": 65
        }
      ]
    },
    {
      "cell_type": "markdown",
      "metadata": {
        "id": "BU0tYFcPpeT9"
      },
      "source": [
        "The initial accuracy is around 10%, as one might expect from a randomly initialized model (since it has a 1 in 10 chance of getting a label right by guessing randomly).\n",
        "\n",
        "Let's train the model for five epochs and look at the results. We can use a relatively high learning rate of 0.5."
      ]
    },
    {
      "cell_type": "code",
      "metadata": {
        "colab": {
          "base_uri": "https://localhost:8080/"
        },
        "id": "RMytAH-pZrLi",
        "outputId": "fe516273-b4d1-476d-c75f-955ebbe18980"
      },
      "source": [
        "# saif\n",
        "history += fit(5, 0.5, model, train_loader, val_loader)"
      ],
      "execution_count": null,
      "outputs": [
        {
          "output_type": "stream",
          "name": "stdout",
          "text": [
            "Epoch [0], val_loss: 0.2509, val_acc: 0.9242\n",
            "Epoch [1], val_loss: 0.1823, val_acc: 0.9486\n",
            "Epoch [2], val_loss: 0.1869, val_acc: 0.9438\n",
            "Epoch [3], val_loss: 0.1696, val_acc: 0.9499\n",
            "Epoch [4], val_loss: 0.1618, val_acc: 0.9532\n"
          ]
        }
      ]
    },
    {
      "cell_type": "code",
      "metadata": {
        "colab": {
          "base_uri": "https://localhost:8080/"
        },
        "id": "DE5_oVckpeT9",
        "outputId": "691a56b6-e47f-4470-9f28-353e8bd56dd8"
      },
      "source": [
        "history += fit(5, 0.5, model, train_loader, val_loader)"
      ],
      "execution_count": null,
      "outputs": [
        {
          "name": "stdout",
          "output_type": "stream",
          "text": [
            "Epoch [0], val_loss: 0.2544, val_acc: 0.9197\n",
            "Epoch [1], val_loss: 0.1827, val_acc: 0.9480\n",
            "Epoch [2], val_loss: 0.2222, val_acc: 0.9311\n",
            "Epoch [3], val_loss: 0.1479, val_acc: 0.9551\n",
            "Epoch [4], val_loss: 0.1317, val_acc: 0.9602\n"
          ]
        }
      ]
    },
    {
      "cell_type": "markdown",
      "metadata": {
        "id": "_by-a2g9peT9"
      },
      "source": [
        "96% is pretty good! Let's train the model for five more epochs at a lower learning rate of 0.1 to improve the accuracy further."
      ]
    },
    {
      "cell_type": "code",
      "metadata": {
        "colab": {
          "base_uri": "https://localhost:8080/"
        },
        "id": "toJTTe3PZ6XE",
        "outputId": "3e5fd949-7287-422b-d24f-b7f8d11ebc6c"
      },
      "source": [
        "# saif\n",
        "history += fit(5, 0.1, model, train_loader, val_loader)"
      ],
      "execution_count": null,
      "outputs": [
        {
          "output_type": "stream",
          "name": "stdout",
          "text": [
            "Epoch [0], val_loss: 0.1344, val_acc: 0.9622\n",
            "Epoch [1], val_loss: 0.1335, val_acc: 0.9625\n",
            "Epoch [2], val_loss: 0.1325, val_acc: 0.9620\n",
            "Epoch [3], val_loss: 0.1310, val_acc: 0.9630\n",
            "Epoch [4], val_loss: 0.1291, val_acc: 0.9636\n"
          ]
        }
      ]
    },
    {
      "cell_type": "code",
      "metadata": {
        "colab": {
          "base_uri": "https://localhost:8080/"
        },
        "id": "AjA2dtlrpeT9",
        "outputId": "680388ae-55f0-4629-8c29-89aebfa4357c"
      },
      "source": [
        "history += fit(5, 0.1, model, train_loader, val_loader)"
      ],
      "execution_count": null,
      "outputs": [
        {
          "name": "stdout",
          "output_type": "stream",
          "text": [
            "Epoch [0], val_loss: 0.1093, val_acc: 0.9674\n",
            "Epoch [1], val_loss: 0.1083, val_acc: 0.9670\n",
            "Epoch [2], val_loss: 0.1088, val_acc: 0.9660\n",
            "Epoch [3], val_loss: 0.1069, val_acc: 0.9687\n",
            "Epoch [4], val_loss: 0.1075, val_acc: 0.9684\n"
          ]
        }
      ]
    },
    {
      "cell_type": "markdown",
      "metadata": {
        "id": "W7LAqJCMpeT9"
      },
      "source": [
        "We can now plot the losses & accuracies to study how the model improves over time."
      ]
    },
    {
      "cell_type": "code",
      "metadata": {
        "colab": {
          "base_uri": "https://localhost:8080/",
          "height": 295
        },
        "id": "-KxyOXifaOGV",
        "outputId": "ec9812b7-772e-40aa-8c36-47aab8d64fe2"
      },
      "source": [
        "# saif\n",
        "losses = [x['val_loss'] for x in history]\n",
        "plt.plot(losses, '-x')\n",
        "plt.xlabel('epoch')\n",
        "plt.ylabel('loss')\n",
        "plt.title('Loss vs. No. of epochs');"
      ],
      "execution_count": null,
      "outputs": [
        {
          "output_type": "display_data",
          "data": {
            "image/png": "[encoded data removed]",
            "text/plain": [
              "<Figure size 432x288 with 1 Axes>"
            ]
          },
          "metadata": {
            "needs_background": "light"
          }
        }
      ]
    },
    {
      "cell_type": "code",
      "metadata": {
        "colab": {
          "base_uri": "https://localhost:8080/",
          "height": 295
        },
        "id": "I3g-DRifpeT9",
        "outputId": "133e6548-c6d9-4dc1-f2d4-78ce94d619d9"
      },
      "source": [
        "losses = [x['val_loss'] for x in history]\n",
        "plt.plot(losses, '-x')\n",
        "plt.xlabel('epoch')\n",
        "plt.ylabel('loss')\n",
        "plt.title('Loss vs. No. of epochs');"
      ],
      "execution_count": null,
      "outputs": [
        {
          "data": {
            "image/png": "[encoded data removed]",
            "text/plain": [
              "<Figure size 432x288 with 1 Axes>"
            ]
          },
          "metadata": {},
          "output_type": "display_data"
        }
      ]
    },
    {
      "cell_type": "code",
      "metadata": {
        "colab": {
          "base_uri": "https://localhost:8080/",
          "height": 295
        },
        "id": "j5lOCDBWaRxG",
        "outputId": "b0e63e43-d13d-4f5a-b555-d0d8ec235d74"
      },
      "source": [
        "# saif\n",
        "accuracies = [x['val_acc'] for x in history]\n",
        "plt.plot(accuracies, '-x')\n",
        "plt.xlabel('epoch')\n",
        "plt.ylabel('accuracy')\n",
        "plt.title('Accuracy vs. No. of epochs');"
      ],
      "execution_count": null,
      "outputs": [
        {
          "output_type": "display_data",
          "data": {
            "image/png": "[encoded data removed]",
            "text/plain": [
              "<Figure size 432x288 with 1 Axes>"
            ]
          },
          "metadata": {
            "needs_background": "light"
          }
        }
      ]
    },
    {
      "cell_type": "code",
      "metadata": {
        "colab": {
          "base_uri": "https://localhost:8080/",
          "height": 295
        },
        "id": "28kJvNmFpeT9",
        "scrolled": true,
        "outputId": "8d7336ba-6c62-4d09-e5d1-a7f66679d4b6"
      },
      "source": [
        "accuracies = [x['val_acc'] for x in history]\n",
        "plt.plot(accuracies, '-x')\n",
        "plt.xlabel('epoch')\n",
        "plt.ylabel('accuracy')\n",
        "plt.title('Accuracy vs. No. of epochs');"
      ],
      "execution_count": null,
      "outputs": [
        {
          "data": {
            "image/png": "[encoded data removed]",
            "text/plain": [
              "<Figure size 432x288 with 1 Axes>"
            ]
          },
          "metadata": {},
          "output_type": "display_data"
        }
      ]
    },
    {
      "cell_type": "markdown",
      "metadata": {
        "id": "zBmLGRuLpeT9"
      },
      "source": [
        "Our current model outperforms the logistic regression model (which could only achieve around 86% accuracy) by a considerable margin! It quickly reaches an accuracy of 97% but doesn't improve much beyond this. To improve accuracy further, we need to make the model more powerful by increasing the hidden layer's size or adding more hidden layers with activations. I encourage you to try out both these approaches and see which one works better."
      ]
    },
    {
      "cell_type": "markdown",
      "metadata": {
        "id": "Lf_6nWkCBGB5"
      },
      "source": [
        "## Testing with individual images\n",
        "\n",
        "While we have been tracking the overall accuracy of a model so far, it's also a good idea to look at model's results on some sample images. Let's test out our model with some images from the predefined test dataset of 10000 images. We begin by recreating the test dataset with the `ToTensor` transform."
      ]
    },
    {
      "cell_type": "code",
      "metadata": {
        "id": "ZJ6E4f-iBBTm"
      },
      "source": [
        "# Define test dataset\n",
        "test_dataset = MNIST(root='data/', \n",
        "                     train=False,\n",
        "                     transform=ToTensor())"
      ],
      "execution_count": null,
      "outputs": []
    },
    {
      "cell_type": "markdown",
      "metadata": {
        "id": "uGKvjeJXBTiN"
      },
      "source": [
        "Let's define a helper function `predict_image`, which returns the predicted label for a single image tensor."
      ]
    },
    {
      "cell_type": "code",
      "metadata": {
        "id": "ZhxrAx6LBTNG"
      },
      "source": [
        "def predict_image(img, model):\n",
        "    xb = to_device(img.unsqueeze(0), device)\n",
        "    yb = model(xb)\n",
        "    _, preds  = torch.max(yb, dim=1)\n",
        "    return preds[0].item()"
      ],
      "execution_count": null,
      "outputs": []
    },
    {
      "cell_type": "markdown",
      "metadata": {
        "id": "N4kUaLBqBZLd"
      },
      "source": [
        "Let's try it out with a few images."
      ]
    },
    {
      "cell_type": "code",
      "metadata": {
        "id": "JsNnl42DBXog",
        "outputId": "0ad147a1-89bf-4815-a158-4d5fcdf94a4a"
      },
      "source": [
        "img, label = test_dataset[0]\n",
        "plt.imshow(img[0], cmap='gray')\n",
        "print('Label:', label, ', Predicted:', predict_image(img, model))"
      ],
      "execution_count": null,
      "outputs": [
        {
          "name": "stdout",
          "output_type": "stream",
          "text": [
            "Label: 7 , Predicted: 7\n"
          ]
        },
        {
          "data": {
            "image/png": "[encoded data removed]",
            "text/plain": [
              "<Figure size 432x288 with 1 Axes>"
            ]
          },
          "metadata": {},
          "output_type": "display_data"
        }
      ]
    },
    {
      "cell_type": "code",
      "metadata": {
        "id": "lu0lN0xnBiD6",
        "outputId": "8ce850a8-0e34-4def-e0a3-9b0b600d2ba5"
      },
      "source": [
        "img, label = test_dataset[1839]\n",
        "plt.imshow(img[0], cmap='gray')\n",
        "print('Label:', label, ', Predicted:', predict_image(img, model))"
      ],
      "execution_count": null,
      "outputs": [
        {
          "name": "stdout",
          "output_type": "stream",
          "text": [
            "Label: 2 , Predicted: 2\n"
          ]
        },
        {
          "data": {
            "image/png": "[encoded data removed]",
            "text/plain": [
              "<Figure size 432x288 with 1 Axes>"
            ]
          },
          "metadata": {},
          "output_type": "display_data"
        }
      ]
    },
    {
      "cell_type": "code",
      "metadata": {
        "id": "ZpzxiYHjBliK",
        "outputId": "6decc3cb-d751-499b-f870-8b5e7edd31eb"
      },
      "source": [
        "img, label = test_dataset[193]\n",
        "plt.imshow(img[0], cmap='gray')\n",
        "print('Label:', label, ', Predicted:', predict_image(img, model))"
      ],
      "execution_count": null,
      "outputs": [
        {
          "name": "stdout",
          "output_type": "stream",
          "text": [
            "Label: 9 , Predicted: 9\n"
          ]
        },
        {
          "data": {
            "image/png": "[encoded data removed]",
            "text/plain": [
              "<Figure size 432x288 with 1 Axes>"
            ]
          },
          "metadata": {},
          "output_type": "display_data"
        }
      ]
    },
    {
      "cell_type": "markdown",
      "metadata": {
        "id": "RqG62k05BqpC"
      },
      "source": [
        "Identifying where our model performs poorly can help us improve the model, by collecting more training data, increasing/decreasing the complexity of the model, and changing the hypeparameters.\n",
        "\n",
        "As a final step, let's also look at the overall loss and accuracy of the model on the test set."
      ]
    },
    {
      "cell_type": "code",
      "metadata": {
        "id": "rvNoyn0RBtBm",
        "outputId": "7365dae6-6774-41cb-dad4-e580bdeac508"
      },
      "source": [
        "test_loader = DeviceDataLoader(DataLoader(test_dataset, batch_size=256), device)\n",
        "result = evaluate(model, test_loader)\n",
        "result"
      ],
      "execution_count": null,
      "outputs": [
        {
          "data": {
            "text/plain": [
              "{'val_loss': 0.09472835808992386, 'val_acc': 0.971484363079071}"
            ]
          },
          "execution_count": 74,
          "metadata": {},
          "output_type": "execute_result"
        }
      ]
    },
    {
      "cell_type": "markdown",
      "metadata": {
        "id": "CZz2M4WPBzlT"
      },
      "source": [
        "We expect this to be similar to the accuracy/loss on the validation set. If not, we might need a better validation set that has similar data and distribution as the test set (which often comes from real world data)."
      ]
    },
    {
      "cell_type": "markdown",
      "metadata": {
        "id": "DPk8QvFo9z3C"
      },
      "source": [
        "## Exercises\n",
        "\n",
        "Try out the following exercises to apply the concepts and techniques you have learned so far:\n",
        "\n",
        "* Coding exercises on end-to-end model training: https://jovian.ai/aakashns/03-cifar10-feedforward\n",
        "* Starter notebook for deep learning models:  https://jovian.ai/aakashns/fashion-feedforward-minimal\n",
        "\n",
        "Training great machine learning models reliably takes practice and experience. Try experimenting with different datasets, models and hyperparameters, it's the best way to acquire this skill."
      ]
    },
    {
      "cell_type": "markdown",
      "metadata": {
        "id": "sSSOi-g_peT-"
      },
      "source": [
        "## Summary and Further Reading\n",
        "\n",
        "Here is a summary of the topics covered in this tutorial:\n",
        "\n",
        "* We created a neural network with one hidden layer to improve upon the logistic regression model from the previous tutorial. We also used the ReLU activation function to introduce non-linearity into the model, allowing it to learn more complex relationships between the inputs (pixel densities) and outputs (class probabilities).\n",
        "\n",
        "* We defined some utilities like `get_default_device`, `to_device` and `DeviceDataLoader` to leverage a GPU if available, by moving the input data and model parameters to the appropriate device.\n",
        "\n",
        "* We were able to use the exact same training loop: the `fit` function we had define earlier to train out model and evaluate it using the validation dataset.\n",
        "\n",
        "There's a lot of scope to experiment here, and I encourage you to use the interactive nature of Jupyter to play around with the various parameters. Here are a few ideas:\n",
        "\n",
        "* Try changing the size of the hidden layer, or add more hidden layers and see if you can achieve a higher accuracy.\n",
        "\n",
        "* Try changing the batch size and learning rate to see if you can achieve the same accuracy in fewer epochs.\n",
        "\n",
        "* Compare the training times on a CPU vs. GPU. Do you see a significant difference. How does it vary with the size of the dataset and the size of the model (no. of weights and parameters)?\n",
        "\n",
        "* Try building a model for a different dataset, such as the [CIFAR10 or CIFAR100 datasets](https://www.cs.toronto.edu/~kriz/cifar.html).\n",
        "\n",
        "Here are some references for further reading:\n",
        "\n",
        "* [A visual proof that neural networks can compute any function](http://neuralnetworksanddeeplearning.com/chap4.html), also known as the Universal Approximation Theorem.\n",
        "\n",
        "* [But what *is* a neural network?](https://www.youtube.com/watch?v=aircAruvnKk) - A visual and intuitive introduction to what neural networks are and what the intermediate layers represent\n",
        "\n",
        "* [Stanford CS229 Lecture notes on Backpropagation](http://cs229.stanford.edu/notes/cs229-notes-backprop.pdf) - for a more mathematical treatment of how gradients are calculated and weights are updated for neural networks with multiple layers.\n",
        "\n",
        "\n",
        "You are now ready to move on to the next tutorial: [Image Classification using Convolutional Neural Networks](https://jovian.ai/aakashns/05-cifar10-cnn)."
      ]
    }
  ]
}